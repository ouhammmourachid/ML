{
 "cells": [
  {
   "cell_type": "code",
   "execution_count": 13,
   "metadata": {
    "collapsed": true
   },
   "outputs": [
    {
     "name": "stdout",
     "output_type": "stream",
     "text": [
      "1.0\n"
     ]
    }
   ],
   "source": [
    "from numpy import *\n",
    "import pandas\n",
    "df = pandas.DataFrame([[0,1,'C1'],[0,0,'C1'],[1,1,'C2'],[1,0,'C2']],columns=['A', 'B', 'Classes'])\n",
    "df=df.to_numpy()\n",
    "\n",
    "def Entropie(S):\n",
    "    classes_distinctes=set(S[:,-1])\n",
    "    classes=list(S[:,-1])\n",
    "    s=0\n",
    "    for c in classes_distinctes:\n",
    "        p=classes.count(c)/len(classes)\n",
    "        s+=p*log2(p)\n",
    "    return(-1.0*s)\n",
    "print(Entropie(df))"
   ]
  },
  {
   "cell_type": "code",
   "execution_count": 16,
   "outputs": [
    {
     "data": {
      "text/plain": "   A  B Classes\n0  1  1      C1\n1  0  0      C1\n2  1  1      C1\n3  0  0      C1",
      "text/html": "<div>\n<style scoped>\n    .dataframe tbody tr th:only-of-type {\n        vertical-align: middle;\n    }\n\n    .dataframe tbody tr th {\n        vertical-align: top;\n    }\n\n    .dataframe thead th {\n        text-align: right;\n    }\n</style>\n<table border=\"1\" class=\"dataframe\">\n  <thead>\n    <tr style=\"text-align: right;\">\n      <th></th>\n      <th>A</th>\n      <th>B</th>\n      <th>Classes</th>\n    </tr>\n  </thead>\n  <tbody>\n    <tr>\n      <th>0</th>\n      <td>1</td>\n      <td>1</td>\n      <td>C1</td>\n    </tr>\n    <tr>\n      <th>1</th>\n      <td>0</td>\n      <td>0</td>\n      <td>C1</td>\n    </tr>\n    <tr>\n      <th>2</th>\n      <td>1</td>\n      <td>1</td>\n      <td>C1</td>\n    </tr>\n    <tr>\n      <th>3</th>\n      <td>0</td>\n      <td>0</td>\n      <td>C1</td>\n    </tr>\n  </tbody>\n</table>\n</div>"
     },
     "execution_count": 16,
     "metadata": {},
     "output_type": "execute_result"
    }
   ],
   "source": [
    "df = pandas.DataFrame([[1,1,'C1'],[0,0,'C1'],[1,1,'C1'],[0,0,'C1']],columns=['A', 'B', 'Classes'])\n",
    "df"
   ],
   "metadata": {
    "collapsed": false
   }
  },
  {
   "cell_type": "code",
   "execution_count": 17,
   "outputs": [
    {
     "data": {
      "text/plain": "-0.0"
     },
     "execution_count": 17,
     "metadata": {},
     "output_type": "execute_result"
    }
   ],
   "source": [
    "Entropie(df.to_numpy())"
   ],
   "metadata": {
    "collapsed": false
   }
  },
  {
   "cell_type": "code",
   "execution_count": 25,
   "outputs": [
    {
     "data": {
      "text/plain": "1.5"
     },
     "execution_count": 25,
     "metadata": {},
     "output_type": "execute_result"
    }
   ],
   "source": [
    "df = pandas.DataFrame([[1,1,'C1'],[0,0,'C1'],[1,1,'C2'],[0,0,'C3']],columns=['A', 'B', 'Classes'])\n",
    "df\n",
    "Entropie(df.to_numpy())"
   ],
   "metadata": {
    "collapsed": false
   }
  },
  {
   "cell_type": "code",
   "execution_count": 26,
   "outputs": [],
   "source": [
    "def Gain_d_information(S,numero_colon_attribut):\n",
    "    classes=list(set(S[:,-1]))\n",
    "    valeurs_attribut=list(set(S[:,numero_colon_attribut]))\n",
    "    Si=[[] for i in range(len(valeurs_attribut))]\n",
    "    for e in S:\n",
    "        e=list(e)\n",
    "        val_attribut_pour_e=e[numero_colon_attribut]\n",
    "        numero_sous_ensemble=valeurs_attribut.index(val_attribut_pour_e)\n",
    "        Si[numero_sous_ensemble].append(e)\n",
    "    Si=array(Si) ; som=0\n",
    "    for sous_ensemble in Si:\n",
    "        som+=(len(sous_ensemble)/len(S))*Entropie(sous_ensemble)\n",
    "    return(Entropie(S)-som)"
   ],
   "metadata": {
    "collapsed": false
   }
  },
  {
   "cell_type": "code",
   "execution_count": null,
   "outputs": [],
   "source": [
    "def mesure_desordre(S, numero_colon_attribut):\n",
    "    bonne_mesure_desordre = +inf\n",
    "    bonne_valeur_de_repartition = 0\n",
    "    classes = list(set(S[:-1]))\n",
    "    valeurs_attribut = list(set(S[:numero_colon_attribut]))\n",
    "    valeurs_attribut.sort()\n",
    "    Gauche = []\n",
    "    Droite = []\n",
    "    for i in range(len(valeurs_attribut)-1):\n",
    "        v = valeurs_attribut[i]\n",
    "        Gauche.clear()\n",
    "        Droite.clear()\n",
    "        for e in S:\n",
    "            val_attribut_pour_e = e[numero_colon_attribut]\n",
    "            if val_attribut_pour_e <= v:\n",
    "                Gauche.append(e)\n",
    "            else:\n",
    "                Droite.append(e)\n",
    "        pGau = len(Gauche)/len(S)\n",
    "        pDr = len(Droite)/len(S)\n",
    "        mesure = pGau*G"
   ],
   "metadata": {
    "collapsed": false
   }
  }
 ],
 "metadata": {
  "kernelspec": {
   "display_name": "Python 3",
   "language": "python",
   "name": "python3"
  },
  "language_info": {
   "codemirror_mode": {
    "name": "ipython",
    "version": 2
   },
   "file_extension": ".py",
   "mimetype": "text/x-python",
   "name": "python",
   "nbconvert_exporter": "python",
   "pygments_lexer": "ipython2",
   "version": "2.7.6"
  }
 },
 "nbformat": 4,
 "nbformat_minor": 0
}
