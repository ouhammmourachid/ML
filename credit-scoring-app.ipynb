{
 "cells": [
  {
   "cell_type": "markdown",
   "source": [
    "# Credit Scoring App:\n",
    "Case study :\n",
    "The process of accepting a consumer credit must be very fast in\n",
    "especially when customers require store credit at checkout.\n",
    "purchase (example: payment in three installments free of charge, etc.).\n",
    "For a very long time, banks and credit organizations have developed\n",
    "automatic and instant methods of rating the creditworthiness of customers and\n",
    "their ability to repay the loan. These tools are very useful for an acceptance\n",
    "rapid credit granting, but also to determine the amount of the envelope\n",
    "credit authorization or to monitor the risk of customers and\n",
    "loan portfolios.\n",
    "Credit score is a function that assigns a credit quality value to a\n",
    "customer or a loan according to explanatory variables such as the debt ratio\n",
    "of the borrower, his account behavior or any other quantity that is\n",
    "correlated to borrower default.\n",
    "\n",
    "### 1-set up the environment:"
   ],
   "metadata": {
    "collapsed": false
   }
  },
  {
   "cell_type": "code",
   "execution_count": 51,
   "outputs": [
    {
     "name": "stdout",
     "output_type": "stream",
     "text": [
      "set up completed\n"
     ]
    }
   ],
   "source": [
    "import numpy as np\n",
    "import pandas as pd\n",
    "import matplotlib.pyplot as plt\n",
    "import seaborn  as sns\n",
    "from sklearn.ensemble import RandomForestClassifier\n",
    "from sklearn.model_selection import train_test_split\n",
    "from sklearn.feature_selection import mutual_info_classif\n",
    "from sklearn.preprocessing import OneHotEncoder\n",
    "from sklearn.impute import SimpleImputer\n",
    "from sklearn.pipeline import Pipeline\n",
    "from sklearn.compose import ColumnTransformer\n",
    "from sklearn.metrics import f1_score\n",
    "from sklearn.model_selection import cross_val_score\n",
    "from tqdm import notebook\n",
    "import warnings\n",
    "%matplotlib inline\n",
    "warnings.filterwarnings('ignore')\n",
    "print(\"set up completed\")"
   ],
   "metadata": {
    "collapsed": false
   }
  },
  {
   "cell_type": "markdown",
   "source": [
    "### 2-load the data:"
   ],
   "metadata": {
    "collapsed": false
   }
  },
  {
   "cell_type": "code",
   "execution_count": 52,
   "metadata": {
    "collapsed": true
   },
   "outputs": [],
   "source": [
    "df = pd.read_csv(\"./CreditScoring.csv\")"
   ]
  },
  {
   "cell_type": "code",
   "execution_count": 53,
   "outputs": [
    {
     "data": {
      "text/plain": "(5960, 13)"
     },
     "execution_count": 53,
     "metadata": {},
     "output_type": "execute_result"
    }
   ],
   "source": [
    "df.shape"
   ],
   "metadata": {
    "collapsed": false
   }
  },
  {
   "cell_type": "code",
   "execution_count": 54,
   "outputs": [
    {
     "data": {
      "text/plain": "   BAD  LOAN  MORTDUE     VALUE   REASON     JOB   YOJ  DEROG  DELINQ  \\\n0    1  1100  25860.0   39025.0  HomeImp   Other  10.5    0.0     0.0   \n1    1  1300  70053.0   68400.0  HomeImp   Other   7.0    0.0     2.0   \n2    1  1500  13500.0   16700.0  HomeImp   Other   4.0    0.0     0.0   \n3    1  1500      NaN       NaN      NaN     NaN   NaN    NaN     NaN   \n4    0  1700  97800.0  112000.0  HomeImp  Office   3.0    0.0     0.0   \n\n        CLAGE  NINQ  CLNO  DEBTINC  \n0   94.366667   1.0   9.0      NaN  \n1  121.833333   0.0  14.0      NaN  \n2  149.466667   1.0  10.0      NaN  \n3         NaN   NaN   NaN      NaN  \n4   93.333333   0.0  14.0      NaN  ",
      "text/html": "<div>\n<style scoped>\n    .dataframe tbody tr th:only-of-type {\n        vertical-align: middle;\n    }\n\n    .dataframe tbody tr th {\n        vertical-align: top;\n    }\n\n    .dataframe thead th {\n        text-align: right;\n    }\n</style>\n<table border=\"1\" class=\"dataframe\">\n  <thead>\n    <tr style=\"text-align: right;\">\n      <th></th>\n      <th>BAD</th>\n      <th>LOAN</th>\n      <th>MORTDUE</th>\n      <th>VALUE</th>\n      <th>REASON</th>\n      <th>JOB</th>\n      <th>YOJ</th>\n      <th>DEROG</th>\n      <th>DELINQ</th>\n      <th>CLAGE</th>\n      <th>NINQ</th>\n      <th>CLNO</th>\n      <th>DEBTINC</th>\n    </tr>\n  </thead>\n  <tbody>\n    <tr>\n      <th>0</th>\n      <td>1</td>\n      <td>1100</td>\n      <td>25860.0</td>\n      <td>39025.0</td>\n      <td>HomeImp</td>\n      <td>Other</td>\n      <td>10.5</td>\n      <td>0.0</td>\n      <td>0.0</td>\n      <td>94.366667</td>\n      <td>1.0</td>\n      <td>9.0</td>\n      <td>NaN</td>\n    </tr>\n    <tr>\n      <th>1</th>\n      <td>1</td>\n      <td>1300</td>\n      <td>70053.0</td>\n      <td>68400.0</td>\n      <td>HomeImp</td>\n      <td>Other</td>\n      <td>7.0</td>\n      <td>0.0</td>\n      <td>2.0</td>\n      <td>121.833333</td>\n      <td>0.0</td>\n      <td>14.0</td>\n      <td>NaN</td>\n    </tr>\n    <tr>\n      <th>2</th>\n      <td>1</td>\n      <td>1500</td>\n      <td>13500.0</td>\n      <td>16700.0</td>\n      <td>HomeImp</td>\n      <td>Other</td>\n      <td>4.0</td>\n      <td>0.0</td>\n      <td>0.0</td>\n      <td>149.466667</td>\n      <td>1.0</td>\n      <td>10.0</td>\n      <td>NaN</td>\n    </tr>\n    <tr>\n      <th>3</th>\n      <td>1</td>\n      <td>1500</td>\n      <td>NaN</td>\n      <td>NaN</td>\n      <td>NaN</td>\n      <td>NaN</td>\n      <td>NaN</td>\n      <td>NaN</td>\n      <td>NaN</td>\n      <td>NaN</td>\n      <td>NaN</td>\n      <td>NaN</td>\n      <td>NaN</td>\n    </tr>\n    <tr>\n      <th>4</th>\n      <td>0</td>\n      <td>1700</td>\n      <td>97800.0</td>\n      <td>112000.0</td>\n      <td>HomeImp</td>\n      <td>Office</td>\n      <td>3.0</td>\n      <td>0.0</td>\n      <td>0.0</td>\n      <td>93.333333</td>\n      <td>0.0</td>\n      <td>14.0</td>\n      <td>NaN</td>\n    </tr>\n  </tbody>\n</table>\n</div>"
     },
     "execution_count": 54,
     "metadata": {},
     "output_type": "execute_result"
    }
   ],
   "source": [
    "df.head()"
   ],
   "metadata": {
    "collapsed": false
   }
  },
  {
   "cell_type": "code",
   "execution_count": 55,
   "outputs": [
    {
     "data": {
      "text/plain": "      BAD   LOAN  MORTDUE    VALUE   REASON    JOB   YOJ  DEROG  DELINQ  \\\n5955    0  88900  57264.0  90185.0  DebtCon  Other  16.0    0.0     0.0   \n5956    0  89000  54576.0  92937.0  DebtCon  Other  16.0    0.0     0.0   \n5957    0  89200  54045.0  92924.0  DebtCon  Other  15.0    0.0     0.0   \n5958    0  89800  50370.0  91861.0  DebtCon  Other  14.0    0.0     0.0   \n5959    0  89900  48811.0  88934.0  DebtCon  Other  15.0    0.0     0.0   \n\n           CLAGE  NINQ  CLNO    DEBTINC  \n5955  221.808718   0.0  16.0  36.112347  \n5956  208.692070   0.0  15.0  35.859971  \n5957  212.279697   0.0  15.0  35.556590  \n5958  213.892709   0.0  16.0  34.340882  \n5959  219.601002   0.0  16.0  34.571519  ",
      "text/html": "<div>\n<style scoped>\n    .dataframe tbody tr th:only-of-type {\n        vertical-align: middle;\n    }\n\n    .dataframe tbody tr th {\n        vertical-align: top;\n    }\n\n    .dataframe thead th {\n        text-align: right;\n    }\n</style>\n<table border=\"1\" class=\"dataframe\">\n  <thead>\n    <tr style=\"text-align: right;\">\n      <th></th>\n      <th>BAD</th>\n      <th>LOAN</th>\n      <th>MORTDUE</th>\n      <th>VALUE</th>\n      <th>REASON</th>\n      <th>JOB</th>\n      <th>YOJ</th>\n      <th>DEROG</th>\n      <th>DELINQ</th>\n      <th>CLAGE</th>\n      <th>NINQ</th>\n      <th>CLNO</th>\n      <th>DEBTINC</th>\n    </tr>\n  </thead>\n  <tbody>\n    <tr>\n      <th>5955</th>\n      <td>0</td>\n      <td>88900</td>\n      <td>57264.0</td>\n      <td>90185.0</td>\n      <td>DebtCon</td>\n      <td>Other</td>\n      <td>16.0</td>\n      <td>0.0</td>\n      <td>0.0</td>\n      <td>221.808718</td>\n      <td>0.0</td>\n      <td>16.0</td>\n      <td>36.112347</td>\n    </tr>\n    <tr>\n      <th>5956</th>\n      <td>0</td>\n      <td>89000</td>\n      <td>54576.0</td>\n      <td>92937.0</td>\n      <td>DebtCon</td>\n      <td>Other</td>\n      <td>16.0</td>\n      <td>0.0</td>\n      <td>0.0</td>\n      <td>208.692070</td>\n      <td>0.0</td>\n      <td>15.0</td>\n      <td>35.859971</td>\n    </tr>\n    <tr>\n      <th>5957</th>\n      <td>0</td>\n      <td>89200</td>\n      <td>54045.0</td>\n      <td>92924.0</td>\n      <td>DebtCon</td>\n      <td>Other</td>\n      <td>15.0</td>\n      <td>0.0</td>\n      <td>0.0</td>\n      <td>212.279697</td>\n      <td>0.0</td>\n      <td>15.0</td>\n      <td>35.556590</td>\n    </tr>\n    <tr>\n      <th>5958</th>\n      <td>0</td>\n      <td>89800</td>\n      <td>50370.0</td>\n      <td>91861.0</td>\n      <td>DebtCon</td>\n      <td>Other</td>\n      <td>14.0</td>\n      <td>0.0</td>\n      <td>0.0</td>\n      <td>213.892709</td>\n      <td>0.0</td>\n      <td>16.0</td>\n      <td>34.340882</td>\n    </tr>\n    <tr>\n      <th>5959</th>\n      <td>0</td>\n      <td>89900</td>\n      <td>48811.0</td>\n      <td>88934.0</td>\n      <td>DebtCon</td>\n      <td>Other</td>\n      <td>15.0</td>\n      <td>0.0</td>\n      <td>0.0</td>\n      <td>219.601002</td>\n      <td>0.0</td>\n      <td>16.0</td>\n      <td>34.571519</td>\n    </tr>\n  </tbody>\n</table>\n</div>"
     },
     "execution_count": 55,
     "metadata": {},
     "output_type": "execute_result"
    }
   ],
   "source": [
    "df.tail()"
   ],
   "metadata": {
    "collapsed": false
   }
  },
  {
   "cell_type": "code",
   "execution_count": 56,
   "outputs": [
    {
     "data": {
      "text/plain": "BAD          int64\nLOAN         int64\nMORTDUE    float64\nVALUE      float64\nREASON      object\nJOB         object\nYOJ        float64\nDEROG      float64\nDELINQ     float64\nCLAGE      float64\nNINQ       float64\nCLNO       float64\nDEBTINC    float64\ndtype: object"
     },
     "execution_count": 56,
     "metadata": {},
     "output_type": "execute_result"
    }
   ],
   "source": [
    "df.dtypes"
   ],
   "metadata": {
    "collapsed": false
   }
  },
  {
   "cell_type": "code",
   "execution_count": 57,
   "outputs": [
    {
     "data": {
      "text/plain": "Index(['BAD', 'LOAN', 'MORTDUE', 'VALUE', 'REASON', 'JOB', 'YOJ', 'DEROG',\n       'DELINQ', 'CLAGE', 'NINQ', 'CLNO', 'DEBTINC'],\n      dtype='object')"
     },
     "execution_count": 57,
     "metadata": {},
     "output_type": "execute_result"
    }
   ],
   "source": [
    "df.columns"
   ],
   "metadata": {
    "collapsed": false
   }
  },
  {
   "cell_type": "code",
   "execution_count": 58,
   "outputs": [
    {
     "data": {
      "text/plain": "               BAD          LOAN        MORTDUE          VALUE          YOJ  \\\ncount  5960.000000   5960.000000    5442.000000    5848.000000  5445.000000   \nmean      0.199497  18607.969799   73760.817200  101776.048741     8.922268   \nstd       0.399656  11207.480417   44457.609458   57385.775334     7.573982   \nmin       0.000000   1100.000000    2063.000000    8000.000000     0.000000   \n25%       0.000000  11100.000000   46276.000000   66075.500000     3.000000   \n50%       0.000000  16300.000000   65019.000000   89235.500000     7.000000   \n75%       0.000000  23300.000000   91488.000000  119824.250000    13.000000   \nmax       1.000000  89900.000000  399550.000000  855909.000000    41.000000   \n\n             DEROG       DELINQ        CLAGE         NINQ         CLNO  \\\ncount  5252.000000  5380.000000  5652.000000  5450.000000  5738.000000   \nmean      0.254570     0.449442   179.766275     1.186055    21.296096   \nstd       0.846047     1.127266    85.810092     1.728675    10.138933   \nmin       0.000000     0.000000     0.000000     0.000000     0.000000   \n25%       0.000000     0.000000   115.116702     0.000000    15.000000   \n50%       0.000000     0.000000   173.466667     1.000000    20.000000   \n75%       0.000000     0.000000   231.562278     2.000000    26.000000   \nmax      10.000000    15.000000  1168.233561    17.000000    71.000000   \n\n           DEBTINC  \ncount  4693.000000  \nmean     33.779915  \nstd       8.601746  \nmin       0.524499  \n25%      29.140031  \n50%      34.818262  \n75%      39.003141  \nmax     203.312149  ",
      "text/html": "<div>\n<style scoped>\n    .dataframe tbody tr th:only-of-type {\n        vertical-align: middle;\n    }\n\n    .dataframe tbody tr th {\n        vertical-align: top;\n    }\n\n    .dataframe thead th {\n        text-align: right;\n    }\n</style>\n<table border=\"1\" class=\"dataframe\">\n  <thead>\n    <tr style=\"text-align: right;\">\n      <th></th>\n      <th>BAD</th>\n      <th>LOAN</th>\n      <th>MORTDUE</th>\n      <th>VALUE</th>\n      <th>YOJ</th>\n      <th>DEROG</th>\n      <th>DELINQ</th>\n      <th>CLAGE</th>\n      <th>NINQ</th>\n      <th>CLNO</th>\n      <th>DEBTINC</th>\n    </tr>\n  </thead>\n  <tbody>\n    <tr>\n      <th>count</th>\n      <td>5960.000000</td>\n      <td>5960.000000</td>\n      <td>5442.000000</td>\n      <td>5848.000000</td>\n      <td>5445.000000</td>\n      <td>5252.000000</td>\n      <td>5380.000000</td>\n      <td>5652.000000</td>\n      <td>5450.000000</td>\n      <td>5738.000000</td>\n      <td>4693.000000</td>\n    </tr>\n    <tr>\n      <th>mean</th>\n      <td>0.199497</td>\n      <td>18607.969799</td>\n      <td>73760.817200</td>\n      <td>101776.048741</td>\n      <td>8.922268</td>\n      <td>0.254570</td>\n      <td>0.449442</td>\n      <td>179.766275</td>\n      <td>1.186055</td>\n      <td>21.296096</td>\n      <td>33.779915</td>\n    </tr>\n    <tr>\n      <th>std</th>\n      <td>0.399656</td>\n      <td>11207.480417</td>\n      <td>44457.609458</td>\n      <td>57385.775334</td>\n      <td>7.573982</td>\n      <td>0.846047</td>\n      <td>1.127266</td>\n      <td>85.810092</td>\n      <td>1.728675</td>\n      <td>10.138933</td>\n      <td>8.601746</td>\n    </tr>\n    <tr>\n      <th>min</th>\n      <td>0.000000</td>\n      <td>1100.000000</td>\n      <td>2063.000000</td>\n      <td>8000.000000</td>\n      <td>0.000000</td>\n      <td>0.000000</td>\n      <td>0.000000</td>\n      <td>0.000000</td>\n      <td>0.000000</td>\n      <td>0.000000</td>\n      <td>0.524499</td>\n    </tr>\n    <tr>\n      <th>25%</th>\n      <td>0.000000</td>\n      <td>11100.000000</td>\n      <td>46276.000000</td>\n      <td>66075.500000</td>\n      <td>3.000000</td>\n      <td>0.000000</td>\n      <td>0.000000</td>\n      <td>115.116702</td>\n      <td>0.000000</td>\n      <td>15.000000</td>\n      <td>29.140031</td>\n    </tr>\n    <tr>\n      <th>50%</th>\n      <td>0.000000</td>\n      <td>16300.000000</td>\n      <td>65019.000000</td>\n      <td>89235.500000</td>\n      <td>7.000000</td>\n      <td>0.000000</td>\n      <td>0.000000</td>\n      <td>173.466667</td>\n      <td>1.000000</td>\n      <td>20.000000</td>\n      <td>34.818262</td>\n    </tr>\n    <tr>\n      <th>75%</th>\n      <td>0.000000</td>\n      <td>23300.000000</td>\n      <td>91488.000000</td>\n      <td>119824.250000</td>\n      <td>13.000000</td>\n      <td>0.000000</td>\n      <td>0.000000</td>\n      <td>231.562278</td>\n      <td>2.000000</td>\n      <td>26.000000</td>\n      <td>39.003141</td>\n    </tr>\n    <tr>\n      <th>max</th>\n      <td>1.000000</td>\n      <td>89900.000000</td>\n      <td>399550.000000</td>\n      <td>855909.000000</td>\n      <td>41.000000</td>\n      <td>10.000000</td>\n      <td>15.000000</td>\n      <td>1168.233561</td>\n      <td>17.000000</td>\n      <td>71.000000</td>\n      <td>203.312149</td>\n    </tr>\n  </tbody>\n</table>\n</div>"
     },
     "execution_count": 58,
     "metadata": {},
     "output_type": "execute_result"
    }
   ],
   "source": [
    "df.describe()"
   ],
   "metadata": {
    "collapsed": false
   }
  },
  {
   "cell_type": "markdown",
   "source": [
    "#### missing value ."
   ],
   "metadata": {
    "collapsed": false
   }
  },
  {
   "cell_type": "code",
   "execution_count": 59,
   "outputs": [
    {
     "data": {
      "text/plain": "BAD           0\nLOAN          0\nMORTDUE     518\nVALUE       112\nREASON      252\nJOB         279\nYOJ         515\nDEROG       708\nDELINQ      580\nCLAGE       308\nNINQ        510\nCLNO        222\nDEBTINC    1267\ndtype: int64"
     },
     "execution_count": 59,
     "metadata": {},
     "output_type": "execute_result"
    }
   ],
   "source": [
    "df.isna().sum()"
   ],
   "metadata": {
    "collapsed": false
   }
  },
  {
   "cell_type": "code",
   "execution_count": 60,
   "outputs": [
    {
     "data": {
      "text/plain": "0    4771\n1    1189\nName: BAD, dtype: int64"
     },
     "execution_count": 60,
     "metadata": {},
     "output_type": "execute_result"
    }
   ],
   "source": [
    "df.BAD.value_counts()"
   ],
   "metadata": {
    "collapsed": false
   }
  },
  {
   "cell_type": "markdown",
   "source": [
    "### 3-calculate information Gain:\n",
    "Mutual information is calculated between two variables and measures the reduction in uncertainty for one variable given a known value of the other variable. A quantity called mutual information measures the amount of information one can obtain from one random variable given another."
   ],
   "metadata": {
    "collapsed": false
   }
  },
  {
   "cell_type": "code",
   "execution_count": 61,
   "outputs": [],
   "source": [
    "def make_mi_scores(x:pd.DataFrame, y:pd.DataFrame) -> pd.DataFrame:\n",
    "    mi_scores = mutual_info_classif(x,y)\n",
    "    mi_scores = pd.DataFrame(mi_scores, index=x.columns,columns=[\"score\"])\n",
    "    mi_scores = mi_scores.sort_values(by=\"score\",ascending=False)\n",
    "    return mi_scores"
   ],
   "metadata": {
    "collapsed": false
   }
  },
  {
   "cell_type": "code",
   "execution_count": 62,
   "outputs": [],
   "source": [
    "df_for_score = df.copy()"
   ],
   "metadata": {
    "collapsed": false
   }
  },
  {
   "cell_type": "code",
   "execution_count": 63,
   "outputs": [
    {
     "data": {
      "text/plain": "array(['HomeImp', nan, 'DebtCon'], dtype=object)"
     },
     "execution_count": 63,
     "metadata": {},
     "output_type": "execute_result"
    }
   ],
   "source": [
    "df_for_score.REASON.unique()"
   ],
   "metadata": {
    "collapsed": false
   }
  },
  {
   "cell_type": "code",
   "execution_count": 64,
   "outputs": [
    {
     "data": {
      "text/plain": "array(['Other', nan, 'Office', 'Sales', 'Mgr', 'ProfExe', 'Self'],\n      dtype=object)"
     },
     "execution_count": 64,
     "metadata": {},
     "output_type": "execute_result"
    }
   ],
   "source": [
    "df_for_score.JOB.unique()"
   ],
   "metadata": {
    "collapsed": false
   }
  },
  {
   "cell_type": "code",
   "execution_count": 65,
   "outputs": [],
   "source": [
    "reason_mapping = {\n",
    "    \"HomeImp\":0,\n",
    "    \"DebtCon\":1\n",
    "}\n",
    "job_mapping = {\n",
    "    \"Other\":0,\n",
    "    \"Office\":1,\n",
    "    \"Sales\":2,\n",
    "    \"Mgr\":3,\n",
    "    \"ProfExe\":4,\n",
    "    \"Self\":5\n",
    "}"
   ],
   "metadata": {
    "collapsed": false
   }
  },
  {
   "cell_type": "code",
   "execution_count": 66,
   "outputs": [],
   "source": [
    "df_for_score.REASON = df_for_score.REASON.map(reason_mapping)\n",
    "df_for_score.JOB = df_for_score.JOB.map(job_mapping)"
   ],
   "metadata": {
    "collapsed": false
   }
  },
  {
   "cell_type": "code",
   "execution_count": 67,
   "outputs": [
    {
     "data": {
      "text/plain": "   BAD  LOAN  MORTDUE     VALUE  REASON  JOB   YOJ  DEROG  DELINQ       CLAGE  \\\n0    1  1100  25860.0   39025.0     0.0  0.0  10.5    0.0     0.0   94.366667   \n1    1  1300  70053.0   68400.0     0.0  0.0   7.0    0.0     2.0  121.833333   \n2    1  1500  13500.0   16700.0     0.0  0.0   4.0    0.0     0.0  149.466667   \n3    1  1500      NaN       NaN     NaN  NaN   NaN    NaN     NaN         NaN   \n4    0  1700  97800.0  112000.0     0.0  1.0   3.0    0.0     0.0   93.333333   \n\n   NINQ  CLNO  DEBTINC  \n0   1.0   9.0      NaN  \n1   0.0  14.0      NaN  \n2   1.0  10.0      NaN  \n3   NaN   NaN      NaN  \n4   0.0  14.0      NaN  ",
      "text/html": "<div>\n<style scoped>\n    .dataframe tbody tr th:only-of-type {\n        vertical-align: middle;\n    }\n\n    .dataframe tbody tr th {\n        vertical-align: top;\n    }\n\n    .dataframe thead th {\n        text-align: right;\n    }\n</style>\n<table border=\"1\" class=\"dataframe\">\n  <thead>\n    <tr style=\"text-align: right;\">\n      <th></th>\n      <th>BAD</th>\n      <th>LOAN</th>\n      <th>MORTDUE</th>\n      <th>VALUE</th>\n      <th>REASON</th>\n      <th>JOB</th>\n      <th>YOJ</th>\n      <th>DEROG</th>\n      <th>DELINQ</th>\n      <th>CLAGE</th>\n      <th>NINQ</th>\n      <th>CLNO</th>\n      <th>DEBTINC</th>\n    </tr>\n  </thead>\n  <tbody>\n    <tr>\n      <th>0</th>\n      <td>1</td>\n      <td>1100</td>\n      <td>25860.0</td>\n      <td>39025.0</td>\n      <td>0.0</td>\n      <td>0.0</td>\n      <td>10.5</td>\n      <td>0.0</td>\n      <td>0.0</td>\n      <td>94.366667</td>\n      <td>1.0</td>\n      <td>9.0</td>\n      <td>NaN</td>\n    </tr>\n    <tr>\n      <th>1</th>\n      <td>1</td>\n      <td>1300</td>\n      <td>70053.0</td>\n      <td>68400.0</td>\n      <td>0.0</td>\n      <td>0.0</td>\n      <td>7.0</td>\n      <td>0.0</td>\n      <td>2.0</td>\n      <td>121.833333</td>\n      <td>0.0</td>\n      <td>14.0</td>\n      <td>NaN</td>\n    </tr>\n    <tr>\n      <th>2</th>\n      <td>1</td>\n      <td>1500</td>\n      <td>13500.0</td>\n      <td>16700.0</td>\n      <td>0.0</td>\n      <td>0.0</td>\n      <td>4.0</td>\n      <td>0.0</td>\n      <td>0.0</td>\n      <td>149.466667</td>\n      <td>1.0</td>\n      <td>10.0</td>\n      <td>NaN</td>\n    </tr>\n    <tr>\n      <th>3</th>\n      <td>1</td>\n      <td>1500</td>\n      <td>NaN</td>\n      <td>NaN</td>\n      <td>NaN</td>\n      <td>NaN</td>\n      <td>NaN</td>\n      <td>NaN</td>\n      <td>NaN</td>\n      <td>NaN</td>\n      <td>NaN</td>\n      <td>NaN</td>\n      <td>NaN</td>\n    </tr>\n    <tr>\n      <th>4</th>\n      <td>0</td>\n      <td>1700</td>\n      <td>97800.0</td>\n      <td>112000.0</td>\n      <td>0.0</td>\n      <td>1.0</td>\n      <td>3.0</td>\n      <td>0.0</td>\n      <td>0.0</td>\n      <td>93.333333</td>\n      <td>0.0</td>\n      <td>14.0</td>\n      <td>NaN</td>\n    </tr>\n  </tbody>\n</table>\n</div>"
     },
     "execution_count": 67,
     "metadata": {},
     "output_type": "execute_result"
    }
   ],
   "source": [
    "df_for_score.head()"
   ],
   "metadata": {
    "collapsed": false
   }
  },
  {
   "cell_type": "markdown",
   "source": [
    "code a function that will plot the mutual information score :"
   ],
   "metadata": {
    "collapsed": false
   }
  },
  {
   "cell_type": "code",
   "execution_count": 68,
   "outputs": [],
   "source": [
    "def plot_scores(mi_scores:pd.DataFrame) -> None:\n",
    "    mi_scores[\"index\"] = mi_scores.index\n",
    "    sns.barplot(x=\"score\",y=\"index\",data=mi_scores)"
   ],
   "metadata": {
    "collapsed": false
   }
  },
  {
   "cell_type": "code",
   "execution_count": 69,
   "outputs": [
    {
     "data": {
      "text/plain": "<Figure size 640x480 with 1 Axes>",
      "image/png": "[encoded data removed]"
     },
     "metadata": {},
     "output_type": "display_data"
    }
   ],
   "source": [
    "X = df_for_score.drop('BAD',axis=1)\n",
    "y = df_for_score.BAD\n",
    "X = X.fillna(0)\n",
    "plot_scores(make_mi_scores(X,y))\n"
   ],
   "metadata": {
    "collapsed": false
   }
  },
  {
   "cell_type": "markdown",
   "source": [
    "try difference handle missing value to choose the best one of theme :"
   ],
   "metadata": {
    "collapsed": false
   }
  },
  {
   "cell_type": "code",
   "execution_count": 70,
   "outputs": [
    {
     "data": {
      "text/plain": "BAD           0\nLOAN          0\nMORTDUE     518\nVALUE       112\nREASON      252\nJOB         279\nYOJ         515\nDEROG       708\nDELINQ      580\nCLAGE       308\nNINQ        510\nCLNO        222\nDEBTINC    1267\ndtype: int64"
     },
     "execution_count": 70,
     "metadata": {},
     "output_type": "execute_result"
    }
   ],
   "source": [
    "df_for_score.isnull().sum()"
   ],
   "metadata": {
    "collapsed": false
   }
  },
  {
   "cell_type": "code",
   "execution_count": 71,
   "outputs": [
    {
     "data": {
      "text/plain": "BAD          int64\nLOAN         int64\nMORTDUE    float64\nVALUE      float64\nREASON     float64\nJOB        float64\nYOJ        float64\nDEROG      float64\nDELINQ     float64\nCLAGE      float64\nNINQ       float64\nCLNO       float64\nDEBTINC    float64\ndtype: object"
     },
     "execution_count": 71,
     "metadata": {},
     "output_type": "execute_result"
    }
   ],
   "source": [
    "df_for_score.dtypes"
   ],
   "metadata": {
    "collapsed": false
   }
  },
  {
   "cell_type": "code",
   "execution_count": 72,
   "outputs": [
    {
     "data": {
      "text/plain": "      REASON  JOB\n0        0.0  0.0\n1        0.0  0.0\n2        0.0  0.0\n3        0.0  0.0\n4        0.0  1.0\n...      ...  ...\n5955     1.0  0.0\n5956     1.0  0.0\n5957     1.0  0.0\n5958     1.0  0.0\n5959     1.0  0.0\n\n[5960 rows x 2 columns]",
      "text/html": "<div>\n<style scoped>\n    .dataframe tbody tr th:only-of-type {\n        vertical-align: middle;\n    }\n\n    .dataframe tbody tr th {\n        vertical-align: top;\n    }\n\n    .dataframe thead th {\n        text-align: right;\n    }\n</style>\n<table border=\"1\" class=\"dataframe\">\n  <thead>\n    <tr style=\"text-align: right;\">\n      <th></th>\n      <th>REASON</th>\n      <th>JOB</th>\n    </tr>\n  </thead>\n  <tbody>\n    <tr>\n      <th>0</th>\n      <td>0.0</td>\n      <td>0.0</td>\n    </tr>\n    <tr>\n      <th>1</th>\n      <td>0.0</td>\n      <td>0.0</td>\n    </tr>\n    <tr>\n      <th>2</th>\n      <td>0.0</td>\n      <td>0.0</td>\n    </tr>\n    <tr>\n      <th>3</th>\n      <td>0.0</td>\n      <td>0.0</td>\n    </tr>\n    <tr>\n      <th>4</th>\n      <td>0.0</td>\n      <td>1.0</td>\n    </tr>\n    <tr>\n      <th>...</th>\n      <td>...</td>\n      <td>...</td>\n    </tr>\n    <tr>\n      <th>5955</th>\n      <td>1.0</td>\n      <td>0.0</td>\n    </tr>\n    <tr>\n      <th>5956</th>\n      <td>1.0</td>\n      <td>0.0</td>\n    </tr>\n    <tr>\n      <th>5957</th>\n      <td>1.0</td>\n      <td>0.0</td>\n    </tr>\n    <tr>\n      <th>5958</th>\n      <td>1.0</td>\n      <td>0.0</td>\n    </tr>\n    <tr>\n      <th>5959</th>\n      <td>1.0</td>\n      <td>0.0</td>\n    </tr>\n  </tbody>\n</table>\n<p>5960 rows × 2 columns</p>\n</div>"
     },
     "execution_count": 72,
     "metadata": {},
     "output_type": "execute_result"
    }
   ],
   "source": [
    "X = df_for_score.drop('BAD',axis=1)\n",
    "y = df_for_score.BAD\n",
    "X = X.fillna(0)\n",
    "X.loc[:,[\"REASON\",\"JOB\"]]"
   ],
   "metadata": {
    "collapsed": false
   }
  },
  {
   "cell_type": "markdown",
   "source": [
    "### 4-split the data into train and test data:"
   ],
   "metadata": {
    "collapsed": false
   }
  },
  {
   "cell_type": "code",
   "execution_count": 73,
   "outputs": [],
   "source": [
    "X = df.drop('BAD',axis=1)\n",
    "y = df.BAD\n",
    "x_train, x_test, y_train, y_test = train_test_split(X, y, test_size=0.33)"
   ],
   "metadata": {
    "collapsed": false
   }
  },
  {
   "cell_type": "code",
   "execution_count": 74,
   "outputs": [
    {
     "data": {
      "text/plain": "       LOAN   MORTDUE     VALUE   REASON      JOB   YOJ  DEROG  DELINQ  \\\n2857  15900   48563.0   64679.0  DebtCon  ProfExe   4.0    0.0     0.0   \n5294  29200  116202.0  160084.0  DebtCon  ProfExe   6.0    0.0     0.0   \n4511  23500   55731.0   89079.0  DebtCon      Mgr   4.0    0.0     0.0   \n2150  13400    5900.0   55320.0  HomeImp    Other   3.0    2.0     2.0   \n1564  11400   43530.0   56600.0  HomeImp    Other  21.0    0.0     0.0   \n\n           CLAGE  NINQ  CLNO    DEBTINC  \n2857  156.101381   2.0  12.0  27.808547  \n5294  124.121462   3.0  26.0  32.644530  \n4511  273.674380   1.0  25.0  33.509409  \n2150  234.021816   3.0  16.0  19.089301  \n1564  114.982979   0.0  23.0  39.481663  ",
      "text/html": "<div>\n<style scoped>\n    .dataframe tbody tr th:only-of-type {\n        vertical-align: middle;\n    }\n\n    .dataframe tbody tr th {\n        vertical-align: top;\n    }\n\n    .dataframe thead th {\n        text-align: right;\n    }\n</style>\n<table border=\"1\" class=\"dataframe\">\n  <thead>\n    <tr style=\"text-align: right;\">\n      <th></th>\n      <th>LOAN</th>\n      <th>MORTDUE</th>\n      <th>VALUE</th>\n      <th>REASON</th>\n      <th>JOB</th>\n      <th>YOJ</th>\n      <th>DEROG</th>\n      <th>DELINQ</th>\n      <th>CLAGE</th>\n      <th>NINQ</th>\n      <th>CLNO</th>\n      <th>DEBTINC</th>\n    </tr>\n  </thead>\n  <tbody>\n    <tr>\n      <th>2857</th>\n      <td>15900</td>\n      <td>48563.0</td>\n      <td>64679.0</td>\n      <td>DebtCon</td>\n      <td>ProfExe</td>\n      <td>4.0</td>\n      <td>0.0</td>\n      <td>0.0</td>\n      <td>156.101381</td>\n      <td>2.0</td>\n      <td>12.0</td>\n      <td>27.808547</td>\n    </tr>\n    <tr>\n      <th>5294</th>\n      <td>29200</td>\n      <td>116202.0</td>\n      <td>160084.0</td>\n      <td>DebtCon</td>\n      <td>ProfExe</td>\n      <td>6.0</td>\n      <td>0.0</td>\n      <td>0.0</td>\n      <td>124.121462</td>\n      <td>3.0</td>\n      <td>26.0</td>\n      <td>32.644530</td>\n    </tr>\n    <tr>\n      <th>4511</th>\n      <td>23500</td>\n      <td>55731.0</td>\n      <td>89079.0</td>\n      <td>DebtCon</td>\n      <td>Mgr</td>\n      <td>4.0</td>\n      <td>0.0</td>\n      <td>0.0</td>\n      <td>273.674380</td>\n      <td>1.0</td>\n      <td>25.0</td>\n      <td>33.509409</td>\n    </tr>\n    <tr>\n      <th>2150</th>\n      <td>13400</td>\n      <td>5900.0</td>\n      <td>55320.0</td>\n      <td>HomeImp</td>\n      <td>Other</td>\n      <td>3.0</td>\n      <td>2.0</td>\n      <td>2.0</td>\n      <td>234.021816</td>\n      <td>3.0</td>\n      <td>16.0</td>\n      <td>19.089301</td>\n    </tr>\n    <tr>\n      <th>1564</th>\n      <td>11400</td>\n      <td>43530.0</td>\n      <td>56600.0</td>\n      <td>HomeImp</td>\n      <td>Other</td>\n      <td>21.0</td>\n      <td>0.0</td>\n      <td>0.0</td>\n      <td>114.982979</td>\n      <td>0.0</td>\n      <td>23.0</td>\n      <td>39.481663</td>\n    </tr>\n  </tbody>\n</table>\n</div>"
     },
     "execution_count": 74,
     "metadata": {},
     "output_type": "execute_result"
    }
   ],
   "source": [
    "x_train.head()"
   ],
   "metadata": {
    "collapsed": false
   }
  },
  {
   "cell_type": "code",
   "execution_count": 75,
   "outputs": [
    {
     "data": {
      "text/plain": "2857    0\n5294    0\n4511    0\n2150    1\n1564    0\nName: BAD, dtype: int64"
     },
     "execution_count": 75,
     "metadata": {},
     "output_type": "execute_result"
    }
   ],
   "source": [
    "y_train.head()"
   ],
   "metadata": {
    "collapsed": false
   }
  },
  {
   "cell_type": "markdown",
   "source": [
    "### 5-create a pipeline with scikit-learn for your model and train it :"
   ],
   "metadata": {
    "collapsed": false
   }
  },
  {
   "cell_type": "code",
   "execution_count": 76,
   "outputs": [],
   "source": [
    "numerical_cols = X.select_dtypes(['float','int']).columns\n",
    "categorical_cols = X.select_dtypes(['object']).columns"
   ],
   "metadata": {
    "collapsed": false
   }
  },
  {
   "cell_type": "code",
   "execution_count": 77,
   "outputs": [
    {
     "data": {
      "text/plain": "Index(['LOAN', 'MORTDUE', 'VALUE', 'YOJ', 'DEROG', 'DELINQ', 'CLAGE', 'NINQ',\n       'CLNO', 'DEBTINC'],\n      dtype='object')"
     },
     "execution_count": 77,
     "metadata": {},
     "output_type": "execute_result"
    }
   ],
   "source": [
    "numerical_cols"
   ],
   "metadata": {
    "collapsed": false
   }
  },
  {
   "cell_type": "code",
   "execution_count": 78,
   "outputs": [
    {
     "data": {
      "text/plain": "Index(['REASON', 'JOB'], dtype='object')"
     },
     "execution_count": 78,
     "metadata": {},
     "output_type": "execute_result"
    }
   ],
   "source": [
    "categorical_cols"
   ],
   "metadata": {
    "collapsed": false
   }
  },
  {
   "cell_type": "code",
   "execution_count": 79,
   "outputs": [],
   "source": [
    "# Preprocessing for numerical data.\n",
    "numerical_transformer = SimpleImputer(strategy=\"median\")\n",
    "\n",
    "# Preprocessing for categorical data.\n",
    "categorical_transformer = Pipeline(\n",
    "    steps=[\n",
    "        ('impute',SimpleImputer(strategy=\"most_frequent\")),\n",
    "        ('one_hot_encoding',OneHotEncoder(handle_unknown='ignore',))\n",
    "    ]\n",
    ")\n",
    "\n",
    "#Bundle preprocessing for numerical and categorical data.\n",
    "preprocessing = ColumnTransformer(\n",
    "    transformers=[\n",
    "        ('numerical', numerical_transformer, numerical_cols),\n",
    "        ('categorical', categorical_transformer, categorical_cols)\n",
    "    ]\n",
    ")"
   ],
   "metadata": {
    "collapsed": false
   }
  },
  {
   "cell_type": "code",
   "execution_count": 89,
   "outputs": [
    {
     "data": {
      "text/plain": "  0%|          | 0/100 [00:00<?, ?it/s]",
      "application/vnd.jupyter.widget-view+json": {
       "version_major": 2,
       "version_minor": 0,
       "model_id": "eb3a871710834e8190fd90a0189ebbec"
      }
     },
     "metadata": {},
     "output_type": "display_data"
    }
   ],
   "source": [
    "best_n_estimators = None\n",
    "scores = list()\n",
    "best_score = 0\n",
    "for i in notebook.tqdm(range(1,1000,10)):\n",
    "    model = RandomForestClassifier(n_estimators=i,random_state=0)\n",
    "    my_pipe_line = Pipeline(\n",
    "        steps=[\n",
    "            ('preprocessing', preprocessing),\n",
    "            ('model', model)\n",
    "        ]\n",
    "    )\n",
    "    score = cross_val_score(my_pipe_line, x_train, y_train, cv=5, scoring='f1').mean()\n",
    "    scores.append(score)\n",
    "    if score >= best_score:\n",
    "        best_score = score\n",
    "        best_n_estimators = i"
   ],
   "metadata": {
    "collapsed": false
   }
  },
  {
   "cell_type": "code",
   "execution_count": 90,
   "outputs": [
    {
     "data": {
      "text/plain": "[<matplotlib.lines.Line2D at 0x14dce08b310>]"
     },
     "execution_count": 90,
     "metadata": {},
     "output_type": "execute_result"
    },
    {
     "data": {
      "text/plain": "<Figure size 640x480 with 1 Axes>",
      "image/png": "[encoded data removed]"
     },
     "metadata": {},
     "output_type": "display_data"
    }
   ],
   "source": [
    "plt.plot(np.arange(1,1000,10),scores)"
   ],
   "metadata": {
    "collapsed": false
   }
  },
  {
   "cell_type": "code",
   "execution_count": 91,
   "outputs": [
    {
     "data": {
      "text/plain": "(401, 0.7681713947378224)"
     },
     "execution_count": 91,
     "metadata": {},
     "output_type": "execute_result"
    }
   ],
   "source": [
    "best_n_estimators,best_score"
   ],
   "metadata": {
    "collapsed": false
   }
  },
  {
   "cell_type": "code",
   "execution_count": 92,
   "outputs": [
    {
     "data": {
      "text/plain": "  0%|          | 0/8 [00:00<?, ?it/s]",
      "application/vnd.jupyter.widget-view+json": {
       "version_major": 2,
       "version_minor": 0,
       "model_id": "aabb5f0b02574913bec832ae2c9e7811"
      }
     },
     "metadata": {},
     "output_type": "display_data"
    },
    {
     "data": {
      "text/plain": "[<matplotlib.lines.Line2D at 0x14dcb79f710>]"
     },
     "execution_count": 92,
     "metadata": {},
     "output_type": "execute_result"
    },
    {
     "data": {
      "text/plain": "<Figure size 640x480 with 1 Axes>",
      "image/png": "[encoded data removed]"
     },
     "metadata": {},
     "output_type": "display_data"
    }
   ],
   "source": [
    "best_n_estimators = None\n",
    "scores = list()\n",
    "best_score = 0\n",
    "for i in notebook.tqdm(range(380,420,5)):\n",
    "    model = RandomForestClassifier(n_estimators=i,random_state=0)\n",
    "    my_pipe_line = Pipeline(\n",
    "        steps=[\n",
    "            ('preprocessing', preprocessing),\n",
    "            ('model', model)\n",
    "        ]\n",
    "    )\n",
    "    score = cross_val_score(my_pipe_line, x_train, y_train, cv=5, scoring='f1').mean()\n",
    "    scores.append(score)\n",
    "    if score >= best_score:\n",
    "        best_score = score\n",
    "        best_n_estimators = i\n",
    "plt.plot(np.arange(380,420,5),scores)"
   ],
   "metadata": {
    "collapsed": false
   }
  },
  {
   "cell_type": "code",
   "execution_count": 93,
   "outputs": [
    {
     "data": {
      "text/plain": "(395, 0.7678040644290627)"
     },
     "execution_count": 93,
     "metadata": {},
     "output_type": "execute_result"
    }
   ],
   "source": [
    "best_n_estimators,best_score"
   ],
   "metadata": {
    "collapsed": false
   }
  },
  {
   "cell_type": "code",
   "execution_count": 94,
   "outputs": [
    {
     "data": {
      "text/plain": "Pipeline(steps=[('preprocessing',\n                 ColumnTransformer(transformers=[('numerical',\n                                                  SimpleImputer(strategy='median'),\n                                                  Index(['LOAN', 'MORTDUE', 'VALUE', 'YOJ', 'DEROG', 'DELINQ', 'CLAGE', 'NINQ',\n       'CLNO', 'DEBTINC'],\n      dtype='object')),\n                                                 ('categorical',\n                                                  Pipeline(steps=[('impute',\n                                                                   SimpleImputer(strategy='most_frequent')),\n                                                                  ('one_hot_encoding',\n                                                                   OneHotEncoder(handle_unknown='ignore'))]),\n                                                  Index(['REASON', 'JOB'], dtype='object'))])),\n                ('model',\n                 RandomForestClassifier(n_estimators=415, random_state=0))])",
      "text/html": "<style>#sk-container-id-1 {color: black;background-color: white;}#sk-container-id-1 pre{padding: 0;}#sk-container-id-1 div.sk-toggleable {background-color: white;}#sk-container-id-1 label.sk-toggleable__label {cursor: pointer;display: block;width: 100%;margin-bottom: 0;padding: 0.3em;box-sizing: border-box;text-align: center;}#sk-container-id-1 label.sk-toggleable__label-arrow:before {content: \"▸\";float: left;margin-right: 0.25em;color: #696969;}#sk-container-id-1 label.sk-toggleable__label-arrow:hover:before {color: black;}#sk-container-id-1 div.sk-estimator:hover label.sk-toggleable__label-arrow:before {color: black;}#sk-container-id-1 div.sk-toggleable__content {max-height: 0;max-width: 0;overflow: hidden;text-align: left;background-color: #f0f8ff;}#sk-container-id-1 div.sk-toggleable__content pre {margin: 0.2em;color: black;border-radius: 0.25em;background-color: #f0f8ff;}#sk-container-id-1 input.sk-toggleable__control:checked~div.sk-toggleable__content {max-height: 200px;max-width: 100%;overflow: auto;}#sk-container-id-1 input.sk-toggleable__control:checked~label.sk-toggleable__label-arrow:before {content: \"▾\";}#sk-container-id-1 div.sk-estimator input.sk-toggleable__control:checked~label.sk-toggleable__label {background-color: #d4ebff;}#sk-container-id-1 div.sk-label input.sk-toggleable__control:checked~label.sk-toggleable__label {background-color: #d4ebff;}#sk-container-id-1 input.sk-hidden--visually {border: 0;clip: rect(1px 1px 1px 1px);clip: rect(1px, 1px, 1px, 1px);height: 1px;margin: -1px;overflow: hidden;padding: 0;position: absolute;width: 1px;}#sk-container-id-1 div.sk-estimator {font-family: monospace;background-color: #f0f8ff;border: 1px dotted black;border-radius: 0.25em;box-sizing: border-box;margin-bottom: 0.5em;}#sk-container-id-1 div.sk-estimator:hover {background-color: #d4ebff;}#sk-container-id-1 div.sk-parallel-item::after {content: \"\";width: 100%;border-bottom: 1px solid gray;flex-grow: 1;}#sk-container-id-1 div.sk-label:hover label.sk-toggleable__label {background-color: #d4ebff;}#sk-container-id-1 div.sk-serial::before {content: \"\";position: absolute;border-left: 1px solid gray;box-sizing: border-box;top: 0;bottom: 0;left: 50%;z-index: 0;}#sk-container-id-1 div.sk-serial {display: flex;flex-direction: column;align-items: center;background-color: white;padding-right: 0.2em;padding-left: 0.2em;position: relative;}#sk-container-id-1 div.sk-item {position: relative;z-index: 1;}#sk-container-id-1 div.sk-parallel {display: flex;align-items: stretch;justify-content: center;background-color: white;position: relative;}#sk-container-id-1 div.sk-item::before, #sk-container-id-1 div.sk-parallel-item::before {content: \"\";position: absolute;border-left: 1px solid gray;box-sizing: border-box;top: 0;bottom: 0;left: 50%;z-index: -1;}#sk-container-id-1 div.sk-parallel-item {display: flex;flex-direction: column;z-index: 1;position: relative;background-color: white;}#sk-container-id-1 div.sk-parallel-item:first-child::after {align-self: flex-end;width: 50%;}#sk-container-id-1 div.sk-parallel-item:last-child::after {align-self: flex-start;width: 50%;}#sk-container-id-1 div.sk-parallel-item:only-child::after {width: 0;}#sk-container-id-1 div.sk-dashed-wrapped {border: 1px dashed gray;margin: 0 0.4em 0.5em 0.4em;box-sizing: border-box;padding-bottom: 0.4em;background-color: white;}#sk-container-id-1 div.sk-label label {font-family: monospace;font-weight: bold;display: inline-block;line-height: 1.2em;}#sk-container-id-1 div.sk-label-container {text-align: center;}#sk-container-id-1 div.sk-container {/* jupyter's `normalize.less` sets `[hidden] { display: none; }` but bootstrap.min.css set `[hidden] { display: none !important; }` so we also need the `!important` here to be able to override the default hidden behavior on the sphinx rendered scikit-learn.org. See: https://github.com/scikit-learn/scikit-learn/issues/21755 */display: inline-block !important;position: relative;}#sk-container-id-1 div.sk-text-repr-fallback {display: none;}</style><div id=\"sk-container-id-1\" class=\"sk-top-container\"><div class=\"sk-text-repr-fallback\"><pre>Pipeline(steps=[(&#x27;preprocessing&#x27;,\n                 ColumnTransformer(transformers=[(&#x27;numerical&#x27;,\n                                                  SimpleImputer(strategy=&#x27;median&#x27;),\n                                                  Index([&#x27;LOAN&#x27;, &#x27;MORTDUE&#x27;, &#x27;VALUE&#x27;, &#x27;YOJ&#x27;, &#x27;DEROG&#x27;, &#x27;DELINQ&#x27;, &#x27;CLAGE&#x27;, &#x27;NINQ&#x27;,\n       &#x27;CLNO&#x27;, &#x27;DEBTINC&#x27;],\n      dtype=&#x27;object&#x27;)),\n                                                 (&#x27;categorical&#x27;,\n                                                  Pipeline(steps=[(&#x27;impute&#x27;,\n                                                                   SimpleImputer(strategy=&#x27;most_frequent&#x27;)),\n                                                                  (&#x27;one_hot_encoding&#x27;,\n                                                                   OneHotEncoder(handle_unknown=&#x27;ignore&#x27;))]),\n                                                  Index([&#x27;REASON&#x27;, &#x27;JOB&#x27;], dtype=&#x27;object&#x27;))])),\n                (&#x27;model&#x27;,\n                 RandomForestClassifier(n_estimators=415, random_state=0))])</pre><b>In a Jupyter environment, please rerun this cell to show the HTML representation or trust the notebook. <br />On GitHub, the HTML representation is unable to render, please try loading this page with nbviewer.org.</b></div><div class=\"sk-container\" hidden><div class=\"sk-item sk-dashed-wrapped\"><div class=\"sk-label-container\"><div class=\"sk-label sk-toggleable\"><input class=\"sk-toggleable__control sk-hidden--visually\" id=\"sk-estimator-id-1\" type=\"checkbox\" ><label for=\"sk-estimator-id-1\" class=\"sk-toggleable__label sk-toggleable__label-arrow\">Pipeline</label><div class=\"sk-toggleable__content\"><pre>Pipeline(steps=[(&#x27;preprocessing&#x27;,\n                 ColumnTransformer(transformers=[(&#x27;numerical&#x27;,\n                                                  SimpleImputer(strategy=&#x27;median&#x27;),\n                                                  Index([&#x27;LOAN&#x27;, &#x27;MORTDUE&#x27;, &#x27;VALUE&#x27;, &#x27;YOJ&#x27;, &#x27;DEROG&#x27;, &#x27;DELINQ&#x27;, &#x27;CLAGE&#x27;, &#x27;NINQ&#x27;,\n       &#x27;CLNO&#x27;, &#x27;DEBTINC&#x27;],\n      dtype=&#x27;object&#x27;)),\n                                                 (&#x27;categorical&#x27;,\n                                                  Pipeline(steps=[(&#x27;impute&#x27;,\n                                                                   SimpleImputer(strategy=&#x27;most_frequent&#x27;)),\n                                                                  (&#x27;one_hot_encoding&#x27;,\n                                                                   OneHotEncoder(handle_unknown=&#x27;ignore&#x27;))]),\n                                                  Index([&#x27;REASON&#x27;, &#x27;JOB&#x27;], dtype=&#x27;object&#x27;))])),\n                (&#x27;model&#x27;,\n                 RandomForestClassifier(n_estimators=415, random_state=0))])</pre></div></div></div><div class=\"sk-serial\"><div class=\"sk-item sk-dashed-wrapped\"><div class=\"sk-label-container\"><div class=\"sk-label sk-toggleable\"><input class=\"sk-toggleable__control sk-hidden--visually\" id=\"sk-estimator-id-2\" type=\"checkbox\" ><label for=\"sk-estimator-id-2\" class=\"sk-toggleable__label sk-toggleable__label-arrow\">preprocessing: ColumnTransformer</label><div class=\"sk-toggleable__content\"><pre>ColumnTransformer(transformers=[(&#x27;numerical&#x27;, SimpleImputer(strategy=&#x27;median&#x27;),\n                                 Index([&#x27;LOAN&#x27;, &#x27;MORTDUE&#x27;, &#x27;VALUE&#x27;, &#x27;YOJ&#x27;, &#x27;DEROG&#x27;, &#x27;DELINQ&#x27;, &#x27;CLAGE&#x27;, &#x27;NINQ&#x27;,\n       &#x27;CLNO&#x27;, &#x27;DEBTINC&#x27;],\n      dtype=&#x27;object&#x27;)),\n                                (&#x27;categorical&#x27;,\n                                 Pipeline(steps=[(&#x27;impute&#x27;,\n                                                  SimpleImputer(strategy=&#x27;most_frequent&#x27;)),\n                                                 (&#x27;one_hot_encoding&#x27;,\n                                                  OneHotEncoder(handle_unknown=&#x27;ignore&#x27;))]),\n                                 Index([&#x27;REASON&#x27;, &#x27;JOB&#x27;], dtype=&#x27;object&#x27;))])</pre></div></div></div><div class=\"sk-parallel\"><div class=\"sk-parallel-item\"><div class=\"sk-item\"><div class=\"sk-label-container\"><div class=\"sk-label sk-toggleable\"><input class=\"sk-toggleable__control sk-hidden--visually\" id=\"sk-estimator-id-3\" type=\"checkbox\" ><label for=\"sk-estimator-id-3\" class=\"sk-toggleable__label sk-toggleable__label-arrow\">numerical</label><div class=\"sk-toggleable__content\"><pre>Index([&#x27;LOAN&#x27;, &#x27;MORTDUE&#x27;, &#x27;VALUE&#x27;, &#x27;YOJ&#x27;, &#x27;DEROG&#x27;, &#x27;DELINQ&#x27;, &#x27;CLAGE&#x27;, &#x27;NINQ&#x27;,\n       &#x27;CLNO&#x27;, &#x27;DEBTINC&#x27;],\n      dtype=&#x27;object&#x27;)</pre></div></div></div><div class=\"sk-serial\"><div class=\"sk-item\"><div class=\"sk-estimator sk-toggleable\"><input class=\"sk-toggleable__control sk-hidden--visually\" id=\"sk-estimator-id-4\" type=\"checkbox\" ><label for=\"sk-estimator-id-4\" class=\"sk-toggleable__label sk-toggleable__label-arrow\">SimpleImputer</label><div class=\"sk-toggleable__content\"><pre>SimpleImputer(strategy=&#x27;median&#x27;)</pre></div></div></div></div></div></div><div class=\"sk-parallel-item\"><div class=\"sk-item\"><div class=\"sk-label-container\"><div class=\"sk-label sk-toggleable\"><input class=\"sk-toggleable__control sk-hidden--visually\" id=\"sk-estimator-id-5\" type=\"checkbox\" ><label for=\"sk-estimator-id-5\" class=\"sk-toggleable__label sk-toggleable__label-arrow\">categorical</label><div class=\"sk-toggleable__content\"><pre>Index([&#x27;REASON&#x27;, &#x27;JOB&#x27;], dtype=&#x27;object&#x27;)</pre></div></div></div><div class=\"sk-serial\"><div class=\"sk-item\"><div class=\"sk-serial\"><div class=\"sk-item\"><div class=\"sk-estimator sk-toggleable\"><input class=\"sk-toggleable__control sk-hidden--visually\" id=\"sk-estimator-id-6\" type=\"checkbox\" ><label for=\"sk-estimator-id-6\" class=\"sk-toggleable__label sk-toggleable__label-arrow\">SimpleImputer</label><div class=\"sk-toggleable__content\"><pre>SimpleImputer(strategy=&#x27;most_frequent&#x27;)</pre></div></div></div><div class=\"sk-item\"><div class=\"sk-estimator sk-toggleable\"><input class=\"sk-toggleable__control sk-hidden--visually\" id=\"sk-estimator-id-7\" type=\"checkbox\" ><label for=\"sk-estimator-id-7\" class=\"sk-toggleable__label sk-toggleable__label-arrow\">OneHotEncoder</label><div class=\"sk-toggleable__content\"><pre>OneHotEncoder(handle_unknown=&#x27;ignore&#x27;)</pre></div></div></div></div></div></div></div></div></div></div><div class=\"sk-item\"><div class=\"sk-estimator sk-toggleable\"><input class=\"sk-toggleable__control sk-hidden--visually\" id=\"sk-estimator-id-8\" type=\"checkbox\" ><label for=\"sk-estimator-id-8\" class=\"sk-toggleable__label sk-toggleable__label-arrow\">RandomForestClassifier</label><div class=\"sk-toggleable__content\"><pre>RandomForestClassifier(n_estimators=415, random_state=0)</pre></div></div></div></div></div></div></div>"
     },
     "execution_count": 94,
     "metadata": {},
     "output_type": "execute_result"
    }
   ],
   "source": [
    "model = Pipeline(\n",
    "    steps=[\n",
    "        ('preprocessing', preprocessing),\n",
    "        ('model', RandomForestClassifier(n_estimators=i,random_state=0))\n",
    "    ]\n",
    ")\n",
    "model.fit(x_train, y_train)"
   ],
   "metadata": {
    "collapsed": false
   }
  },
  {
   "cell_type": "code",
   "execution_count": 96,
   "outputs": [
    {
     "data": {
      "text/plain": "0.7843137254901961"
     },
     "execution_count": 96,
     "metadata": {},
     "output_type": "execute_result"
    }
   ],
   "source": [
    "y_predict = model.predict(x_test)\n",
    "f1_score(y_test,y_predict)"
   ],
   "metadata": {
    "collapsed": false
   }
  },
  {
   "cell_type": "code",
   "execution_count": null,
   "outputs": [],
   "source": [],
   "metadata": {
    "collapsed": false
   }
  }
 ],
 "metadata": {
  "kernelspec": {
   "display_name": "Python 3",
   "language": "python",
   "name": "python3"
  },
  "language_info": {
   "codemirror_mode": {
    "name": "ipython",
    "version": 2
   },
   "file_extension": ".py",
   "mimetype": "text/x-python",
   "name": "python",
   "nbconvert_exporter": "python",
   "pygments_lexer": "ipython2",
   "version": "2.7.6"
  }
 },
 "nbformat": 4,
 "nbformat_minor": 0
}
