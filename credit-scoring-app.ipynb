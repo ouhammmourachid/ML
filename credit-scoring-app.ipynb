{
 "cells": [
  {
   "cell_type": "markdown",
   "source": [
    "# Credit Scoring App:\n",
    "Case study :\n",
    "The process of accepting a consumer credit must be very fast in\n",
    "especially when customers require store credit at checkout.\n",
    "purchase (example: payment in three installments free of charge, etc.).\n",
    "For a very long time, banks and credit organizations have developed\n",
    "automatic and instant methods of rating the creditworthiness of customers and\n",
    "their ability to repay the loan. These tools are very useful for an acceptance\n",
    "rapid credit granting, but also to determine the amount of the envelope\n",
    "credit authorization or to monitor the risk of customers and\n",
    "loan portfolios.\n",
    "Credit score is a function that assigns a credit quality value to a\n",
    "customer or a loan according to explanatory variables such as the debt ratio\n",
    "of the borrower, his account behavior or any other quantity that is\n",
    "correlated to borrower default.\n",
    "\n",
    "### 1-set up the environment:"
   ],
   "metadata": {
    "collapsed": false
   }
  },
  {
   "cell_type": "code",
   "execution_count": null,
   "outputs": [],
   "source": [
    "import pandas as pd\n",
    "import matplotlib.pyplot as plt\n",
    "import seaborn  as sns\n",
    "from sklearn.ensemble import RandomForestClassifier\n",
    "from sklearn.model_selection import train_test_split\n",
    "from sklearn.metrics import f1_score\n",
    "%matplotlib inline\n",
    "print(\"set up completed\")"
   ],
   "metadata": {
    "collapsed": false
   }
  },
  {
   "cell_type": "code",
   "execution_count": null,
   "metadata": {
    "collapsed": true
   },
   "outputs": [],
   "source": []
  }
 ],
 "metadata": {
  "kernelspec": {
   "display_name": "Python 3",
   "language": "python",
   "name": "python3"
  },
  "language_info": {
   "codemirror_mode": {
    "name": "ipython",
    "version": 2
   },
   "file_extension": ".py",
   "mimetype": "text/x-python",
   "name": "python",
   "nbconvert_exporter": "python",
   "pygments_lexer": "ipython2",
   "version": "2.7.6"
  }
 },
 "nbformat": 4,
 "nbformat_minor": 0
}
