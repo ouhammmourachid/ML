{
 "cells": [
  {
   "cell_type": "markdown",
   "source": [
    "# Application du SVM en Sentiment Analysis\n",
    "Dans ce TP, nous allons explorer l'analyse de sentiment des critiques de films. Nous utiliserons un\n",
    "ensemble de données de critiques de films pré-annotées pour entraîner un modèle d'apprentissage\n",
    "automatique capable de prédire si une critique est positive ou négative.\n",
    "En utilisant le dataset, partagé en google Classroom, développer un modèle intelligent en utilisant\n",
    "techniques de Text mining et Machine Learning en suivant les étapes de construction vues dans le\n",
    "cours.\n",
    "#### 1- import libraries:"
   ],
   "metadata": {
    "collapsed": false
   }
  },
  {
   "cell_type": "code",
   "execution_count": 31,
   "metadata": {
    "collapsed": true
   },
   "outputs": [
    {
     "name": "stdout",
     "output_type": "stream",
     "text": [
      "Set up completed ....\n"
     ]
    }
   ],
   "source": [
    "import numpy as np\n",
    "import pandas as pd\n",
    "from sklearn import svm\n",
    "import seaborn as sns\n",
    "import spacy\n",
    "from sklearn.naive_bayes import MultinomialNB\n",
    "from sklearn.feature_extraction.text import CountVectorizer\n",
    "from sklearn.model_selection import train_test_split\n",
    "from sklearn.metrics import classification_report\n",
    "from sklearn.model_selection import GridSearchCV\n",
    "from sklearn.linear_model import LogisticRegression\n",
    "print(\"Set up completed ....\")"
   ]
  },
  {
   "cell_type": "code",
   "execution_count": 2,
   "outputs": [],
   "source": [
    "# load the data\n",
    "X = pd.read_csv('./reviews.txt', names=['review'])\n",
    "y = pd.read_csv('./labels.txt',names=['label'])"
   ],
   "metadata": {
    "collapsed": false
   }
  },
  {
   "cell_type": "code",
   "execution_count": 3,
   "outputs": [
    {
     "data": {
      "text/plain": "(5000, 1)"
     },
     "execution_count": 3,
     "metadata": {},
     "output_type": "execute_result"
    }
   ],
   "source": [
    "X.shape"
   ],
   "metadata": {
    "collapsed": false
   }
  },
  {
   "cell_type": "code",
   "execution_count": 4,
   "outputs": [
    {
     "data": {
      "text/plain": "(5000, 1)"
     },
     "execution_count": 4,
     "metadata": {},
     "output_type": "execute_result"
    }
   ],
   "source": [
    "y.shape"
   ],
   "metadata": {
    "collapsed": false
   }
  },
  {
   "cell_type": "code",
   "execution_count": 5,
   "outputs": [
    {
     "data": {
      "text/plain": "                                              review\n0  bromwell high is a cartoon comedy . it ran at ...\n1  story of a man who has unnatural feelings for ...\n2  homelessness  or houselessness as george carli...\n3  airport    starts as a brand new luxury    pla...\n4  brilliant over  acting by lesley ann warren . ...",
      "text/html": "<div>\n<style scoped>\n    .dataframe tbody tr th:only-of-type {\n        vertical-align: middle;\n    }\n\n    .dataframe tbody tr th {\n        vertical-align: top;\n    }\n\n    .dataframe thead th {\n        text-align: right;\n    }\n</style>\n<table border=\"1\" class=\"dataframe\">\n  <thead>\n    <tr style=\"text-align: right;\">\n      <th></th>\n      <th>review</th>\n    </tr>\n  </thead>\n  <tbody>\n    <tr>\n      <th>0</th>\n      <td>bromwell high is a cartoon comedy . it ran at ...</td>\n    </tr>\n    <tr>\n      <th>1</th>\n      <td>story of a man who has unnatural feelings for ...</td>\n    </tr>\n    <tr>\n      <th>2</th>\n      <td>homelessness  or houselessness as george carli...</td>\n    </tr>\n    <tr>\n      <th>3</th>\n      <td>airport    starts as a brand new luxury    pla...</td>\n    </tr>\n    <tr>\n      <th>4</th>\n      <td>brilliant over  acting by lesley ann warren . ...</td>\n    </tr>\n  </tbody>\n</table>\n</div>"
     },
     "execution_count": 5,
     "metadata": {},
     "output_type": "execute_result"
    }
   ],
   "source": [
    "X.head()"
   ],
   "metadata": {
    "collapsed": false
   }
  },
  {
   "cell_type": "code",
   "execution_count": 6,
   "outputs": [
    {
     "data": {
      "text/plain": "      label\n0  positive\n1  negative\n2  positive\n3  negative\n4  positive",
      "text/html": "<div>\n<style scoped>\n    .dataframe tbody tr th:only-of-type {\n        vertical-align: middle;\n    }\n\n    .dataframe tbody tr th {\n        vertical-align: top;\n    }\n\n    .dataframe thead th {\n        text-align: right;\n    }\n</style>\n<table border=\"1\" class=\"dataframe\">\n  <thead>\n    <tr style=\"text-align: right;\">\n      <th></th>\n      <th>label</th>\n    </tr>\n  </thead>\n  <tbody>\n    <tr>\n      <th>0</th>\n      <td>positive</td>\n    </tr>\n    <tr>\n      <th>1</th>\n      <td>negative</td>\n    </tr>\n    <tr>\n      <th>2</th>\n      <td>positive</td>\n    </tr>\n    <tr>\n      <th>3</th>\n      <td>negative</td>\n    </tr>\n    <tr>\n      <th>4</th>\n      <td>positive</td>\n    </tr>\n  </tbody>\n</table>\n</div>"
     },
     "execution_count": 6,
     "metadata": {},
     "output_type": "execute_result"
    }
   ],
   "source": [
    "y.head()"
   ],
   "metadata": {
    "collapsed": false
   }
  },
  {
   "cell_type": "code",
   "execution_count": 7,
   "outputs": [
    {
     "data": {
      "text/plain": "<Axes: xlabel='label', ylabel='Count'>"
     },
     "execution_count": 7,
     "metadata": {},
     "output_type": "execute_result"
    },
    {
     "data": {
      "text/plain": "<Figure size 640x480 with 1 Axes>",
      "image/png": "[encoded data removed]"
     },
     "metadata": {},
     "output_type": "display_data"
    }
   ],
   "source": [
    "sns.histplot(y.label)"
   ],
   "metadata": {
    "collapsed": false
   }
  },
  {
   "cell_type": "code",
   "execution_count": 8,
   "outputs": [],
   "source": [
    "y = y.label.map({'positive':1 , 'negative':0})"
   ],
   "metadata": {
    "collapsed": false
   }
  },
  {
   "cell_type": "markdown",
   "source": [
    "#### 3- prepare the data for training :"
   ],
   "metadata": {
    "collapsed": false
   }
  },
  {
   "cell_type": "code",
   "execution_count": 9,
   "outputs": [],
   "source": [
    "nlp = spacy.load(\"en_core_web_sm\")"
   ],
   "metadata": {
    "collapsed": false
   }
  },
  {
   "cell_type": "markdown",
   "source": [
    "For any machine learning project, once you've gathered the data, the first step is to process it to make useful inputs to your model.\n",
    "\n",
    "- Remove noise: You will first want to remove noise from your data -- that is, remove words that don't tell you much about the content. These include all common words like 'I, you, are, is, etc...' that would not give us enough information on the sentiment.\n",
    "- We'll also remove stock market tickers, retweet symbols, hyperlinks, and hashtags because they can not tell you a lot of information on the sentiment.\n",
    "- You also want to remove all the punctuation from a tweet. The reason for doing this is because we want to treat words with or without the punctuation as the same word, instead of treating \"happy\", \"happy?\", \"happy!\", \"happy,\" and \"happy.\" as different words.\n",
    "- Finally, you want to use stemming to only keep track of one variation of each word. In other words, we'll treat \"motivation\", \"motivated\", and \"motivate\" similarly by grouping them within the same stem of \"motiv-\"."
   ],
   "metadata": {
    "collapsed": false
   }
  },
  {
   "cell_type": "code",
   "execution_count": 10,
   "outputs": [],
   "source": [
    "def preprocessing(text: str) -> str:\n",
    "    doc = nlp(text.lower())\n",
    "    tokens = [ word.lemma_ for word in doc if not (word.is_stop or word.is_punct)]\n",
    "    return ' '.join(tokens)"
   ],
   "metadata": {
    "collapsed": false
   }
  },
  {
   "cell_type": "code",
   "execution_count": 11,
   "outputs": [],
   "source": [
    "X[\"processed_review\"] = X.review.apply(lambda text:preprocessing(text))"
   ],
   "metadata": {
    "collapsed": false
   }
  },
  {
   "cell_type": "code",
   "execution_count": 12,
   "outputs": [
    {
     "data": {
      "text/plain": "                                              review  \\\n0  bromwell high is a cartoon comedy . it ran at ...   \n1  story of a man who has unnatural feelings for ...   \n2  homelessness  or houselessness as george carli...   \n3  airport    starts as a brand new luxury    pla...   \n4  brilliant over  acting by lesley ann warren . ...   \n\n                                    processed_review  \n0  bromwell high cartoon comedy run time program ...  \n1  story man unnatural feeling pig start opening ...  \n2  homelessness   houselessness george carlin sta...  \n3  airport     start brand new luxury     plane l...  \n4  brilliant   act lesley ann warren well dramati...  ",
      "text/html": "<div>\n<style scoped>\n    .dataframe tbody tr th:only-of-type {\n        vertical-align: middle;\n    }\n\n    .dataframe tbody tr th {\n        vertical-align: top;\n    }\n\n    .dataframe thead th {\n        text-align: right;\n    }\n</style>\n<table border=\"1\" class=\"dataframe\">\n  <thead>\n    <tr style=\"text-align: right;\">\n      <th></th>\n      <th>review</th>\n      <th>processed_review</th>\n    </tr>\n  </thead>\n  <tbody>\n    <tr>\n      <th>0</th>\n      <td>bromwell high is a cartoon comedy . it ran at ...</td>\n      <td>bromwell high cartoon comedy run time program ...</td>\n    </tr>\n    <tr>\n      <th>1</th>\n      <td>story of a man who has unnatural feelings for ...</td>\n      <td>story man unnatural feeling pig start opening ...</td>\n    </tr>\n    <tr>\n      <th>2</th>\n      <td>homelessness  or houselessness as george carli...</td>\n      <td>homelessness   houselessness george carlin sta...</td>\n    </tr>\n    <tr>\n      <th>3</th>\n      <td>airport    starts as a brand new luxury    pla...</td>\n      <td>airport     start brand new luxury     plane l...</td>\n    </tr>\n    <tr>\n      <th>4</th>\n      <td>brilliant over  acting by lesley ann warren . ...</td>\n      <td>brilliant   act lesley ann warren well dramati...</td>\n    </tr>\n  </tbody>\n</table>\n</div>"
     },
     "execution_count": 12,
     "metadata": {},
     "output_type": "execute_result"
    }
   ],
   "source": [
    "X.head()"
   ],
   "metadata": {
    "collapsed": false
   }
  },
  {
   "cell_type": "code",
   "execution_count": 13,
   "outputs": [],
   "source": [
    "# split the data into train and test.\n",
    "X_train, X_test, y_train, y_test = train_test_split(X.processed_review, y, test_size=0.2)"
   ],
   "metadata": {
    "collapsed": false
   }
  },
  {
   "cell_type": "code",
   "execution_count": 14,
   "outputs": [
    {
     "data": {
      "text/plain": "((4000,), (4000,))"
     },
     "execution_count": 14,
     "metadata": {},
     "output_type": "execute_result"
    }
   ],
   "source": [
    "X_train.shape, y_train.shape"
   ],
   "metadata": {
    "collapsed": false
   }
  },
  {
   "cell_type": "code",
   "execution_count": 17,
   "outputs": [],
   "source": [
    "cv = CountVectorizer()\n",
    "X_train = cv.fit_transform(X_train)"
   ],
   "metadata": {
    "collapsed": false
   }
  },
  {
   "cell_type": "code",
   "execution_count": 18,
   "outputs": [
    {
     "data": {
      "text/plain": "(4000, 26052)"
     },
     "execution_count": 18,
     "metadata": {},
     "output_type": "execute_result"
    }
   ],
   "source": [
    "X_train.shape"
   ],
   "metadata": {
    "collapsed": false
   }
  },
  {
   "cell_type": "code",
   "execution_count": 19,
   "outputs": [],
   "source": [
    "X_test = cv.transform(X_test)"
   ],
   "metadata": {
    "collapsed": false
   }
  },
  {
   "cell_type": "markdown",
   "source": [
    "#### 4- train the SVM model:"
   ],
   "metadata": {
    "collapsed": false
   }
  },
  {
   "cell_type": "code",
   "execution_count": 22,
   "outputs": [
    {
     "name": "stdout",
     "output_type": "stream",
     "text": [
      "Fitting 5 folds for each of 50 candidates, totalling 250 fits\n",
      "[CV 1/5] END .....C=0.1, gamma=1, kernel=linear;, score=0.896 total time=   6.0s\n",
      "[CV 2/5] END .....C=0.1, gamma=1, kernel=linear;, score=0.858 total time=   6.6s\n",
      "[CV 3/5] END .....C=0.1, gamma=1, kernel=linear;, score=0.845 total time=  12.6s\n",
      "[CV 4/5] END .....C=0.1, gamma=1, kernel=linear;, score=0.846 total time=  14.1s\n",
      "[CV 5/5] END .....C=0.1, gamma=1, kernel=linear;, score=0.855 total time=  14.6s\n",
      "[CV 1/5] END ........C=0.1, gamma=1, kernel=rbf;, score=0.506 total time=  18.7s\n",
      "[CV 2/5] END ........C=0.1, gamma=1, kernel=rbf;, score=0.505 total time=  16.2s\n",
      "[CV 3/5] END ........C=0.1, gamma=1, kernel=rbf;, score=0.505 total time=  13.7s\n",
      "[CV 4/5] END ........C=0.1, gamma=1, kernel=rbf;, score=0.505 total time=  12.4s\n",
      "[CV 5/5] END ........C=0.1, gamma=1, kernel=rbf;, score=0.505 total time=  12.4s\n",
      "[CV 1/5] END ...C=0.1, gamma=0.1, kernel=linear;, score=0.896 total time=   5.7s\n",
      "[CV 2/5] END ...C=0.1, gamma=0.1, kernel=linear;, score=0.858 total time=   5.3s\n",
      "[CV 3/5] END ...C=0.1, gamma=0.1, kernel=linear;, score=0.845 total time=   5.5s\n",
      "[CV 4/5] END ...C=0.1, gamma=0.1, kernel=linear;, score=0.846 total time=   6.0s\n",
      "[CV 5/5] END ...C=0.1, gamma=0.1, kernel=linear;, score=0.855 total time=   5.6s\n",
      "[CV 1/5] END ......C=0.1, gamma=0.1, kernel=rbf;, score=0.506 total time=  12.8s\n",
      "[CV 2/5] END ......C=0.1, gamma=0.1, kernel=rbf;, score=0.505 total time=  13.2s\n",
      "[CV 3/5] END ......C=0.1, gamma=0.1, kernel=rbf;, score=0.505 total time=  13.0s\n",
      "[CV 4/5] END ......C=0.1, gamma=0.1, kernel=rbf;, score=0.505 total time=  13.4s\n",
      "[CV 5/5] END ......C=0.1, gamma=0.1, kernel=rbf;, score=0.505 total time=  12.9s\n",
      "[CV 1/5] END ..C=0.1, gamma=0.01, kernel=linear;, score=0.896 total time=   5.8s\n",
      "[CV 2/5] END ..C=0.1, gamma=0.01, kernel=linear;, score=0.858 total time=   6.0s\n",
      "[CV 3/5] END ..C=0.1, gamma=0.01, kernel=linear;, score=0.845 total time=   5.8s\n",
      "[CV 4/5] END ..C=0.1, gamma=0.01, kernel=linear;, score=0.846 total time=   6.0s\n",
      "[CV 5/5] END ..C=0.1, gamma=0.01, kernel=linear;, score=0.855 total time=   6.0s\n",
      "[CV 1/5] END .....C=0.1, gamma=0.01, kernel=rbf;, score=0.642 total time=  13.7s\n",
      "[CV 2/5] END .....C=0.1, gamma=0.01, kernel=rbf;, score=0.621 total time=  13.1s\n",
      "[CV 3/5] END .....C=0.1, gamma=0.01, kernel=rbf;, score=0.614 total time=  12.4s\n",
      "[CV 4/5] END .....C=0.1, gamma=0.01, kernel=rbf;, score=0.605 total time=  12.5s\n",
      "[CV 5/5] END .....C=0.1, gamma=0.01, kernel=rbf;, score=0.616 total time=  12.9s\n",
      "[CV 1/5] END .C=0.1, gamma=0.001, kernel=linear;, score=0.896 total time=   6.1s\n",
      "[CV 2/5] END .C=0.1, gamma=0.001, kernel=linear;, score=0.858 total time=   5.6s\n",
      "[CV 3/5] END .C=0.1, gamma=0.001, kernel=linear;, score=0.845 total time=   5.9s\n",
      "[CV 4/5] END .C=0.1, gamma=0.001, kernel=linear;, score=0.846 total time=   5.8s\n",
      "[CV 5/5] END .C=0.1, gamma=0.001, kernel=linear;, score=0.855 total time=   6.1s\n",
      "[CV 1/5] END ....C=0.1, gamma=0.001, kernel=rbf;, score=0.641 total time=  12.3s\n",
      "[CV 2/5] END ....C=0.1, gamma=0.001, kernel=rbf;, score=0.632 total time=  12.6s\n",
      "[CV 3/5] END ....C=0.1, gamma=0.001, kernel=rbf;, score=0.618 total time=  13.2s\n",
      "[CV 4/5] END ....C=0.1, gamma=0.001, kernel=rbf;, score=0.601 total time=  19.9s\n",
      "[CV 5/5] END ....C=0.1, gamma=0.001, kernel=rbf;, score=0.625 total time=  12.3s\n",
      "[CV 1/5] END C=0.1, gamma=0.0001, kernel=linear;, score=0.896 total time=   6.0s\n",
      "[CV 2/5] END C=0.1, gamma=0.0001, kernel=linear;, score=0.858 total time=   6.1s\n",
      "[CV 3/5] END C=0.1, gamma=0.0001, kernel=linear;, score=0.845 total time=   6.0s\n",
      "[CV 4/5] END C=0.1, gamma=0.0001, kernel=linear;, score=0.846 total time=   5.9s\n",
      "[CV 5/5] END C=0.1, gamma=0.0001, kernel=linear;, score=0.855 total time=   5.6s\n",
      "[CV 1/5] END ...C=0.1, gamma=0.0001, kernel=rbf;, score=0.506 total time=  12.7s\n",
      "[CV 2/5] END ...C=0.1, gamma=0.0001, kernel=rbf;, score=0.505 total time=  12.9s\n",
      "[CV 3/5] END ...C=0.1, gamma=0.0001, kernel=rbf;, score=0.505 total time=  13.7s\n",
      "[CV 4/5] END ...C=0.1, gamma=0.0001, kernel=rbf;, score=0.505 total time=  13.4s\n",
      "[CV 5/5] END ...C=0.1, gamma=0.0001, kernel=rbf;, score=0.505 total time=  13.1s\n",
      "[CV 1/5] END .......C=1, gamma=1, kernel=linear;, score=0.894 total time=   6.6s\n",
      "[CV 2/5] END .......C=1, gamma=1, kernel=linear;, score=0.860 total time=   5.0s\n",
      "[CV 3/5] END .......C=1, gamma=1, kernel=linear;, score=0.851 total time=   4.4s\n",
      "[CV 4/5] END .......C=1, gamma=1, kernel=linear;, score=0.834 total time=   6.2s\n",
      "[CV 5/5] END .......C=1, gamma=1, kernel=linear;, score=0.839 total time=   6.5s\n",
      "[CV 1/5] END ..........C=1, gamma=1, kernel=rbf;, score=0.510 total time=  13.5s\n",
      "[CV 2/5] END ..........C=1, gamma=1, kernel=rbf;, score=0.506 total time=  14.4s\n",
      "[CV 3/5] END ..........C=1, gamma=1, kernel=rbf;, score=0.509 total time=  13.4s\n",
      "[CV 4/5] END ..........C=1, gamma=1, kernel=rbf;, score=0.505 total time=  13.9s\n",
      "[CV 5/5] END ..........C=1, gamma=1, kernel=rbf;, score=0.506 total time=  13.8s\n",
      "[CV 1/5] END .....C=1, gamma=0.1, kernel=linear;, score=0.894 total time=   6.1s\n",
      "[CV 2/5] END .....C=1, gamma=0.1, kernel=linear;, score=0.860 total time=   6.0s\n",
      "[CV 3/5] END .....C=1, gamma=0.1, kernel=linear;, score=0.851 total time=   6.6s\n",
      "[CV 4/5] END .....C=1, gamma=0.1, kernel=linear;, score=0.834 total time=   6.0s\n",
      "[CV 5/5] END .....C=1, gamma=0.1, kernel=linear;, score=0.839 total time=   6.0s\n",
      "[CV 1/5] END ........C=1, gamma=0.1, kernel=rbf;, score=0.542 total time=  13.4s\n",
      "[CV 2/5] END ........C=1, gamma=0.1, kernel=rbf;, score=0.529 total time=  14.2s\n",
      "[CV 3/5] END ........C=1, gamma=0.1, kernel=rbf;, score=0.521 total time=  13.5s\n",
      "[CV 4/5] END ........C=1, gamma=0.1, kernel=rbf;, score=0.529 total time=  13.4s\n",
      "[CV 5/5] END ........C=1, gamma=0.1, kernel=rbf;, score=0.527 total time=  13.5s\n",
      "[CV 1/5] END ....C=1, gamma=0.01, kernel=linear;, score=0.894 total time=   6.2s\n",
      "[CV 2/5] END ....C=1, gamma=0.01, kernel=linear;, score=0.860 total time=   5.6s\n",
      "[CV 3/5] END ....C=1, gamma=0.01, kernel=linear;, score=0.851 total time=   6.0s\n",
      "[CV 4/5] END ....C=1, gamma=0.01, kernel=linear;, score=0.834 total time=   6.4s\n",
      "[CV 5/5] END ....C=1, gamma=0.01, kernel=linear;, score=0.839 total time=   5.9s\n",
      "[CV 1/5] END .......C=1, gamma=0.01, kernel=rbf;, score=0.823 total time=  11.8s\n",
      "[CV 2/5] END .......C=1, gamma=0.01, kernel=rbf;, score=0.806 total time=  12.2s\n",
      "[CV 3/5] END .......C=1, gamma=0.01, kernel=rbf;, score=0.823 total time=  12.2s\n",
      "[CV 4/5] END .......C=1, gamma=0.01, kernel=rbf;, score=0.800 total time=  14.9s\n",
      "[CV 5/5] END .......C=1, gamma=0.01, kernel=rbf;, score=0.819 total time=  29.8s\n",
      "[CV 1/5] END ...C=1, gamma=0.001, kernel=linear;, score=0.894 total time=  14.6s\n",
      "[CV 2/5] END ...C=1, gamma=0.001, kernel=linear;, score=0.860 total time=  13.7s\n",
      "[CV 3/5] END ...C=1, gamma=0.001, kernel=linear;, score=0.851 total time=   9.1s\n",
      "[CV 4/5] END ...C=1, gamma=0.001, kernel=linear;, score=0.834 total time=   5.9s\n",
      "[CV 5/5] END ...C=1, gamma=0.001, kernel=linear;, score=0.839 total time=   6.1s\n",
      "[CV 1/5] END ......C=1, gamma=0.001, kernel=rbf;, score=0.856 total time=   9.7s\n",
      "[CV 2/5] END ......C=1, gamma=0.001, kernel=rbf;, score=0.840 total time=  10.2s\n",
      "[CV 3/5] END ......C=1, gamma=0.001, kernel=rbf;, score=0.833 total time=  10.6s\n",
      "[CV 4/5] END ......C=1, gamma=0.001, kernel=rbf;, score=0.805 total time=  10.1s\n",
      "[CV 5/5] END ......C=1, gamma=0.001, kernel=rbf;, score=0.831 total time=  13.7s\n",
      "[CV 1/5] END ..C=1, gamma=0.0001, kernel=linear;, score=0.894 total time=  14.7s\n",
      "[CV 2/5] END ..C=1, gamma=0.0001, kernel=linear;, score=0.860 total time=  13.8s\n",
      "[CV 3/5] END ..C=1, gamma=0.0001, kernel=linear;, score=0.851 total time=  13.8s\n",
      "[CV 4/5] END ..C=1, gamma=0.0001, kernel=linear;, score=0.834 total time=   9.9s\n",
      "[CV 5/5] END ..C=1, gamma=0.0001, kernel=linear;, score=0.839 total time=   5.8s\n",
      "[CV 1/5] END .....C=1, gamma=0.0001, kernel=rbf;, score=0.664 total time=  12.7s\n",
      "[CV 2/5] END .....C=1, gamma=0.0001, kernel=rbf;, score=0.659 total time=  11.7s\n",
      "[CV 3/5] END .....C=1, gamma=0.0001, kernel=rbf;, score=0.646 total time=  12.9s\n",
      "[CV 4/5] END .....C=1, gamma=0.0001, kernel=rbf;, score=0.626 total time=  12.7s\n",
      "[CV 5/5] END .....C=1, gamma=0.0001, kernel=rbf;, score=0.661 total time=  21.9s\n",
      "[CV 1/5] END ......C=10, gamma=1, kernel=linear;, score=0.895 total time=   6.0s\n",
      "[CV 2/5] END ......C=10, gamma=1, kernel=linear;, score=0.856 total time=   6.0s\n",
      "[CV 3/5] END ......C=10, gamma=1, kernel=linear;, score=0.851 total time=   5.9s\n",
      "[CV 4/5] END ......C=10, gamma=1, kernel=linear;, score=0.831 total time=   5.7s\n",
      "[CV 5/5] END ......C=10, gamma=1, kernel=linear;, score=0.839 total time=   5.7s\n",
      "[CV 1/5] END .........C=10, gamma=1, kernel=rbf;, score=0.510 total time=  12.3s\n",
      "[CV 2/5] END .........C=10, gamma=1, kernel=rbf;, score=0.506 total time=  13.5s\n",
      "[CV 3/5] END .........C=10, gamma=1, kernel=rbf;, score=0.509 total time=  12.6s\n",
      "[CV 4/5] END .........C=10, gamma=1, kernel=rbf;, score=0.505 total time=  12.3s\n",
      "[CV 5/5] END .........C=10, gamma=1, kernel=rbf;, score=0.506 total time=  12.7s\n",
      "[CV 1/5] END ....C=10, gamma=0.1, kernel=linear;, score=0.895 total time=   5.9s\n",
      "[CV 2/5] END ....C=10, gamma=0.1, kernel=linear;, score=0.856 total time=   5.2s\n",
      "[CV 3/5] END ....C=10, gamma=0.1, kernel=linear;, score=0.851 total time=   5.5s\n",
      "[CV 4/5] END ....C=10, gamma=0.1, kernel=linear;, score=0.831 total time=   5.8s\n",
      "[CV 5/5] END ....C=10, gamma=0.1, kernel=linear;, score=0.839 total time=   5.7s\n",
      "[CV 1/5] END .......C=10, gamma=0.1, kernel=rbf;, score=0.551 total time=  13.6s\n",
      "[CV 2/5] END .......C=10, gamma=0.1, kernel=rbf;, score=0.530 total time=  13.0s\n",
      "[CV 3/5] END .......C=10, gamma=0.1, kernel=rbf;, score=0.527 total time=  12.8s\n",
      "[CV 4/5] END .......C=10, gamma=0.1, kernel=rbf;, score=0.537 total time=  12.8s\n",
      "[CV 5/5] END .......C=10, gamma=0.1, kernel=rbf;, score=0.539 total time=  13.4s\n",
      "[CV 1/5] END ...C=10, gamma=0.01, kernel=linear;, score=0.895 total time=   6.2s\n",
      "[CV 2/5] END ...C=10, gamma=0.01, kernel=linear;, score=0.856 total time=   5.8s\n",
      "[CV 3/5] END ...C=10, gamma=0.01, kernel=linear;, score=0.851 total time=   6.2s\n",
      "[CV 4/5] END ...C=10, gamma=0.01, kernel=linear;, score=0.831 total time=   5.6s\n",
      "[CV 5/5] END ...C=10, gamma=0.01, kernel=linear;, score=0.839 total time=   6.1s\n",
      "[CV 1/5] END ......C=10, gamma=0.01, kernel=rbf;, score=0.838 total time=  13.5s\n",
      "[CV 2/5] END ......C=10, gamma=0.01, kernel=rbf;, score=0.821 total time=  12.7s\n",
      "[CV 3/5] END ......C=10, gamma=0.01, kernel=rbf;, score=0.828 total time=  14.0s\n",
      "[CV 4/5] END ......C=10, gamma=0.01, kernel=rbf;, score=0.823 total time=  12.6s\n",
      "[CV 5/5] END ......C=10, gamma=0.01, kernel=rbf;, score=0.826 total time=  12.7s\n",
      "[CV 1/5] END ..C=10, gamma=0.001, kernel=linear;, score=0.895 total time=   6.7s\n",
      "[CV 2/5] END ..C=10, gamma=0.001, kernel=linear;, score=0.856 total time=   6.1s\n",
      "[CV 3/5] END ..C=10, gamma=0.001, kernel=linear;, score=0.851 total time=   5.5s\n",
      "[CV 4/5] END ..C=10, gamma=0.001, kernel=linear;, score=0.831 total time=   5.9s\n",
      "[CV 5/5] END ..C=10, gamma=0.001, kernel=linear;, score=0.839 total time=   5.7s\n",
      "[CV 1/5] END .....C=10, gamma=0.001, kernel=rbf;, score=0.895 total time=   7.8s\n",
      "[CV 2/5] END .....C=10, gamma=0.001, kernel=rbf;, score=0.871 total time=   7.5s\n",
      "[CV 3/5] END .....C=10, gamma=0.001, kernel=rbf;, score=0.866 total time=   7.6s\n",
      "[CV 4/5] END .....C=10, gamma=0.001, kernel=rbf;, score=0.863 total time=   7.4s\n",
      "[CV 5/5] END .....C=10, gamma=0.001, kernel=rbf;, score=0.866 total time=   8.0s\n",
      "[CV 1/5] END .C=10, gamma=0.0001, kernel=linear;, score=0.895 total time=   6.0s\n",
      "[CV 2/5] END .C=10, gamma=0.0001, kernel=linear;, score=0.856 total time=   5.7s\n",
      "[CV 3/5] END .C=10, gamma=0.0001, kernel=linear;, score=0.851 total time=   5.4s\n",
      "[CV 4/5] END .C=10, gamma=0.0001, kernel=linear;, score=0.831 total time=   6.1s\n",
      "[CV 5/5] END .C=10, gamma=0.0001, kernel=linear;, score=0.839 total time=   6.0s\n",
      "[CV 1/5] END ....C=10, gamma=0.0001, kernel=rbf;, score=0.864 total time=   9.5s\n",
      "[CV 2/5] END ....C=10, gamma=0.0001, kernel=rbf;, score=0.846 total time=   9.3s\n",
      "[CV 3/5] END ....C=10, gamma=0.0001, kernel=rbf;, score=0.841 total time=   8.7s\n",
      "[CV 4/5] END ....C=10, gamma=0.0001, kernel=rbf;, score=0.828 total time=   9.7s\n",
      "[CV 5/5] END ....C=10, gamma=0.0001, kernel=rbf;, score=0.844 total time=   9.4s\n",
      "[CV 1/5] END .....C=100, gamma=1, kernel=linear;, score=0.895 total time=   5.9s\n",
      "[CV 2/5] END .....C=100, gamma=1, kernel=linear;, score=0.856 total time=   6.1s\n",
      "[CV 3/5] END .....C=100, gamma=1, kernel=linear;, score=0.851 total time=   5.9s\n",
      "[CV 4/5] END .....C=100, gamma=1, kernel=linear;, score=0.831 total time=   5.7s\n",
      "[CV 5/5] END .....C=100, gamma=1, kernel=linear;, score=0.839 total time=   6.3s\n",
      "[CV 1/5] END ........C=100, gamma=1, kernel=rbf;, score=0.510 total time=  13.4s\n",
      "[CV 2/5] END ........C=100, gamma=1, kernel=rbf;, score=0.506 total time=  13.0s\n",
      "[CV 3/5] END ........C=100, gamma=1, kernel=rbf;, score=0.509 total time=  13.7s\n",
      "[CV 4/5] END ........C=100, gamma=1, kernel=rbf;, score=0.505 total time=  13.3s\n",
      "[CV 5/5] END ........C=100, gamma=1, kernel=rbf;, score=0.506 total time=  13.7s\n",
      "[CV 1/5] END ...C=100, gamma=0.1, kernel=linear;, score=0.895 total time=   6.1s\n",
      "[CV 2/5] END ...C=100, gamma=0.1, kernel=linear;, score=0.856 total time=   5.9s\n",
      "[CV 3/5] END ...C=100, gamma=0.1, kernel=linear;, score=0.851 total time=   5.8s\n",
      "[CV 4/5] END ...C=100, gamma=0.1, kernel=linear;, score=0.831 total time=   6.2s\n",
      "[CV 5/5] END ...C=100, gamma=0.1, kernel=linear;, score=0.839 total time=   6.2s\n",
      "[CV 1/5] END ......C=100, gamma=0.1, kernel=rbf;, score=0.551 total time=  13.2s\n",
      "[CV 2/5] END ......C=100, gamma=0.1, kernel=rbf;, score=0.530 total time=  13.7s\n",
      "[CV 3/5] END ......C=100, gamma=0.1, kernel=rbf;, score=0.527 total time=  13.4s\n",
      "[CV 4/5] END ......C=100, gamma=0.1, kernel=rbf;, score=0.537 total time=  12.4s\n",
      "[CV 5/5] END ......C=100, gamma=0.1, kernel=rbf;, score=0.539 total time=  12.6s\n",
      "[CV 1/5] END ..C=100, gamma=0.01, kernel=linear;, score=0.895 total time=   5.4s\n",
      "[CV 2/5] END ..C=100, gamma=0.01, kernel=linear;, score=0.856 total time=   6.3s\n",
      "[CV 3/5] END ..C=100, gamma=0.01, kernel=linear;, score=0.851 total time=   5.5s\n",
      "[CV 4/5] END ..C=100, gamma=0.01, kernel=linear;, score=0.831 total time=   5.8s\n",
      "[CV 5/5] END ..C=100, gamma=0.01, kernel=linear;, score=0.839 total time=   6.0s\n",
      "[CV 1/5] END .....C=100, gamma=0.01, kernel=rbf;, score=0.838 total time=  12.4s\n",
      "[CV 2/5] END .....C=100, gamma=0.01, kernel=rbf;, score=0.825 total time=  11.3s\n",
      "[CV 3/5] END .....C=100, gamma=0.01, kernel=rbf;, score=0.830 total time=  12.2s\n",
      "[CV 4/5] END .....C=100, gamma=0.01, kernel=rbf;, score=0.825 total time=  11.8s\n",
      "[CV 5/5] END .....C=100, gamma=0.01, kernel=rbf;, score=0.830 total time=  12.6s\n",
      "[CV 1/5] END .C=100, gamma=0.001, kernel=linear;, score=0.895 total time=   6.0s\n",
      "[CV 2/5] END .C=100, gamma=0.001, kernel=linear;, score=0.856 total time=   6.1s\n",
      "[CV 3/5] END .C=100, gamma=0.001, kernel=linear;, score=0.851 total time=   5.7s\n",
      "[CV 4/5] END .C=100, gamma=0.001, kernel=linear;, score=0.831 total time=   5.9s\n",
      "[CV 5/5] END .C=100, gamma=0.001, kernel=linear;, score=0.839 total time=   5.9s\n",
      "[CV 1/5] END ....C=100, gamma=0.001, kernel=rbf;, score=0.895 total time=   9.5s\n",
      "[CV 2/5] END ....C=100, gamma=0.001, kernel=rbf;, score=0.859 total time=   9.3s\n",
      "[CV 3/5] END ....C=100, gamma=0.001, kernel=rbf;, score=0.863 total time=   9.2s\n",
      "[CV 4/5] END ....C=100, gamma=0.001, kernel=rbf;, score=0.848 total time=   9.7s\n",
      "[CV 5/5] END ....C=100, gamma=0.001, kernel=rbf;, score=0.861 total time=   9.9s\n",
      "[CV 1/5] END C=100, gamma=0.0001, kernel=linear;, score=0.895 total time=   6.1s\n",
      "[CV 2/5] END C=100, gamma=0.0001, kernel=linear;, score=0.856 total time=   5.8s\n",
      "[CV 3/5] END C=100, gamma=0.0001, kernel=linear;, score=0.851 total time=   5.8s\n",
      "[CV 4/5] END C=100, gamma=0.0001, kernel=linear;, score=0.831 total time=   5.8s\n",
      "[CV 5/5] END C=100, gamma=0.0001, kernel=linear;, score=0.839 total time=   6.2s\n",
      "[CV 1/5] END ...C=100, gamma=0.0001, kernel=rbf;, score=0.896 total time=   6.9s\n",
      "[CV 2/5] END ...C=100, gamma=0.0001, kernel=rbf;, score=0.866 total time=   6.6s\n",
      "[CV 3/5] END ...C=100, gamma=0.0001, kernel=rbf;, score=0.865 total time=   6.9s\n",
      "[CV 4/5] END ...C=100, gamma=0.0001, kernel=rbf;, score=0.856 total time=   6.9s\n",
      "[CV 5/5] END ...C=100, gamma=0.0001, kernel=rbf;, score=0.870 total time=   6.9s\n",
      "[CV 1/5] END ....C=1000, gamma=1, kernel=linear;, score=0.895 total time=   5.8s\n",
      "[CV 2/5] END ....C=1000, gamma=1, kernel=linear;, score=0.856 total time=   6.0s\n",
      "[CV 3/5] END ....C=1000, gamma=1, kernel=linear;, score=0.851 total time=   5.5s\n",
      "[CV 4/5] END ....C=1000, gamma=1, kernel=linear;, score=0.831 total time=   5.9s\n",
      "[CV 5/5] END ....C=1000, gamma=1, kernel=linear;, score=0.839 total time=   6.4s\n",
      "[CV 1/5] END .......C=1000, gamma=1, kernel=rbf;, score=0.510 total time=  13.2s\n",
      "[CV 2/5] END .......C=1000, gamma=1, kernel=rbf;, score=0.506 total time=  13.7s\n",
      "[CV 3/5] END .......C=1000, gamma=1, kernel=rbf;, score=0.509 total time=  12.8s\n",
      "[CV 4/5] END .......C=1000, gamma=1, kernel=rbf;, score=0.505 total time=  12.0s\n",
      "[CV 5/5] END .......C=1000, gamma=1, kernel=rbf;, score=0.506 total time=  14.0s\n",
      "[CV 1/5] END ..C=1000, gamma=0.1, kernel=linear;, score=0.895 total time=   6.3s\n",
      "[CV 2/5] END ..C=1000, gamma=0.1, kernel=linear;, score=0.856 total time=   6.8s\n",
      "[CV 3/5] END ..C=1000, gamma=0.1, kernel=linear;, score=0.851 total time=   5.7s\n",
      "[CV 4/5] END ..C=1000, gamma=0.1, kernel=linear;, score=0.831 total time=   5.8s\n",
      "[CV 5/5] END ..C=1000, gamma=0.1, kernel=linear;, score=0.839 total time=   6.2s\n",
      "[CV 1/5] END .....C=1000, gamma=0.1, kernel=rbf;, score=0.551 total time=  13.2s\n",
      "[CV 2/5] END .....C=1000, gamma=0.1, kernel=rbf;, score=0.530 total time=  12.7s\n",
      "[CV 3/5] END .....C=1000, gamma=0.1, kernel=rbf;, score=0.527 total time=  12.4s\n",
      "[CV 4/5] END .....C=1000, gamma=0.1, kernel=rbf;, score=0.537 total time=  13.0s\n",
      "[CV 5/5] END .....C=1000, gamma=0.1, kernel=rbf;, score=0.539 total time=  13.6s\n",
      "[CV 1/5] END .C=1000, gamma=0.01, kernel=linear;, score=0.895 total time=   6.2s\n",
      "[CV 2/5] END .C=1000, gamma=0.01, kernel=linear;, score=0.856 total time=   6.0s\n",
      "[CV 3/5] END .C=1000, gamma=0.01, kernel=linear;, score=0.851 total time=   6.0s\n",
      "[CV 4/5] END .C=1000, gamma=0.01, kernel=linear;, score=0.831 total time=   5.5s\n",
      "[CV 5/5] END .C=1000, gamma=0.01, kernel=linear;, score=0.839 total time=   5.9s\n",
      "[CV 1/5] END ....C=1000, gamma=0.01, kernel=rbf;, score=0.838 total time=  13.0s\n",
      "[CV 2/5] END ....C=1000, gamma=0.01, kernel=rbf;, score=0.825 total time=  12.8s\n",
      "[CV 3/5] END ....C=1000, gamma=0.01, kernel=rbf;, score=0.830 total time=  12.5s\n",
      "[CV 4/5] END ....C=1000, gamma=0.01, kernel=rbf;, score=0.825 total time=  13.1s\n",
      "[CV 5/5] END ....C=1000, gamma=0.01, kernel=rbf;, score=0.830 total time=  12.9s\n",
      "[CV 1/5] END C=1000, gamma=0.001, kernel=linear;, score=0.895 total time=   6.4s\n",
      "[CV 2/5] END C=1000, gamma=0.001, kernel=linear;, score=0.856 total time=   6.0s\n",
      "[CV 3/5] END C=1000, gamma=0.001, kernel=linear;, score=0.851 total time=   6.1s\n",
      "[CV 4/5] END C=1000, gamma=0.001, kernel=linear;, score=0.831 total time=   5.8s\n",
      "[CV 5/5] END C=1000, gamma=0.001, kernel=linear;, score=0.839 total time=   5.9s\n",
      "[CV 1/5] END ...C=1000, gamma=0.001, kernel=rbf;, score=0.899 total time=   9.5s\n",
      "[CV 2/5] END ...C=1000, gamma=0.001, kernel=rbf;, score=0.859 total time=   8.8s\n",
      "[CV 3/5] END ...C=1000, gamma=0.001, kernel=rbf;, score=0.858 total time=   8.7s\n",
      "[CV 4/5] END ...C=1000, gamma=0.001, kernel=rbf;, score=0.843 total time=   9.4s\n",
      "[CV 5/5] END ...C=1000, gamma=0.001, kernel=rbf;, score=0.853 total time=   9.1s\n",
      "[CV 1/5] END C=1000, gamma=0.0001, kernel=linear;, score=0.895 total time=   6.5s\n",
      "[CV 2/5] END C=1000, gamma=0.0001, kernel=linear;, score=0.856 total time=   5.5s\n",
      "[CV 3/5] END C=1000, gamma=0.0001, kernel=linear;, score=0.851 total time=   5.8s\n",
      "[CV 4/5] END C=1000, gamma=0.0001, kernel=linear;, score=0.831 total time=   6.0s\n",
      "[CV 5/5] END C=1000, gamma=0.0001, kernel=linear;, score=0.839 total time=   6.1s\n",
      "[CV 1/5] END ..C=1000, gamma=0.0001, kernel=rbf;, score=0.895 total time=   6.4s\n",
      "[CV 2/5] END ..C=1000, gamma=0.0001, kernel=rbf;, score=0.853 total time=   5.7s\n",
      "[CV 3/5] END ..C=1000, gamma=0.0001, kernel=rbf;, score=0.851 total time=   6.3s\n",
      "[CV 4/5] END ..C=1000, gamma=0.0001, kernel=rbf;, score=0.844 total time=   6.2s\n",
      "[CV 5/5] END ..C=1000, gamma=0.0001, kernel=rbf;, score=0.848 total time=   6.1s\n",
      "{'C': 10, 'gamma': 0.001, 'kernel': 'rbf'}\n",
      "SVC(C=10, gamma=0.001)\n"
     ]
    }
   ],
   "source": [
    "# Parameters to test for each SVM type\n",
    "parameters = {\n",
    "    'C': [0.1, 1, 10, 100, 1000],\n",
    "    'gamma': [1, 0.1, 0.01, 0.001, 0.0001],\n",
    "    'kernel': ['linear', 'rbf']\n",
    "}\n",
    "# SVM model\n",
    "svm_model = svm.SVC()\n",
    "\n",
    "# Find the best hyperparameters for each SVM type\n",
    "grid_svm = GridSearchCV(svm_model, parameters, refit = True, verbose = 3)\n",
    "grid_svm.fit(X_train, y_train)\n",
    "\n",
    "# print best parameter after tuning\n",
    "print(grid_svm.best_params_)\n",
    "\n",
    "# print how our model looks after hyper-parameter tuning\n",
    "print(grid_svm.best_estimator_)"
   ],
   "metadata": {
    "collapsed": false
   }
  },
  {
   "cell_type": "code",
   "execution_count": 25,
   "outputs": [
    {
     "name": "stdout",
     "output_type": "stream",
     "text": [
      "              precision    recall  f1-score   support\n",
      "\n",
      "           0       0.89      0.85      0.87       521\n",
      "           1       0.84      0.89      0.87       479\n",
      "\n",
      "    accuracy                           0.87      1000\n",
      "   macro avg       0.87      0.87      0.87      1000\n",
      "weighted avg       0.87      0.87      0.87      1000\n",
      "\n"
     ]
    }
   ],
   "source": [
    "grid_predictions = grid_svm.predict(X_test)\n",
    "\n",
    "# print classification report\n",
    "print(classification_report(y_test, grid_predictions))"
   ],
   "metadata": {
    "collapsed": false
   }
  },
  {
   "cell_type": "markdown",
   "source": [
    "#### 5- regression model:"
   ],
   "metadata": {
    "collapsed": false
   }
  },
  {
   "cell_type": "code",
   "execution_count": 28,
   "outputs": [
    {
     "name": "stderr",
     "output_type": "stream",
     "text": [
      "C:\\Users\\asus\\programing\\ML\\.env\\Lib\\site-packages\\sklearn\\linear_model\\_logistic.py:458: ConvergenceWarning: lbfgs failed to converge (status=1):\n",
      "STOP: TOTAL NO. of ITERATIONS REACHED LIMIT.\n",
      "\n",
      "Increase the number of iterations (max_iter) or scale the data as shown in:\n",
      "    https://scikit-learn.org/stable/modules/preprocessing.html\n",
      "Please also refer to the documentation for alternative solver options:\n",
      "    https://scikit-learn.org/stable/modules/linear_model.html#logistic-regression\n",
      "  n_iter_i = _check_optimize_result(\n"
     ]
    },
    {
     "data": {
      "text/plain": "LogisticRegression()",
      "text/html": "<style>#sk-container-id-1 {color: black;background-color: white;}#sk-container-id-1 pre{padding: 0;}#sk-container-id-1 div.sk-toggleable {background-color: white;}#sk-container-id-1 label.sk-toggleable__label {cursor: pointer;display: block;width: 100%;margin-bottom: 0;padding: 0.3em;box-sizing: border-box;text-align: center;}#sk-container-id-1 label.sk-toggleable__label-arrow:before {content: \"▸\";float: left;margin-right: 0.25em;color: #696969;}#sk-container-id-1 label.sk-toggleable__label-arrow:hover:before {color: black;}#sk-container-id-1 div.sk-estimator:hover label.sk-toggleable__label-arrow:before {color: black;}#sk-container-id-1 div.sk-toggleable__content {max-height: 0;max-width: 0;overflow: hidden;text-align: left;background-color: #f0f8ff;}#sk-container-id-1 div.sk-toggleable__content pre {margin: 0.2em;color: black;border-radius: 0.25em;background-color: #f0f8ff;}#sk-container-id-1 input.sk-toggleable__control:checked~div.sk-toggleable__content {max-height: 200px;max-width: 100%;overflow: auto;}#sk-container-id-1 input.sk-toggleable__control:checked~label.sk-toggleable__label-arrow:before {content: \"▾\";}#sk-container-id-1 div.sk-estimator input.sk-toggleable__control:checked~label.sk-toggleable__label {background-color: #d4ebff;}#sk-container-id-1 div.sk-label input.sk-toggleable__control:checked~label.sk-toggleable__label {background-color: #d4ebff;}#sk-container-id-1 input.sk-hidden--visually {border: 0;clip: rect(1px 1px 1px 1px);clip: rect(1px, 1px, 1px, 1px);height: 1px;margin: -1px;overflow: hidden;padding: 0;position: absolute;width: 1px;}#sk-container-id-1 div.sk-estimator {font-family: monospace;background-color: #f0f8ff;border: 1px dotted black;border-radius: 0.25em;box-sizing: border-box;margin-bottom: 0.5em;}#sk-container-id-1 div.sk-estimator:hover {background-color: #d4ebff;}#sk-container-id-1 div.sk-parallel-item::after {content: \"\";width: 100%;border-bottom: 1px solid gray;flex-grow: 1;}#sk-container-id-1 div.sk-label:hover label.sk-toggleable__label {background-color: #d4ebff;}#sk-container-id-1 div.sk-serial::before {content: \"\";position: absolute;border-left: 1px solid gray;box-sizing: border-box;top: 0;bottom: 0;left: 50%;z-index: 0;}#sk-container-id-1 div.sk-serial {display: flex;flex-direction: column;align-items: center;background-color: white;padding-right: 0.2em;padding-left: 0.2em;position: relative;}#sk-container-id-1 div.sk-item {position: relative;z-index: 1;}#sk-container-id-1 div.sk-parallel {display: flex;align-items: stretch;justify-content: center;background-color: white;position: relative;}#sk-container-id-1 div.sk-item::before, #sk-container-id-1 div.sk-parallel-item::before {content: \"\";position: absolute;border-left: 1px solid gray;box-sizing: border-box;top: 0;bottom: 0;left: 50%;z-index: -1;}#sk-container-id-1 div.sk-parallel-item {display: flex;flex-direction: column;z-index: 1;position: relative;background-color: white;}#sk-container-id-1 div.sk-parallel-item:first-child::after {align-self: flex-end;width: 50%;}#sk-container-id-1 div.sk-parallel-item:last-child::after {align-self: flex-start;width: 50%;}#sk-container-id-1 div.sk-parallel-item:only-child::after {width: 0;}#sk-container-id-1 div.sk-dashed-wrapped {border: 1px dashed gray;margin: 0 0.4em 0.5em 0.4em;box-sizing: border-box;padding-bottom: 0.4em;background-color: white;}#sk-container-id-1 div.sk-label label {font-family: monospace;font-weight: bold;display: inline-block;line-height: 1.2em;}#sk-container-id-1 div.sk-label-container {text-align: center;}#sk-container-id-1 div.sk-container {/* jupyter's `normalize.less` sets `[hidden] { display: none; }` but bootstrap.min.css set `[hidden] { display: none !important; }` so we also need the `!important` here to be able to override the default hidden behavior on the sphinx rendered scikit-learn.org. See: https://github.com/scikit-learn/scikit-learn/issues/21755 */display: inline-block !important;position: relative;}#sk-container-id-1 div.sk-text-repr-fallback {display: none;}</style><div id=\"sk-container-id-1\" class=\"sk-top-container\"><div class=\"sk-text-repr-fallback\"><pre>LogisticRegression()</pre><b>In a Jupyter environment, please rerun this cell to show the HTML representation or trust the notebook. <br />On GitHub, the HTML representation is unable to render, please try loading this page with nbviewer.org.</b></div><div class=\"sk-container\" hidden><div class=\"sk-item\"><div class=\"sk-estimator sk-toggleable\"><input class=\"sk-toggleable__control sk-hidden--visually\" id=\"sk-estimator-id-1\" type=\"checkbox\" checked><label for=\"sk-estimator-id-1\" class=\"sk-toggleable__label sk-toggleable__label-arrow\">LogisticRegression</label><div class=\"sk-toggleable__content\"><pre>LogisticRegression()</pre></div></div></div></div></div>"
     },
     "execution_count": 28,
     "metadata": {},
     "output_type": "execute_result"
    }
   ],
   "source": [
    "regression_model = LogisticRegression()\n",
    "regression_model.fit(X_train,y_train)"
   ],
   "metadata": {
    "collapsed": false
   }
  },
  {
   "cell_type": "code",
   "execution_count": 30,
   "outputs": [
    {
     "name": "stdout",
     "output_type": "stream",
     "text": [
      "              precision    recall  f1-score   support\n",
      "\n",
      "           0       0.90      0.87      0.88       521\n",
      "           1       0.86      0.89      0.88       479\n",
      "\n",
      "    accuracy                           0.88      1000\n",
      "   macro avg       0.88      0.88      0.88      1000\n",
      "weighted avg       0.88      0.88      0.88      1000\n",
      "\n"
     ]
    }
   ],
   "source": [
    "y_predicted = regression_model.predict(X_test)\n",
    "\n",
    "# print classification report\n",
    "print(classification_report(y_test, y_predicted))"
   ],
   "metadata": {
    "collapsed": false
   }
  },
  {
   "cell_type": "markdown",
   "source": [
    "#### 6- using naive byes:"
   ],
   "metadata": {
    "collapsed": false
   }
  },
  {
   "cell_type": "code",
   "execution_count": 32,
   "outputs": [
    {
     "data": {
      "text/plain": "MultinomialNB()",
      "text/html": "<style>#sk-container-id-2 {color: black;background-color: white;}#sk-container-id-2 pre{padding: 0;}#sk-container-id-2 div.sk-toggleable {background-color: white;}#sk-container-id-2 label.sk-toggleable__label {cursor: pointer;display: block;width: 100%;margin-bottom: 0;padding: 0.3em;box-sizing: border-box;text-align: center;}#sk-container-id-2 label.sk-toggleable__label-arrow:before {content: \"▸\";float: left;margin-right: 0.25em;color: #696969;}#sk-container-id-2 label.sk-toggleable__label-arrow:hover:before {color: black;}#sk-container-id-2 div.sk-estimator:hover label.sk-toggleable__label-arrow:before {color: black;}#sk-container-id-2 div.sk-toggleable__content {max-height: 0;max-width: 0;overflow: hidden;text-align: left;background-color: #f0f8ff;}#sk-container-id-2 div.sk-toggleable__content pre {margin: 0.2em;color: black;border-radius: 0.25em;background-color: #f0f8ff;}#sk-container-id-2 input.sk-toggleable__control:checked~div.sk-toggleable__content {max-height: 200px;max-width: 100%;overflow: auto;}#sk-container-id-2 input.sk-toggleable__control:checked~label.sk-toggleable__label-arrow:before {content: \"▾\";}#sk-container-id-2 div.sk-estimator input.sk-toggleable__control:checked~label.sk-toggleable__label {background-color: #d4ebff;}#sk-container-id-2 div.sk-label input.sk-toggleable__control:checked~label.sk-toggleable__label {background-color: #d4ebff;}#sk-container-id-2 input.sk-hidden--visually {border: 0;clip: rect(1px 1px 1px 1px);clip: rect(1px, 1px, 1px, 1px);height: 1px;margin: -1px;overflow: hidden;padding: 0;position: absolute;width: 1px;}#sk-container-id-2 div.sk-estimator {font-family: monospace;background-color: #f0f8ff;border: 1px dotted black;border-radius: 0.25em;box-sizing: border-box;margin-bottom: 0.5em;}#sk-container-id-2 div.sk-estimator:hover {background-color: #d4ebff;}#sk-container-id-2 div.sk-parallel-item::after {content: \"\";width: 100%;border-bottom: 1px solid gray;flex-grow: 1;}#sk-container-id-2 div.sk-label:hover label.sk-toggleable__label {background-color: #d4ebff;}#sk-container-id-2 div.sk-serial::before {content: \"\";position: absolute;border-left: 1px solid gray;box-sizing: border-box;top: 0;bottom: 0;left: 50%;z-index: 0;}#sk-container-id-2 div.sk-serial {display: flex;flex-direction: column;align-items: center;background-color: white;padding-right: 0.2em;padding-left: 0.2em;position: relative;}#sk-container-id-2 div.sk-item {position: relative;z-index: 1;}#sk-container-id-2 div.sk-parallel {display: flex;align-items: stretch;justify-content: center;background-color: white;position: relative;}#sk-container-id-2 div.sk-item::before, #sk-container-id-2 div.sk-parallel-item::before {content: \"\";position: absolute;border-left: 1px solid gray;box-sizing: border-box;top: 0;bottom: 0;left: 50%;z-index: -1;}#sk-container-id-2 div.sk-parallel-item {display: flex;flex-direction: column;z-index: 1;position: relative;background-color: white;}#sk-container-id-2 div.sk-parallel-item:first-child::after {align-self: flex-end;width: 50%;}#sk-container-id-2 div.sk-parallel-item:last-child::after {align-self: flex-start;width: 50%;}#sk-container-id-2 div.sk-parallel-item:only-child::after {width: 0;}#sk-container-id-2 div.sk-dashed-wrapped {border: 1px dashed gray;margin: 0 0.4em 0.5em 0.4em;box-sizing: border-box;padding-bottom: 0.4em;background-color: white;}#sk-container-id-2 div.sk-label label {font-family: monospace;font-weight: bold;display: inline-block;line-height: 1.2em;}#sk-container-id-2 div.sk-label-container {text-align: center;}#sk-container-id-2 div.sk-container {/* jupyter's `normalize.less` sets `[hidden] { display: none; }` but bootstrap.min.css set `[hidden] { display: none !important; }` so we also need the `!important` here to be able to override the default hidden behavior on the sphinx rendered scikit-learn.org. See: https://github.com/scikit-learn/scikit-learn/issues/21755 */display: inline-block !important;position: relative;}#sk-container-id-2 div.sk-text-repr-fallback {display: none;}</style><div id=\"sk-container-id-2\" class=\"sk-top-container\"><div class=\"sk-text-repr-fallback\"><pre>MultinomialNB()</pre><b>In a Jupyter environment, please rerun this cell to show the HTML representation or trust the notebook. <br />On GitHub, the HTML representation is unable to render, please try loading this page with nbviewer.org.</b></div><div class=\"sk-container\" hidden><div class=\"sk-item\"><div class=\"sk-estimator sk-toggleable\"><input class=\"sk-toggleable__control sk-hidden--visually\" id=\"sk-estimator-id-2\" type=\"checkbox\" checked><label for=\"sk-estimator-id-2\" class=\"sk-toggleable__label sk-toggleable__label-arrow\">MultinomialNB</label><div class=\"sk-toggleable__content\"><pre>MultinomialNB()</pre></div></div></div></div></div>"
     },
     "execution_count": 32,
     "metadata": {},
     "output_type": "execute_result"
    }
   ],
   "source": [
    "naive_byes_model = MultinomialNB()\n",
    "naive_byes_model.fit(X_train, y_train)"
   ],
   "metadata": {
    "collapsed": false
   }
  },
  {
   "cell_type": "code",
   "execution_count": 33,
   "outputs": [
    {
     "name": "stdout",
     "output_type": "stream",
     "text": [
      "              precision    recall  f1-score   support\n",
      "\n",
      "           0       0.90      0.92      0.91       521\n",
      "           1       0.91      0.89      0.90       479\n",
      "\n",
      "    accuracy                           0.91      1000\n",
      "   macro avg       0.91      0.91      0.91      1000\n",
      "weighted avg       0.91      0.91      0.91      1000\n",
      "\n"
     ]
    }
   ],
   "source": [
    "y_predicted = naive_byes_model.predict(X_test)\n",
    "\n",
    "# print classification report\n",
    "print(classification_report(y_test, y_predicted))"
   ],
   "metadata": {
    "collapsed": false
   }
  },
  {
   "cell_type": "markdown",
   "source": [
    "#### the Final result:\n",
    "<table>\n",
    "  <tr>\n",
    "    <th>model type</th>\n",
    "    <th>accuracy</th>\n",
    "    <th>f1-score</th>\n",
    "  </tr>\n",
    "  <tr>\n",
    "    <td>Naive byes model</td>\n",
    "    <td>91%</td>\n",
    "    <td>0.91</td>\n",
    "  </tr>\n",
    "  <tr>\n",
    "    <td>Logistic Regression</td>\n",
    "    <td>88%</td>\n",
    "    <td>0.88</td>\n",
    "  </tr>\n",
    "  <tr>\n",
    "    <td>SVM model</td>\n",
    "    <td>87%</td>\n",
    "    <td>0.87</td>\n",
    "  </tr>\n",
    "</table>"
   ],
   "metadata": {
    "collapsed": false
   }
  },
  {
   "cell_type": "code",
   "execution_count": null,
   "outputs": [],
   "source": [],
   "metadata": {
    "collapsed": false
   }
  }
 ],
 "metadata": {
  "kernelspec": {
   "display_name": "Python 3",
   "language": "python",
   "name": "python3"
  },
  "language_info": {
   "codemirror_mode": {
    "name": "ipython",
    "version": 2
   },
   "file_extension": ".py",
   "mimetype": "text/x-python",
   "name": "python",
   "nbconvert_exporter": "python",
   "pygments_lexer": "ipython2",
   "version": "2.7.6"
  }
 },
 "nbformat": 4,
 "nbformat_minor": 0
}
