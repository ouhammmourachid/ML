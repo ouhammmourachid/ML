{
 "cells": [
  {
   "cell_type": "code",
   "execution_count": 1,
   "id": "8d722f04",
   "metadata": {
    "_cell_guid": "b1076dfc-b9ad-4769-8c92-a6c4dae69d19",
    "_uuid": "8f2839f25d086af736a60e9eeb907d3b93b6e0e5",
    "execution": {
     "iopub.execute_input": "2023-03-25T21:29:02.017625Z",
     "iopub.status.busy": "2023-03-25T21:29:02.016145Z",
     "iopub.status.idle": "2023-03-25T21:29:18.394099Z",
     "shell.execute_reply": "2023-03-25T21:29:18.392782Z"
    },
    "papermill": {
     "duration": 16.389803,
     "end_time": "2023-03-25T21:29:18.397350",
     "exception": false,
     "start_time": "2023-03-25T21:29:02.007547",
     "status": "completed"
    },
    "tags": []
   },
   "outputs": [],
   "source": [
    "import numpy as np\n",
    "from wordcloud import WordCloud\n",
    "import spacy\n",
    "from sklearn.feature_extraction.text import CountVectorizer\n",
    "import matplotlib.pyplot as plt\n",
    "import pandas as pd\n",
    "from nltk.tokenize import TweetTokenizer\n",
    "import warnings\n",
    "warnings.filterwarnings('ignore')\n",
    "plt.style.use(\"seaborn-whitegrid\")\n",
    "plt.rc(\"figure\", autolayout=True)\n",
    "plt.rc(\n",
    "    \"axes\",\n",
    "    labelweight=\"bold\",\n",
    "    labelsize=\"large\",\n",
    "    titleweight=\"bold\",\n",
    "    titlesize=14,\n",
    "    titlepad=10,\n",
    ")"
   ]
  },
  {
   "cell_type": "code",
   "execution_count": 2,
   "id": "9d2a8272",
   "metadata": {
    "execution": {
     "iopub.execute_input": "2023-03-25T21:29:18.411398Z",
     "iopub.status.busy": "2023-03-25T21:29:18.410582Z",
     "iopub.status.idle": "2023-03-25T21:29:18.473393Z",
     "shell.execute_reply": "2023-03-25T21:29:18.472017Z"
    },
    "papermill": {
     "duration": 0.073234,
     "end_time": "2023-03-25T21:29:18.476175",
     "exception": false,
     "start_time": "2023-03-25T21:29:18.402941",
     "status": "completed"
    },
    "tags": []
   },
   "outputs": [],
   "source": [
    "path = \"/kaggle/input/nlp-getting-started/\"\n",
    "train_data = pd.read_csv(path+\"train.csv\", index_col=0)"
   ]
  },
  {
   "cell_type": "code",
   "execution_count": 3,
   "id": "558d17c4",
   "metadata": {
    "execution": {
     "iopub.execute_input": "2023-03-25T21:29:18.489138Z",
     "iopub.status.busy": "2023-03-25T21:29:18.487977Z",
     "iopub.status.idle": "2023-03-25T21:29:18.514814Z",
     "shell.execute_reply": "2023-03-25T21:29:18.513680Z"
    },
    "papermill": {
     "duration": 0.035875,
     "end_time": "2023-03-25T21:29:18.517480",
     "exception": false,
     "start_time": "2023-03-25T21:29:18.481605",
     "status": "completed"
    },
    "tags": []
   },
   "outputs": [
    {
     "data": {
      "text/html": [
       "<div>\n",
       "<style scoped>\n",
       "    .dataframe tbody tr th:only-of-type {\n",
       "        vertical-align: middle;\n",
       "    }\n",
       "\n",
       "    .dataframe tbody tr th {\n",
       "        vertical-align: top;\n",
       "    }\n",
       "\n",
       "    .dataframe thead th {\n",
       "        text-align: right;\n",
       "    }\n",
       "</style>\n",
       "<table border=\"1\" class=\"dataframe\">\n",
       "  <thead>\n",
       "    <tr style=\"text-align: right;\">\n",
       "      <th></th>\n",
       "      <th>keyword</th>\n",
       "      <th>location</th>\n",
       "      <th>text</th>\n",
       "      <th>target</th>\n",
       "    </tr>\n",
       "    <tr>\n",
       "      <th>id</th>\n",
       "      <th></th>\n",
       "      <th></th>\n",
       "      <th></th>\n",
       "      <th></th>\n",
       "    </tr>\n",
       "  </thead>\n",
       "  <tbody>\n",
       "    <tr>\n",
       "      <th>1</th>\n",
       "      <td>NaN</td>\n",
       "      <td>NaN</td>\n",
       "      <td>Our Deeds are the Reason of this #earthquake M...</td>\n",
       "      <td>1</td>\n",
       "    </tr>\n",
       "    <tr>\n",
       "      <th>4</th>\n",
       "      <td>NaN</td>\n",
       "      <td>NaN</td>\n",
       "      <td>Forest fire near La Ronge Sask. Canada</td>\n",
       "      <td>1</td>\n",
       "    </tr>\n",
       "    <tr>\n",
       "      <th>5</th>\n",
       "      <td>NaN</td>\n",
       "      <td>NaN</td>\n",
       "      <td>All residents asked to 'shelter in place' are ...</td>\n",
       "      <td>1</td>\n",
       "    </tr>\n",
       "    <tr>\n",
       "      <th>6</th>\n",
       "      <td>NaN</td>\n",
       "      <td>NaN</td>\n",
       "      <td>13,000 people receive #wildfires evacuation or...</td>\n",
       "      <td>1</td>\n",
       "    </tr>\n",
       "    <tr>\n",
       "      <th>7</th>\n",
       "      <td>NaN</td>\n",
       "      <td>NaN</td>\n",
       "      <td>Just got sent this photo from Ruby #Alaska as ...</td>\n",
       "      <td>1</td>\n",
       "    </tr>\n",
       "  </tbody>\n",
       "</table>\n",
       "</div>"
      ],
      "text/plain": [
       "   keyword location                                               text  target\n",
       "id                                                                            \n",
       "1      NaN      NaN  Our Deeds are the Reason of this #earthquake M...       1\n",
       "4      NaN      NaN             Forest fire near La Ronge Sask. Canada       1\n",
       "5      NaN      NaN  All residents asked to 'shelter in place' are ...       1\n",
       "6      NaN      NaN  13,000 people receive #wildfires evacuation or...       1\n",
       "7      NaN      NaN  Just got sent this photo from Ruby #Alaska as ...       1"
      ]
     },
     "execution_count": 3,
     "metadata": {},
     "output_type": "execute_result"
    }
   ],
   "source": [
    "train_data.head()"
   ]
  },
  {
   "cell_type": "markdown",
   "id": "bc619a35",
   "metadata": {
    "papermill": {
     "duration": 0.005076,
     "end_time": "2023-03-25T21:29:18.528060",
     "exception": false,
     "start_time": "2023-03-25T21:29:18.522984",
     "status": "completed"
    },
    "tags": []
   },
   "source": [
    "*\n",
    "#### 2- preprocessing the data:"
   ]
  },
  {
   "cell_type": "code",
   "execution_count": 4,
   "id": "f589abb7",
   "metadata": {
    "execution": {
     "iopub.execute_input": "2023-03-25T21:29:18.541169Z",
     "iopub.status.busy": "2023-03-25T21:29:18.540070Z",
     "iopub.status.idle": "2023-03-25T21:29:18.549256Z",
     "shell.execute_reply": "2023-03-25T21:29:18.548040Z"
    },
    "papermill": {
     "duration": 0.018879,
     "end_time": "2023-03-25T21:29:18.552225",
     "exception": false,
     "start_time": "2023-03-25T21:29:18.533346",
     "status": "completed"
    },
    "tags": []
   },
   "outputs": [],
   "source": [
    "y_train = train_data[\"target\"]\n",
    "x_train = train_data.drop([\"keyword\",\"location\",\"target\"],axis = 1)\n"
   ]
  },
  {
   "cell_type": "code",
   "execution_count": 5,
   "id": "aedc3b93",
   "metadata": {
    "execution": {
     "iopub.execute_input": "2023-03-25T21:29:18.565639Z",
     "iopub.status.busy": "2023-03-25T21:29:18.565156Z",
     "iopub.status.idle": "2023-03-25T21:29:18.572479Z",
     "shell.execute_reply": "2023-03-25T21:29:18.571185Z"
    },
    "papermill": {
     "duration": 0.016974,
     "end_time": "2023-03-25T21:29:18.574967",
     "exception": false,
     "start_time": "2023-03-25T21:29:18.557993",
     "status": "completed"
    },
    "tags": []
   },
   "outputs": [
    {
     "data": {
      "text/plain": [
       "(7613, 1)"
      ]
     },
     "execution_count": 5,
     "metadata": {},
     "output_type": "execute_result"
    }
   ],
   "source": [
    "x_train.shape"
   ]
  },
  {
   "cell_type": "code",
   "execution_count": 6,
   "id": "29f8d6e9",
   "metadata": {
    "execution": {
     "iopub.execute_input": "2023-03-25T21:29:18.588425Z",
     "iopub.status.busy": "2023-03-25T21:29:18.587723Z",
     "iopub.status.idle": "2023-03-25T21:29:18.596740Z",
     "shell.execute_reply": "2023-03-25T21:29:18.595537Z"
    },
    "papermill": {
     "duration": 0.018412,
     "end_time": "2023-03-25T21:29:18.598960",
     "exception": false,
     "start_time": "2023-03-25T21:29:18.580548",
     "status": "completed"
    },
    "tags": []
   },
   "outputs": [
    {
     "data": {
      "text/plain": [
       "'our deeds are the reason of this #earthquake may allah forgive us all'"
      ]
     },
     "execution_count": 6,
     "metadata": {},
     "output_type": "execute_result"
    }
   ],
   "source": [
    "def preprocess(text: str) -> str :\n",
    "    return ' '.join([token.lower() for token in TweetTokenizer().tokenize(text)])\n",
    "\n",
    "preprocess(x_train.loc[1].text)"
   ]
  },
  {
   "cell_type": "code",
   "execution_count": 7,
   "id": "3c115fac",
   "metadata": {
    "execution": {
     "iopub.execute_input": "2023-03-25T21:29:18.612366Z",
     "iopub.status.busy": "2023-03-25T21:29:18.611673Z",
     "iopub.status.idle": "2023-03-25T21:29:18.961884Z",
     "shell.execute_reply": "2023-03-25T21:29:18.960794Z"
    },
    "papermill": {
     "duration": 0.360047,
     "end_time": "2023-03-25T21:29:18.964610",
     "exception": false,
     "start_time": "2023-03-25T21:29:18.604563",
     "status": "completed"
    },
    "tags": []
   },
   "outputs": [],
   "source": [
    "x_train['processed_text'] = x_train.text.apply(lambda txt : preprocess(txt))"
   ]
  },
  {
   "cell_type": "code",
   "execution_count": 8,
   "id": "5a7d9e5a",
   "metadata": {
    "execution": {
     "iopub.execute_input": "2023-03-25T21:29:18.978458Z",
     "iopub.status.busy": "2023-03-25T21:29:18.978012Z",
     "iopub.status.idle": "2023-03-25T21:29:18.989533Z",
     "shell.execute_reply": "2023-03-25T21:29:18.988671Z"
    },
    "papermill": {
     "duration": 0.021132,
     "end_time": "2023-03-25T21:29:18.991628",
     "exception": false,
     "start_time": "2023-03-25T21:29:18.970496",
     "status": "completed"
    },
    "tags": []
   },
   "outputs": [
    {
     "data": {
      "text/html": [
       "<div>\n",
       "<style scoped>\n",
       "    .dataframe tbody tr th:only-of-type {\n",
       "        vertical-align: middle;\n",
       "    }\n",
       "\n",
       "    .dataframe tbody tr th {\n",
       "        vertical-align: top;\n",
       "    }\n",
       "\n",
       "    .dataframe thead th {\n",
       "        text-align: right;\n",
       "    }\n",
       "</style>\n",
       "<table border=\"1\" class=\"dataframe\">\n",
       "  <thead>\n",
       "    <tr style=\"text-align: right;\">\n",
       "      <th></th>\n",
       "      <th>text</th>\n",
       "      <th>processed_text</th>\n",
       "    </tr>\n",
       "    <tr>\n",
       "      <th>id</th>\n",
       "      <th></th>\n",
       "      <th></th>\n",
       "    </tr>\n",
       "  </thead>\n",
       "  <tbody>\n",
       "    <tr>\n",
       "      <th>1</th>\n",
       "      <td>Our Deeds are the Reason of this #earthquake M...</td>\n",
       "      <td>our deeds are the reason of this #earthquake m...</td>\n",
       "    </tr>\n",
       "    <tr>\n",
       "      <th>4</th>\n",
       "      <td>Forest fire near La Ronge Sask. Canada</td>\n",
       "      <td>forest fire near la ronge sask . canada</td>\n",
       "    </tr>\n",
       "    <tr>\n",
       "      <th>5</th>\n",
       "      <td>All residents asked to 'shelter in place' are ...</td>\n",
       "      <td>all residents asked to ' shelter in place ' ar...</td>\n",
       "    </tr>\n",
       "    <tr>\n",
       "      <th>6</th>\n",
       "      <td>13,000 people receive #wildfires evacuation or...</td>\n",
       "      <td>13,000 people receive #wildfires evacuation or...</td>\n",
       "    </tr>\n",
       "    <tr>\n",
       "      <th>7</th>\n",
       "      <td>Just got sent this photo from Ruby #Alaska as ...</td>\n",
       "      <td>just got sent this photo from ruby #alaska as ...</td>\n",
       "    </tr>\n",
       "  </tbody>\n",
       "</table>\n",
       "</div>"
      ],
      "text/plain": [
       "                                                 text  \\\n",
       "id                                                      \n",
       "1   Our Deeds are the Reason of this #earthquake M...   \n",
       "4              Forest fire near La Ronge Sask. Canada   \n",
       "5   All residents asked to 'shelter in place' are ...   \n",
       "6   13,000 people receive #wildfires evacuation or...   \n",
       "7   Just got sent this photo from Ruby #Alaska as ...   \n",
       "\n",
       "                                       processed_text  \n",
       "id                                                     \n",
       "1   our deeds are the reason of this #earthquake m...  \n",
       "4             forest fire near la ronge sask . canada  \n",
       "5   all residents asked to ' shelter in place ' ar...  \n",
       "6   13,000 people receive #wildfires evacuation or...  \n",
       "7   just got sent this photo from ruby #alaska as ...  "
      ]
     },
     "execution_count": 8,
     "metadata": {},
     "output_type": "execute_result"
    }
   ],
   "source": [
    "x_train.head()"
   ]
  },
  {
   "cell_type": "code",
   "execution_count": 9,
   "id": "62e12ba6",
   "metadata": {
    "execution": {
     "iopub.execute_input": "2023-03-25T21:29:19.006135Z",
     "iopub.status.busy": "2023-03-25T21:29:19.005399Z",
     "iopub.status.idle": "2023-03-25T21:29:19.187605Z",
     "shell.execute_reply": "2023-03-25T21:29:19.186220Z"
    },
    "papermill": {
     "duration": 0.193011,
     "end_time": "2023-03-25T21:29:19.190543",
     "exception": false,
     "start_time": "2023-03-25T21:29:18.997532",
     "status": "completed"
    },
    "tags": []
   },
   "outputs": [],
   "source": [
    "cv = CountVectorizer()\n",
    "\n",
    "X = cv.fit_transform(x_train.processed_text)"
   ]
  },
  {
   "cell_type": "code",
   "execution_count": 10,
   "id": "b3620ca1",
   "metadata": {
    "execution": {
     "iopub.execute_input": "2023-03-25T21:29:19.204468Z",
     "iopub.status.busy": "2023-03-25T21:29:19.204007Z",
     "iopub.status.idle": "2023-03-25T21:29:19.228683Z",
     "shell.execute_reply": "2023-03-25T21:29:19.227018Z"
    },
    "papermill": {
     "duration": 0.035095,
     "end_time": "2023-03-25T21:29:19.231639",
     "exception": false,
     "start_time": "2023-03-25T21:29:19.196544",
     "status": "completed"
    },
    "tags": []
   },
   "outputs": [
    {
     "name": "stdout",
     "output_type": "stream",
     "text": [
      "Accuracy:  0.9043740969394457\n"
     ]
    }
   ],
   "source": [
    "from sklearn.naive_bayes import MultinomialNB\n",
    "from sklearn.metrics import accuracy_score\n",
    "\n",
    "y = y_train\n",
    "# 1. Declare the model\n",
    "clf = MultinomialNB()\n",
    "\n",
    "# 2. Train the model\n",
    "clf.fit(X, y)\n",
    "\n",
    "# 3. Make predictions \n",
    "yhat = clf.predict(X)\n",
    "\n",
    "# 4. score\n",
    "print(\"Accuracy: \",accuracy_score(y, yhat))"
   ]
  },
  {
   "cell_type": "code",
   "execution_count": 11,
   "id": "4c669b3c",
   "metadata": {
    "execution": {
     "iopub.execute_input": "2023-03-25T21:29:19.246717Z",
     "iopub.status.busy": "2023-03-25T21:29:19.246288Z",
     "iopub.status.idle": "2023-03-25T21:29:19.433514Z",
     "shell.execute_reply": "2023-03-25T21:29:19.432475Z"
    },
    "papermill": {
     "duration": 0.197168,
     "end_time": "2023-03-25T21:29:19.436058",
     "exception": false,
     "start_time": "2023-03-25T21:29:19.238890",
     "status": "completed"
    },
    "tags": []
   },
   "outputs": [
    {
     "data": {
      "text/html": [
       "<div>\n",
       "<style scoped>\n",
       "    .dataframe tbody tr th:only-of-type {\n",
       "        vertical-align: middle;\n",
       "    }\n",
       "\n",
       "    .dataframe tbody tr th {\n",
       "        vertical-align: top;\n",
       "    }\n",
       "\n",
       "    .dataframe thead th {\n",
       "        text-align: right;\n",
       "    }\n",
       "</style>\n",
       "<table border=\"1\" class=\"dataframe\">\n",
       "  <thead>\n",
       "    <tr style=\"text-align: right;\">\n",
       "      <th></th>\n",
       "      <th>keyword</th>\n",
       "      <th>location</th>\n",
       "      <th>text</th>\n",
       "      <th>processed_text</th>\n",
       "    </tr>\n",
       "    <tr>\n",
       "      <th>id</th>\n",
       "      <th></th>\n",
       "      <th></th>\n",
       "      <th></th>\n",
       "      <th></th>\n",
       "    </tr>\n",
       "  </thead>\n",
       "  <tbody>\n",
       "    <tr>\n",
       "      <th>0</th>\n",
       "      <td>NaN</td>\n",
       "      <td>NaN</td>\n",
       "      <td>Just happened a terrible car crash</td>\n",
       "      <td>just happened a terrible car crash</td>\n",
       "    </tr>\n",
       "    <tr>\n",
       "      <th>2</th>\n",
       "      <td>NaN</td>\n",
       "      <td>NaN</td>\n",
       "      <td>Heard about #earthquake is different cities, s...</td>\n",
       "      <td>heard about #earthquake is different cities , ...</td>\n",
       "    </tr>\n",
       "    <tr>\n",
       "      <th>3</th>\n",
       "      <td>NaN</td>\n",
       "      <td>NaN</td>\n",
       "      <td>there is a forest fire at spot pond, geese are...</td>\n",
       "      <td>there is a forest fire at spot pond , geese ar...</td>\n",
       "    </tr>\n",
       "    <tr>\n",
       "      <th>9</th>\n",
       "      <td>NaN</td>\n",
       "      <td>NaN</td>\n",
       "      <td>Apocalypse lighting. #Spokane #wildfires</td>\n",
       "      <td>apocalypse lighting . #spokane #wildfires</td>\n",
       "    </tr>\n",
       "    <tr>\n",
       "      <th>11</th>\n",
       "      <td>NaN</td>\n",
       "      <td>NaN</td>\n",
       "      <td>Typhoon Soudelor kills 28 in China and Taiwan</td>\n",
       "      <td>typhoon soudelor kills 28 in china and taiwan</td>\n",
       "    </tr>\n",
       "  </tbody>\n",
       "</table>\n",
       "</div>"
      ],
      "text/plain": [
       "   keyword location                                               text  \\\n",
       "id                                                                       \n",
       "0      NaN      NaN                 Just happened a terrible car crash   \n",
       "2      NaN      NaN  Heard about #earthquake is different cities, s...   \n",
       "3      NaN      NaN  there is a forest fire at spot pond, geese are...   \n",
       "9      NaN      NaN           Apocalypse lighting. #Spokane #wildfires   \n",
       "11     NaN      NaN      Typhoon Soudelor kills 28 in China and Taiwan   \n",
       "\n",
       "                                       processed_text  \n",
       "id                                                     \n",
       "0                  just happened a terrible car crash  \n",
       "2   heard about #earthquake is different cities , ...  \n",
       "3   there is a forest fire at spot pond , geese ar...  \n",
       "9           apocalypse lighting . #spokane #wildfires  \n",
       "11      typhoon soudelor kills 28 in china and taiwan  "
      ]
     },
     "execution_count": 11,
     "metadata": {},
     "output_type": "execute_result"
    }
   ],
   "source": [
    "x_test = pd.read_csv(path+\"test.csv\", index_col=0)\n",
    "x_test['processed_text'] = x_test.text.apply(lambda txt : preprocess(txt))\n",
    "x_test.head()"
   ]
  },
  {
   "cell_type": "code",
   "execution_count": 12,
   "id": "be93ba1d",
   "metadata": {
    "execution": {
     "iopub.execute_input": "2023-03-25T21:29:19.451257Z",
     "iopub.status.busy": "2023-03-25T21:29:19.450755Z",
     "iopub.status.idle": "2023-03-25T21:29:19.513255Z",
     "shell.execute_reply": "2023-03-25T21:29:19.512062Z"
    },
    "papermill": {
     "duration": 0.073591,
     "end_time": "2023-03-25T21:29:19.516137",
     "exception": false,
     "start_time": "2023-03-25T21:29:19.442546",
     "status": "completed"
    },
    "tags": []
   },
   "outputs": [],
   "source": [
    "x_test_ = cv.transform(x_test.processed_text)"
   ]
  },
  {
   "cell_type": "code",
   "execution_count": 13,
   "id": "04e29c2d",
   "metadata": {
    "execution": {
     "iopub.execute_input": "2023-03-25T21:29:19.530814Z",
     "iopub.status.busy": "2023-03-25T21:29:19.529872Z",
     "iopub.status.idle": "2023-03-25T21:29:19.536843Z",
     "shell.execute_reply": "2023-03-25T21:29:19.535493Z"
    },
    "papermill": {
     "duration": 0.01706,
     "end_time": "2023-03-25T21:29:19.539387",
     "exception": false,
     "start_time": "2023-03-25T21:29:19.522327",
     "status": "completed"
    },
    "tags": []
   },
   "outputs": [],
   "source": [
    "y_test = clf.predict(x_test_)"
   ]
  },
  {
   "cell_type": "code",
   "execution_count": 14,
   "id": "a844dd32",
   "metadata": {
    "execution": {
     "iopub.execute_input": "2023-03-25T21:29:19.553893Z",
     "iopub.status.busy": "2023-03-25T21:29:19.553464Z",
     "iopub.status.idle": "2023-03-25T21:29:19.560806Z",
     "shell.execute_reply": "2023-03-25T21:29:19.559584Z"
    },
    "papermill": {
     "duration": 0.017588,
     "end_time": "2023-03-25T21:29:19.563287",
     "exception": false,
     "start_time": "2023-03-25T21:29:19.545699",
     "status": "completed"
    },
    "tags": []
   },
   "outputs": [
    {
     "data": {
      "text/plain": [
       "(3263,)"
      ]
     },
     "execution_count": 14,
     "metadata": {},
     "output_type": "execute_result"
    }
   ],
   "source": [
    "y_test.shape"
   ]
  },
  {
   "cell_type": "code",
   "execution_count": 15,
   "id": "d468b3b5",
   "metadata": {
    "execution": {
     "iopub.execute_input": "2023-03-25T21:29:19.577473Z",
     "iopub.status.busy": "2023-03-25T21:29:19.577055Z",
     "iopub.status.idle": "2023-03-25T21:29:19.584140Z",
     "shell.execute_reply": "2023-03-25T21:29:19.582897Z"
    },
    "papermill": {
     "duration": 0.017163,
     "end_time": "2023-03-25T21:29:19.586593",
     "exception": false,
     "start_time": "2023-03-25T21:29:19.569430",
     "status": "completed"
    },
    "tags": []
   },
   "outputs": [
    {
     "data": {
      "text/plain": [
       "(3263, 21615)"
      ]
     },
     "execution_count": 15,
     "metadata": {},
     "output_type": "execute_result"
    }
   ],
   "source": [
    "x_test_.shape"
   ]
  },
  {
   "cell_type": "code",
   "execution_count": 16,
   "id": "0d2f7117",
   "metadata": {
    "execution": {
     "iopub.execute_input": "2023-03-25T21:29:19.601634Z",
     "iopub.status.busy": "2023-03-25T21:29:19.601224Z",
     "iopub.status.idle": "2023-03-25T21:29:19.606573Z",
     "shell.execute_reply": "2023-03-25T21:29:19.605585Z"
    },
    "papermill": {
     "duration": 0.015721,
     "end_time": "2023-03-25T21:29:19.608805",
     "exception": false,
     "start_time": "2023-03-25T21:29:19.593084",
     "status": "completed"
    },
    "tags": []
   },
   "outputs": [],
   "source": [
    "submition = pd.DataFrame({'id':x_test.index,'target':y_test})"
   ]
  },
  {
   "cell_type": "code",
   "execution_count": 17,
   "id": "0c914e50",
   "metadata": {
    "execution": {
     "iopub.execute_input": "2023-03-25T21:29:19.623851Z",
     "iopub.status.busy": "2023-03-25T21:29:19.622705Z",
     "iopub.status.idle": "2023-03-25T21:29:19.633578Z",
     "shell.execute_reply": "2023-03-25T21:29:19.632483Z"
    },
    "papermill": {
     "duration": 0.020897,
     "end_time": "2023-03-25T21:29:19.636005",
     "exception": false,
     "start_time": "2023-03-25T21:29:19.615108",
     "status": "completed"
    },
    "tags": []
   },
   "outputs": [
    {
     "data": {
      "text/html": [
       "<div>\n",
       "<style scoped>\n",
       "    .dataframe tbody tr th:only-of-type {\n",
       "        vertical-align: middle;\n",
       "    }\n",
       "\n",
       "    .dataframe tbody tr th {\n",
       "        vertical-align: top;\n",
       "    }\n",
       "\n",
       "    .dataframe thead th {\n",
       "        text-align: right;\n",
       "    }\n",
       "</style>\n",
       "<table border=\"1\" class=\"dataframe\">\n",
       "  <thead>\n",
       "    <tr style=\"text-align: right;\">\n",
       "      <th></th>\n",
       "      <th>id</th>\n",
       "      <th>target</th>\n",
       "    </tr>\n",
       "  </thead>\n",
       "  <tbody>\n",
       "    <tr>\n",
       "      <th>0</th>\n",
       "      <td>0</td>\n",
       "      <td>1</td>\n",
       "    </tr>\n",
       "    <tr>\n",
       "      <th>1</th>\n",
       "      <td>2</td>\n",
       "      <td>1</td>\n",
       "    </tr>\n",
       "    <tr>\n",
       "      <th>2</th>\n",
       "      <td>3</td>\n",
       "      <td>1</td>\n",
       "    </tr>\n",
       "    <tr>\n",
       "      <th>3</th>\n",
       "      <td>9</td>\n",
       "      <td>1</td>\n",
       "    </tr>\n",
       "    <tr>\n",
       "      <th>4</th>\n",
       "      <td>11</td>\n",
       "      <td>1</td>\n",
       "    </tr>\n",
       "  </tbody>\n",
       "</table>\n",
       "</div>"
      ],
      "text/plain": [
       "   id  target\n",
       "0   0       1\n",
       "1   2       1\n",
       "2   3       1\n",
       "3   9       1\n",
       "4  11       1"
      ]
     },
     "execution_count": 17,
     "metadata": {},
     "output_type": "execute_result"
    }
   ],
   "source": [
    "submition.head()"
   ]
  },
  {
   "cell_type": "code",
   "execution_count": 18,
   "id": "f094c71d",
   "metadata": {
    "execution": {
     "iopub.execute_input": "2023-03-25T21:29:19.651380Z",
     "iopub.status.busy": "2023-03-25T21:29:19.650933Z",
     "iopub.status.idle": "2023-03-25T21:29:19.664792Z",
     "shell.execute_reply": "2023-03-25T21:29:19.663450Z"
    },
    "papermill": {
     "duration": 0.025088,
     "end_time": "2023-03-25T21:29:19.667725",
     "exception": false,
     "start_time": "2023-03-25T21:29:19.642637",
     "status": "completed"
    },
    "tags": []
   },
   "outputs": [],
   "source": [
    "submition.to_csv('submition.csv',index=False)"
   ]
  },
  {
   "cell_type": "code",
   "execution_count": null,
   "id": "ab41800b",
   "metadata": {
    "papermill": {
     "duration": 0.006361,
     "end_time": "2023-03-25T21:29:19.681008",
     "exception": false,
     "start_time": "2023-03-25T21:29:19.674647",
     "status": "completed"
    },
    "tags": []
   },
   "outputs": [],
   "source": []
  }
 ],
 "metadata": {
  "kernelspec": {
   "display_name": "Python 3",
   "language": "python",
   "name": "python3"
  },
  "language_info": {
   "codemirror_mode": {
    "name": "ipython",
    "version": 3
   },
   "file_extension": ".py",
   "mimetype": "text/x-python",
   "name": "python",
   "nbconvert_exporter": "python",
   "pygments_lexer": "ipython3",
   "version": "3.7.12"
  },
  "papermill": {
   "default_parameters": {},
   "duration": 32.283174,
   "end_time": "2023-03-25T21:29:22.712910",
   "environment_variables": {},
   "exception": null,
   "input_path": "__notebook__.ipynb",
   "output_path": "__notebook__.ipynb",
   "parameters": {},
   "start_time": "2023-03-25T21:28:50.429736",
   "version": "2.4.0"
  }
 },
 "nbformat": 4,
 "nbformat_minor": 5
}
