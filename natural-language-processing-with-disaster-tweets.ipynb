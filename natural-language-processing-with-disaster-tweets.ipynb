{
 "cells": [
  {
   "cell_type": "code",
   "execution_count": 1,
   "id": "4a677708",
   "metadata": {
    "_cell_guid": "b1076dfc-b9ad-4769-8c92-a6c4dae69d19",
    "_uuid": "8f2839f25d086af736a60e9eeb907d3b93b6e0e5",
    "execution": {
     "iopub.execute_input": "2023-03-25T21:14:45.897461Z",
     "iopub.status.busy": "2023-03-25T21:14:45.897011Z",
     "iopub.status.idle": "2023-03-25T21:15:00.174413Z",
     "shell.execute_reply": "2023-03-25T21:15:00.173242Z"
    },
    "papermill": {
     "duration": 14.289199,
     "end_time": "2023-03-25T21:15:00.177519",
     "exception": false,
     "start_time": "2023-03-25T21:14:45.888320",
     "status": "completed"
    },
    "tags": []
   },
   "outputs": [],
   "source": [
    "import numpy as np\n",
    "from wordcloud import WordCloud\n",
    "import spacy\n",
    "from sklearn.feature_extraction.text import CountVectorizer\n",
    "import matplotlib.pyplot as plt\n",
    "import pandas as pd\n",
    "%matplotlib inline\n",
    "import seaborn as sns\n",
    "from tqdm import tqdm_notebook\n",
    "from sklearn.model_selection import cross_val_score\n",
    "import warnings\n",
    "warnings.filterwarnings('ignore')\n",
    "plt.style.use(\"seaborn-whitegrid\")\n",
    "plt.rc(\"figure\", autolayout=True)\n",
    "plt.rc(\n",
    "    \"axes\",\n",
    "    labelweight=\"bold\",\n",
    "    labelsize=\"large\",\n",
    "    titleweight=\"bold\",\n",
    "    titlesize=14,\n",
    "    titlepad=10,\n",
    ")"
   ]
  },
  {
   "cell_type": "code",
   "execution_count": 2,
   "id": "9ae217a8",
   "metadata": {
    "execution": {
     "iopub.execute_input": "2023-03-25T21:15:00.191491Z",
     "iopub.status.busy": "2023-03-25T21:15:00.190149Z",
     "iopub.status.idle": "2023-03-25T21:15:00.254301Z",
     "shell.execute_reply": "2023-03-25T21:15:00.253100Z"
    },
    "papermill": {
     "duration": 0.07403,
     "end_time": "2023-03-25T21:15:00.257237",
     "exception": false,
     "start_time": "2023-03-25T21:15:00.183207",
     "status": "completed"
    },
    "tags": []
   },
   "outputs": [],
   "source": [
    "path = \"/kaggle/input/nlp-getting-started/\"\n",
    "train_data = pd.read_csv(path+\"train.csv\", index_col=0)"
   ]
  },
  {
   "cell_type": "code",
   "execution_count": 3,
   "id": "ef6a9af6",
   "metadata": {
    "execution": {
     "iopub.execute_input": "2023-03-25T21:15:00.270523Z",
     "iopub.status.busy": "2023-03-25T21:15:00.270131Z",
     "iopub.status.idle": "2023-03-25T21:15:00.294203Z",
     "shell.execute_reply": "2023-03-25T21:15:00.293016Z"
    },
    "papermill": {
     "duration": 0.034213,
     "end_time": "2023-03-25T21:15:00.297407",
     "exception": false,
     "start_time": "2023-03-25T21:15:00.263194",
     "status": "completed"
    },
    "tags": []
   },
   "outputs": [
    {
     "data": {
      "text/html": [
       "<div>\n",
       "<style scoped>\n",
       "    .dataframe tbody tr th:only-of-type {\n",
       "        vertical-align: middle;\n",
       "    }\n",
       "\n",
       "    .dataframe tbody tr th {\n",
       "        vertical-align: top;\n",
       "    }\n",
       "\n",
       "    .dataframe thead th {\n",
       "        text-align: right;\n",
       "    }\n",
       "</style>\n",
       "<table border=\"1\" class=\"dataframe\">\n",
       "  <thead>\n",
       "    <tr style=\"text-align: right;\">\n",
       "      <th></th>\n",
       "      <th>keyword</th>\n",
       "      <th>location</th>\n",
       "      <th>text</th>\n",
       "      <th>target</th>\n",
       "    </tr>\n",
       "    <tr>\n",
       "      <th>id</th>\n",
       "      <th></th>\n",
       "      <th></th>\n",
       "      <th></th>\n",
       "      <th></th>\n",
       "    </tr>\n",
       "  </thead>\n",
       "  <tbody>\n",
       "    <tr>\n",
       "      <th>1</th>\n",
       "      <td>NaN</td>\n",
       "      <td>NaN</td>\n",
       "      <td>Our Deeds are the Reason of this #earthquake M...</td>\n",
       "      <td>1</td>\n",
       "    </tr>\n",
       "    <tr>\n",
       "      <th>4</th>\n",
       "      <td>NaN</td>\n",
       "      <td>NaN</td>\n",
       "      <td>Forest fire near La Ronge Sask. Canada</td>\n",
       "      <td>1</td>\n",
       "    </tr>\n",
       "    <tr>\n",
       "      <th>5</th>\n",
       "      <td>NaN</td>\n",
       "      <td>NaN</td>\n",
       "      <td>All residents asked to 'shelter in place' are ...</td>\n",
       "      <td>1</td>\n",
       "    </tr>\n",
       "    <tr>\n",
       "      <th>6</th>\n",
       "      <td>NaN</td>\n",
       "      <td>NaN</td>\n",
       "      <td>13,000 people receive #wildfires evacuation or...</td>\n",
       "      <td>1</td>\n",
       "    </tr>\n",
       "    <tr>\n",
       "      <th>7</th>\n",
       "      <td>NaN</td>\n",
       "      <td>NaN</td>\n",
       "      <td>Just got sent this photo from Ruby #Alaska as ...</td>\n",
       "      <td>1</td>\n",
       "    </tr>\n",
       "  </tbody>\n",
       "</table>\n",
       "</div>"
      ],
      "text/plain": [
       "   keyword location                                               text  target\n",
       "id                                                                            \n",
       "1      NaN      NaN  Our Deeds are the Reason of this #earthquake M...       1\n",
       "4      NaN      NaN             Forest fire near La Ronge Sask. Canada       1\n",
       "5      NaN      NaN  All residents asked to 'shelter in place' are ...       1\n",
       "6      NaN      NaN  13,000 people receive #wildfires evacuation or...       1\n",
       "7      NaN      NaN  Just got sent this photo from Ruby #Alaska as ...       1"
      ]
     },
     "execution_count": 3,
     "metadata": {},
     "output_type": "execute_result"
    }
   ],
   "source": [
    "train_data.head()"
   ]
  },
  {
   "cell_type": "markdown",
   "id": "1cdd0800",
   "metadata": {
    "papermill": {
     "duration": 0.005435,
     "end_time": "2023-03-25T21:15:00.308816",
     "exception": false,
     "start_time": "2023-03-25T21:15:00.303381",
     "status": "completed"
    },
    "tags": []
   },
   "source": [
    "*\n",
    "#### 2- preprocessing the data:"
   ]
  },
  {
   "cell_type": "code",
   "execution_count": 4,
   "id": "025d42cb",
   "metadata": {
    "execution": {
     "iopub.execute_input": "2023-03-25T21:15:00.322185Z",
     "iopub.status.busy": "2023-03-25T21:15:00.321752Z",
     "iopub.status.idle": "2023-03-25T21:15:00.330484Z",
     "shell.execute_reply": "2023-03-25T21:15:00.329217Z"
    },
    "papermill": {
     "duration": 0.01828,
     "end_time": "2023-03-25T21:15:00.332783",
     "exception": false,
     "start_time": "2023-03-25T21:15:00.314503",
     "status": "completed"
    },
    "tags": []
   },
   "outputs": [],
   "source": [
    "y_train = train_data[\"target\"]\n",
    "x_train = train_data.drop([\"keyword\",\"location\",\"target\"],axis = 1)\n"
   ]
  },
  {
   "cell_type": "code",
   "execution_count": 5,
   "id": "a6c4f010",
   "metadata": {
    "execution": {
     "iopub.execute_input": "2023-03-25T21:15:00.345958Z",
     "iopub.status.busy": "2023-03-25T21:15:00.345560Z",
     "iopub.status.idle": "2023-03-25T21:15:00.353318Z",
     "shell.execute_reply": "2023-03-25T21:15:00.352135Z"
    },
    "papermill": {
     "duration": 0.017173,
     "end_time": "2023-03-25T21:15:00.355672",
     "exception": false,
     "start_time": "2023-03-25T21:15:00.338499",
     "status": "completed"
    },
    "tags": []
   },
   "outputs": [
    {
     "data": {
      "text/plain": [
       "(7613, 1)"
      ]
     },
     "execution_count": 5,
     "metadata": {},
     "output_type": "execute_result"
    }
   ],
   "source": [
    "x_train.shape"
   ]
  },
  {
   "cell_type": "code",
   "execution_count": 6,
   "id": "10865659",
   "metadata": {
    "execution": {
     "iopub.execute_input": "2023-03-25T21:15:00.369352Z",
     "iopub.status.busy": "2023-03-25T21:15:00.368931Z",
     "iopub.status.idle": "2023-03-25T21:15:04.776372Z",
     "shell.execute_reply": "2023-03-25T21:15:04.775325Z"
    },
    "papermill": {
     "duration": 4.417871,
     "end_time": "2023-03-25T21:15:04.779295",
     "exception": false,
     "start_time": "2023-03-25T21:15:00.361424",
     "status": "completed"
    },
    "tags": []
   },
   "outputs": [],
   "source": [
    "nlp = spacy.load(\"en_core_web_lg\")\n",
    "def preprocess(text: str) -> str :\n",
    "    doc = nlp(text)\n",
    "    tokens = [token.lemma_ for token in doc if not (token.is_stop and token.is_punct)]\n",
    "    return ' '.join(tokens)"
   ]
  },
  {
   "cell_type": "code",
   "execution_count": 7,
   "id": "8495980d",
   "metadata": {
    "execution": {
     "iopub.execute_input": "2023-03-25T21:15:04.793099Z",
     "iopub.status.busy": "2023-03-25T21:15:04.792193Z",
     "iopub.status.idle": "2023-03-25T21:15:04.797852Z",
     "shell.execute_reply": "2023-03-25T21:15:04.796701Z"
    },
    "papermill": {
     "duration": 0.015197,
     "end_time": "2023-03-25T21:15:04.800253",
     "exception": false,
     "start_time": "2023-03-25T21:15:04.785056",
     "status": "completed"
    },
    "tags": []
   },
   "outputs": [],
   "source": [
    "nlp.Defaults.stop_words.add(\"`,\")\n",
    "nlp.Defaults.stop_words.add(\"``\")"
   ]
  },
  {
   "cell_type": "code",
   "execution_count": 8,
   "id": "dad1e383",
   "metadata": {
    "execution": {
     "iopub.execute_input": "2023-03-25T21:15:04.813734Z",
     "iopub.status.busy": "2023-03-25T21:15:04.812806Z",
     "iopub.status.idle": "2023-03-25T21:16:17.020883Z",
     "shell.execute_reply": "2023-03-25T21:16:17.019514Z"
    },
    "papermill": {
     "duration": 72.218115,
     "end_time": "2023-03-25T21:16:17.024010",
     "exception": false,
     "start_time": "2023-03-25T21:15:04.805895",
     "status": "completed"
    },
    "tags": []
   },
   "outputs": [],
   "source": [
    "x_train['processed_text'] = x_train.text.apply(lambda txt : preprocess(txt))"
   ]
  },
  {
   "cell_type": "code",
   "execution_count": 9,
   "id": "218c4984",
   "metadata": {
    "execution": {
     "iopub.execute_input": "2023-03-25T21:16:17.037721Z",
     "iopub.status.busy": "2023-03-25T21:16:17.036969Z",
     "iopub.status.idle": "2023-03-25T21:16:17.048586Z",
     "shell.execute_reply": "2023-03-25T21:16:17.047313Z"
    },
    "papermill": {
     "duration": 0.021203,
     "end_time": "2023-03-25T21:16:17.051109",
     "exception": false,
     "start_time": "2023-03-25T21:16:17.029906",
     "status": "completed"
    },
    "tags": []
   },
   "outputs": [
    {
     "data": {
      "text/html": [
       "<div>\n",
       "<style scoped>\n",
       "    .dataframe tbody tr th:only-of-type {\n",
       "        vertical-align: middle;\n",
       "    }\n",
       "\n",
       "    .dataframe tbody tr th {\n",
       "        vertical-align: top;\n",
       "    }\n",
       "\n",
       "    .dataframe thead th {\n",
       "        text-align: right;\n",
       "    }\n",
       "</style>\n",
       "<table border=\"1\" class=\"dataframe\">\n",
       "  <thead>\n",
       "    <tr style=\"text-align: right;\">\n",
       "      <th></th>\n",
       "      <th>text</th>\n",
       "      <th>processed_text</th>\n",
       "    </tr>\n",
       "    <tr>\n",
       "      <th>id</th>\n",
       "      <th></th>\n",
       "      <th></th>\n",
       "    </tr>\n",
       "  </thead>\n",
       "  <tbody>\n",
       "    <tr>\n",
       "      <th>1</th>\n",
       "      <td>Our Deeds are the Reason of this #earthquake M...</td>\n",
       "      <td>our deed be the reason of this # earthquake ma...</td>\n",
       "    </tr>\n",
       "    <tr>\n",
       "      <th>4</th>\n",
       "      <td>Forest fire near La Ronge Sask. Canada</td>\n",
       "      <td>Forest fire near La Ronge Sask . Canada</td>\n",
       "    </tr>\n",
       "    <tr>\n",
       "      <th>5</th>\n",
       "      <td>All residents asked to 'shelter in place' are ...</td>\n",
       "      <td>all resident ask to ' shelter in place ' be be...</td>\n",
       "    </tr>\n",
       "    <tr>\n",
       "      <th>6</th>\n",
       "      <td>13,000 people receive #wildfires evacuation or...</td>\n",
       "      <td>13,000 people receive # wildfire evacuation or...</td>\n",
       "    </tr>\n",
       "    <tr>\n",
       "      <th>7</th>\n",
       "      <td>Just got sent this photo from Ruby #Alaska as ...</td>\n",
       "      <td>just got send this photo from Ruby # Alaska as...</td>\n",
       "    </tr>\n",
       "  </tbody>\n",
       "</table>\n",
       "</div>"
      ],
      "text/plain": [
       "                                                 text  \\\n",
       "id                                                      \n",
       "1   Our Deeds are the Reason of this #earthquake M...   \n",
       "4              Forest fire near La Ronge Sask. Canada   \n",
       "5   All residents asked to 'shelter in place' are ...   \n",
       "6   13,000 people receive #wildfires evacuation or...   \n",
       "7   Just got sent this photo from Ruby #Alaska as ...   \n",
       "\n",
       "                                       processed_text  \n",
       "id                                                     \n",
       "1   our deed be the reason of this # earthquake ma...  \n",
       "4             Forest fire near La Ronge Sask . Canada  \n",
       "5   all resident ask to ' shelter in place ' be be...  \n",
       "6   13,000 people receive # wildfire evacuation or...  \n",
       "7   just got send this photo from Ruby # Alaska as...  "
      ]
     },
     "execution_count": 9,
     "metadata": {},
     "output_type": "execute_result"
    }
   ],
   "source": [
    "x_train.head()"
   ]
  },
  {
   "cell_type": "code",
   "execution_count": 10,
   "id": "31bb7af0",
   "metadata": {
    "execution": {
     "iopub.execute_input": "2023-03-25T21:16:17.066642Z",
     "iopub.status.busy": "2023-03-25T21:16:17.065537Z",
     "iopub.status.idle": "2023-03-25T21:16:17.240853Z",
     "shell.execute_reply": "2023-03-25T21:16:17.239777Z"
    },
    "papermill": {
     "duration": 0.185289,
     "end_time": "2023-03-25T21:16:17.243654",
     "exception": false,
     "start_time": "2023-03-25T21:16:17.058365",
     "status": "completed"
    },
    "tags": []
   },
   "outputs": [],
   "source": [
    "cv = CountVectorizer()\n",
    "\n",
    "X = cv.fit_transform(x_train.processed_text)"
   ]
  },
  {
   "cell_type": "code",
   "execution_count": 11,
   "id": "2af9ef62",
   "metadata": {
    "execution": {
     "iopub.execute_input": "2023-03-25T21:16:17.257738Z",
     "iopub.status.busy": "2023-03-25T21:16:17.256929Z",
     "iopub.status.idle": "2023-03-25T21:16:17.282066Z",
     "shell.execute_reply": "2023-03-25T21:16:17.280458Z"
    },
    "papermill": {
     "duration": 0.035103,
     "end_time": "2023-03-25T21:16:17.284736",
     "exception": false,
     "start_time": "2023-03-25T21:16:17.249633",
     "status": "completed"
    },
    "tags": []
   },
   "outputs": [
    {
     "name": "stdout",
     "output_type": "stream",
     "text": [
      "Accuracy:  0.899119926441613\n"
     ]
    }
   ],
   "source": [
    "from sklearn.naive_bayes import MultinomialNB\n",
    "from sklearn.metrics import accuracy_score\n",
    "\n",
    "y = y_train\n",
    "# 1. Declare the model\n",
    "clf = MultinomialNB()\n",
    "\n",
    "# 2. Train the model\n",
    "clf.fit(X, y)\n",
    "\n",
    "# 3. Make predictions \n",
    "yhat = clf.predict(X)\n",
    "\n",
    "# 4. score\n",
    "print(\"Accuracy: \",accuracy_score(y, yhat))"
   ]
  },
  {
   "cell_type": "code",
   "execution_count": 12,
   "id": "a7bcd996",
   "metadata": {
    "execution": {
     "iopub.execute_input": "2023-03-25T21:16:17.298207Z",
     "iopub.status.busy": "2023-03-25T21:16:17.297792Z",
     "iopub.status.idle": "2023-03-25T21:16:47.467657Z",
     "shell.execute_reply": "2023-03-25T21:16:47.466385Z"
    },
    "papermill": {
     "duration": 30.185488,
     "end_time": "2023-03-25T21:16:47.476182",
     "exception": false,
     "start_time": "2023-03-25T21:16:17.290694",
     "status": "completed"
    },
    "tags": []
   },
   "outputs": [
    {
     "data": {
      "text/html": [
       "<div>\n",
       "<style scoped>\n",
       "    .dataframe tbody tr th:only-of-type {\n",
       "        vertical-align: middle;\n",
       "    }\n",
       "\n",
       "    .dataframe tbody tr th {\n",
       "        vertical-align: top;\n",
       "    }\n",
       "\n",
       "    .dataframe thead th {\n",
       "        text-align: right;\n",
       "    }\n",
       "</style>\n",
       "<table border=\"1\" class=\"dataframe\">\n",
       "  <thead>\n",
       "    <tr style=\"text-align: right;\">\n",
       "      <th></th>\n",
       "      <th>keyword</th>\n",
       "      <th>location</th>\n",
       "      <th>text</th>\n",
       "      <th>processed_text</th>\n",
       "    </tr>\n",
       "    <tr>\n",
       "      <th>id</th>\n",
       "      <th></th>\n",
       "      <th></th>\n",
       "      <th></th>\n",
       "      <th></th>\n",
       "    </tr>\n",
       "  </thead>\n",
       "  <tbody>\n",
       "    <tr>\n",
       "      <th>0</th>\n",
       "      <td>NaN</td>\n",
       "      <td>NaN</td>\n",
       "      <td>Just happened a terrible car crash</td>\n",
       "      <td>just happen a terrible car crash</td>\n",
       "    </tr>\n",
       "    <tr>\n",
       "      <th>2</th>\n",
       "      <td>NaN</td>\n",
       "      <td>NaN</td>\n",
       "      <td>Heard about #earthquake is different cities, s...</td>\n",
       "      <td>hear about # earthquake be different city , st...</td>\n",
       "    </tr>\n",
       "    <tr>\n",
       "      <th>3</th>\n",
       "      <td>NaN</td>\n",
       "      <td>NaN</td>\n",
       "      <td>there is a forest fire at spot pond, geese are...</td>\n",
       "      <td>there be a forest fire at spot pond , goose be...</td>\n",
       "    </tr>\n",
       "    <tr>\n",
       "      <th>9</th>\n",
       "      <td>NaN</td>\n",
       "      <td>NaN</td>\n",
       "      <td>Apocalypse lighting. #Spokane #wildfires</td>\n",
       "      <td>Apocalypse lighting . # Spokane # wildfire</td>\n",
       "    </tr>\n",
       "    <tr>\n",
       "      <th>11</th>\n",
       "      <td>NaN</td>\n",
       "      <td>NaN</td>\n",
       "      <td>Typhoon Soudelor kills 28 in China and Taiwan</td>\n",
       "      <td>Typhoon Soudelor kill 28 in China and Taiwan</td>\n",
       "    </tr>\n",
       "  </tbody>\n",
       "</table>\n",
       "</div>"
      ],
      "text/plain": [
       "   keyword location                                               text  \\\n",
       "id                                                                       \n",
       "0      NaN      NaN                 Just happened a terrible car crash   \n",
       "2      NaN      NaN  Heard about #earthquake is different cities, s...   \n",
       "3      NaN      NaN  there is a forest fire at spot pond, geese are...   \n",
       "9      NaN      NaN           Apocalypse lighting. #Spokane #wildfires   \n",
       "11     NaN      NaN      Typhoon Soudelor kills 28 in China and Taiwan   \n",
       "\n",
       "                                       processed_text  \n",
       "id                                                     \n",
       "0                    just happen a terrible car crash  \n",
       "2   hear about # earthquake be different city , st...  \n",
       "3   there be a forest fire at spot pond , goose be...  \n",
       "9          Apocalypse lighting . # Spokane # wildfire  \n",
       "11       Typhoon Soudelor kill 28 in China and Taiwan  "
      ]
     },
     "execution_count": 12,
     "metadata": {},
     "output_type": "execute_result"
    }
   ],
   "source": [
    "x_test = pd.read_csv(path+\"test.csv\", index_col=0)\n",
    "x_test['processed_text'] = x_test.text.apply(lambda txt : preprocess(txt))\n",
    "x_test.head()"
   ]
  },
  {
   "cell_type": "code",
   "execution_count": 13,
   "id": "9c893097",
   "metadata": {
    "execution": {
     "iopub.execute_input": "2023-03-25T21:16:47.490085Z",
     "iopub.status.busy": "2023-03-25T21:16:47.489671Z",
     "iopub.status.idle": "2023-03-25T21:16:47.552631Z",
     "shell.execute_reply": "2023-03-25T21:16:47.551406Z"
    },
    "papermill": {
     "duration": 0.073135,
     "end_time": "2023-03-25T21:16:47.555410",
     "exception": false,
     "start_time": "2023-03-25T21:16:47.482275",
     "status": "completed"
    },
    "tags": []
   },
   "outputs": [],
   "source": [
    "x_test_ = cv.transform(x_test.processed_text)"
   ]
  },
  {
   "cell_type": "code",
   "execution_count": 14,
   "id": "19524ea6",
   "metadata": {
    "execution": {
     "iopub.execute_input": "2023-03-25T21:16:47.569342Z",
     "iopub.status.busy": "2023-03-25T21:16:47.568888Z",
     "iopub.status.idle": "2023-03-25T21:16:47.575416Z",
     "shell.execute_reply": "2023-03-25T21:16:47.573972Z"
    },
    "papermill": {
     "duration": 0.016165,
     "end_time": "2023-03-25T21:16:47.577800",
     "exception": false,
     "start_time": "2023-03-25T21:16:47.561635",
     "status": "completed"
    },
    "tags": []
   },
   "outputs": [],
   "source": [
    "y_test = clf.predict(x_test_)"
   ]
  },
  {
   "cell_type": "code",
   "execution_count": 15,
   "id": "35312892",
   "metadata": {
    "execution": {
     "iopub.execute_input": "2023-03-25T21:16:47.591916Z",
     "iopub.status.busy": "2023-03-25T21:16:47.591556Z",
     "iopub.status.idle": "2023-03-25T21:16:47.599500Z",
     "shell.execute_reply": "2023-03-25T21:16:47.597975Z"
    },
    "papermill": {
     "duration": 0.017893,
     "end_time": "2023-03-25T21:16:47.601934",
     "exception": false,
     "start_time": "2023-03-25T21:16:47.584041",
     "status": "completed"
    },
    "tags": []
   },
   "outputs": [
    {
     "data": {
      "text/plain": [
       "(3263,)"
      ]
     },
     "execution_count": 15,
     "metadata": {},
     "output_type": "execute_result"
    }
   ],
   "source": [
    "y_test.shape"
   ]
  },
  {
   "cell_type": "code",
   "execution_count": 16,
   "id": "96e3895a",
   "metadata": {
    "execution": {
     "iopub.execute_input": "2023-03-25T21:16:47.616312Z",
     "iopub.status.busy": "2023-03-25T21:16:47.615914Z",
     "iopub.status.idle": "2023-03-25T21:16:47.622961Z",
     "shell.execute_reply": "2023-03-25T21:16:47.621852Z"
    },
    "papermill": {
     "duration": 0.017213,
     "end_time": "2023-03-25T21:16:47.625477",
     "exception": false,
     "start_time": "2023-03-25T21:16:47.608264",
     "status": "completed"
    },
    "tags": []
   },
   "outputs": [
    {
     "data": {
      "text/plain": [
       "(3263, 19957)"
      ]
     },
     "execution_count": 16,
     "metadata": {},
     "output_type": "execute_result"
    }
   ],
   "source": [
    "x_test_.shape"
   ]
  },
  {
   "cell_type": "code",
   "execution_count": 17,
   "id": "24c2510e",
   "metadata": {
    "execution": {
     "iopub.execute_input": "2023-03-25T21:16:47.640719Z",
     "iopub.status.busy": "2023-03-25T21:16:47.640332Z",
     "iopub.status.idle": "2023-03-25T21:16:47.645536Z",
     "shell.execute_reply": "2023-03-25T21:16:47.644501Z"
    },
    "papermill": {
     "duration": 0.016283,
     "end_time": "2023-03-25T21:16:47.648118",
     "exception": false,
     "start_time": "2023-03-25T21:16:47.631835",
     "status": "completed"
    },
    "tags": []
   },
   "outputs": [],
   "source": [
    "submition = pd.DataFrame({'id':x_test.index,'target':y_test})"
   ]
  },
  {
   "cell_type": "code",
   "execution_count": 18,
   "id": "73d2a242",
   "metadata": {
    "execution": {
     "iopub.execute_input": "2023-03-25T21:16:47.663118Z",
     "iopub.status.busy": "2023-03-25T21:16:47.662727Z",
     "iopub.status.idle": "2023-03-25T21:16:47.672447Z",
     "shell.execute_reply": "2023-03-25T21:16:47.671271Z"
    },
    "papermill": {
     "duration": 0.020178,
     "end_time": "2023-03-25T21:16:47.674844",
     "exception": false,
     "start_time": "2023-03-25T21:16:47.654666",
     "status": "completed"
    },
    "tags": []
   },
   "outputs": [
    {
     "data": {
      "text/html": [
       "<div>\n",
       "<style scoped>\n",
       "    .dataframe tbody tr th:only-of-type {\n",
       "        vertical-align: middle;\n",
       "    }\n",
       "\n",
       "    .dataframe tbody tr th {\n",
       "        vertical-align: top;\n",
       "    }\n",
       "\n",
       "    .dataframe thead th {\n",
       "        text-align: right;\n",
       "    }\n",
       "</style>\n",
       "<table border=\"1\" class=\"dataframe\">\n",
       "  <thead>\n",
       "    <tr style=\"text-align: right;\">\n",
       "      <th></th>\n",
       "      <th>id</th>\n",
       "      <th>target</th>\n",
       "    </tr>\n",
       "  </thead>\n",
       "  <tbody>\n",
       "    <tr>\n",
       "      <th>0</th>\n",
       "      <td>0</td>\n",
       "      <td>1</td>\n",
       "    </tr>\n",
       "    <tr>\n",
       "      <th>1</th>\n",
       "      <td>2</td>\n",
       "      <td>0</td>\n",
       "    </tr>\n",
       "    <tr>\n",
       "      <th>2</th>\n",
       "      <td>3</td>\n",
       "      <td>1</td>\n",
       "    </tr>\n",
       "    <tr>\n",
       "      <th>3</th>\n",
       "      <td>9</td>\n",
       "      <td>1</td>\n",
       "    </tr>\n",
       "    <tr>\n",
       "      <th>4</th>\n",
       "      <td>11</td>\n",
       "      <td>1</td>\n",
       "    </tr>\n",
       "  </tbody>\n",
       "</table>\n",
       "</div>"
      ],
      "text/plain": [
       "   id  target\n",
       "0   0       1\n",
       "1   2       0\n",
       "2   3       1\n",
       "3   9       1\n",
       "4  11       1"
      ]
     },
     "execution_count": 18,
     "metadata": {},
     "output_type": "execute_result"
    }
   ],
   "source": [
    "submition.head()"
   ]
  },
  {
   "cell_type": "code",
   "execution_count": 19,
   "id": "2b76bb9a",
   "metadata": {
    "execution": {
     "iopub.execute_input": "2023-03-25T21:16:47.690468Z",
     "iopub.status.busy": "2023-03-25T21:16:47.689409Z",
     "iopub.status.idle": "2023-03-25T21:16:47.703396Z",
     "shell.execute_reply": "2023-03-25T21:16:47.702318Z"
    },
    "papermill": {
     "duration": 0.024645,
     "end_time": "2023-03-25T21:16:47.706121",
     "exception": false,
     "start_time": "2023-03-25T21:16:47.681476",
     "status": "completed"
    },
    "tags": []
   },
   "outputs": [],
   "source": [
    "submition.to_csv('submition.csv',index=False)"
   ]
  },
  {
   "cell_type": "code",
   "execution_count": null,
   "id": "c64591a6",
   "metadata": {
    "papermill": {
     "duration": 0.00636,
     "end_time": "2023-03-25T21:16:47.719558",
     "exception": false,
     "start_time": "2023-03-25T21:16:47.713198",
     "status": "completed"
    },
    "tags": []
   },
   "outputs": [],
   "source": []
  }
 ],
 "metadata": {
  "kernelspec": {
   "display_name": "Python 3",
   "language": "python",
   "name": "python3"
  },
  "language_info": {
   "codemirror_mode": {
    "name": "ipython",
    "version": 3
   },
   "file_extension": ".py",
   "mimetype": "text/x-python",
   "name": "python",
   "nbconvert_exporter": "python",
   "pygments_lexer": "ipython3",
   "version": "3.7.12"
  },
  "papermill": {
   "default_parameters": {},
   "duration": 134.722942,
   "end_time": "2023-03-25T21:16:50.964426",
   "environment_variables": {},
   "exception": null,
   "input_path": "__notebook__.ipynb",
   "output_path": "__notebook__.ipynb",
   "parameters": {},
   "start_time": "2023-03-25T21:14:36.241484",
   "version": "2.4.0"
  }
 },
 "nbformat": 4,
 "nbformat_minor": 5
}
