{
 "cells": [
  {
   "cell_type": "code",
   "execution_count": 1,
   "id": "1d78f8f0",
   "metadata": {
    "_cell_guid": "b1076dfc-b9ad-4769-8c92-a6c4dae69d19",
    "_uuid": "8f2839f25d086af736a60e9eeb907d3b93b6e0e5",
    "execution": {
     "iopub.execute_input": "2023-03-25T18:34:32.429879Z",
     "iopub.status.busy": "2023-03-25T18:34:32.429474Z",
     "iopub.status.idle": "2023-03-25T18:34:49.972760Z",
     "shell.execute_reply": "2023-03-25T18:34:49.971423Z"
    },
    "papermill": {
     "duration": 17.551358,
     "end_time": "2023-03-25T18:34:49.976080",
     "exception": false,
     "start_time": "2023-03-25T18:34:32.424722",
     "status": "completed"
    },
    "tags": []
   },
   "outputs": [],
   "source": [
    "import numpy as np\n",
    "from wordcloud import WordCloud\n",
    "import spacy\n",
    "from sklearn.feature_extraction.text import CountVectorizer\n",
    "from nltk.tokenize import TweetTokenizer\n",
    "import matplotlib.pyplot as plt\n",
    "import pandas as pd\n",
    "%matplotlib inline\n",
    "import seaborn as sns\n",
    "from tqdm import tqdm_notebook\n",
    "from sklearn.model_selection import cross_val_score\n",
    "import warnings\n",
    "warnings.filterwarnings('ignore')\n",
    "plt.style.use(\"seaborn-whitegrid\")\n",
    "plt.rc(\"figure\", autolayout=True)\n",
    "plt.rc(\n",
    "    \"axes\",\n",
    "    labelweight=\"bold\",\n",
    "    labelsize=\"large\",\n",
    "    titleweight=\"bold\",\n",
    "    titlesize=14,\n",
    "    titlepad=10,\n",
    ")"
   ]
  },
  {
   "cell_type": "code",
   "execution_count": 2,
   "id": "2e9d2882",
   "metadata": {
    "execution": {
     "iopub.execute_input": "2023-03-25T18:34:49.982173Z",
     "iopub.status.busy": "2023-03-25T18:34:49.981388Z",
     "iopub.status.idle": "2023-03-25T18:34:49.989988Z",
     "shell.execute_reply": "2023-03-25T18:34:49.988568Z"
    },
    "papermill": {
     "duration": 0.014421,
     "end_time": "2023-03-25T18:34:49.992657",
     "exception": false,
     "start_time": "2023-03-25T18:34:49.978236",
     "status": "completed"
    },
    "tags": []
   },
   "outputs": [
    {
     "name": "stdout",
     "output_type": "stream",
     "text": [
      "/kaggle/input/nlp-getting-started/sample_submission.csv\n",
      "/kaggle/input/nlp-getting-started/train.csv\n",
      "/kaggle/input/nlp-getting-started/test.csv\n"
     ]
    }
   ],
   "source": [
    "import os\n",
    "for dirname, _, filenames in os.walk('/kaggle/input'):\n",
    "    for filename in filenames:\n",
    "        print(os.path.join(dirname, filename))"
   ]
  },
  {
   "cell_type": "code",
   "execution_count": null,
   "id": "93ed2df9",
   "metadata": {
    "papermill": {
     "duration": 0.001541,
     "end_time": "2023-03-25T18:34:49.996156",
     "exception": false,
     "start_time": "2023-03-25T18:34:49.994615",
     "status": "completed"
    },
    "tags": []
   },
   "outputs": [],
   "source": []
  }
 ],
 "metadata": {
  "kernelspec": {
   "display_name": "Python 3",
   "language": "python",
   "name": "python3"
  },
  "language_info": {
   "codemirror_mode": {
    "name": "ipython",
    "version": 3
   },
   "file_extension": ".py",
   "mimetype": "text/x-python",
   "name": "python",
   "nbconvert_exporter": "python",
   "pygments_lexer": "ipython3",
   "version": "3.7.12"
  },
  "papermill": {
   "default_parameters": {},
   "duration": 30.731476,
   "end_time": "2023-03-25T18:34:52.652102",
   "environment_variables": {},
   "exception": null,
   "input_path": "__notebook__.ipynb",
   "output_path": "__notebook__.ipynb",
   "parameters": {},
   "start_time": "2023-03-25T18:34:21.920626",
   "version": "2.4.0"
  }
 },
 "nbformat": 4,
 "nbformat_minor": 5
}
