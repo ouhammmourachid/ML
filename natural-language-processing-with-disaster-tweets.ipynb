{
 "cells": [
  {
   "cell_type": "code",
   "execution_count": 1,
   "id": "69565a33",
   "metadata": {
    "_cell_guid": "b1076dfc-b9ad-4769-8c92-a6c4dae69d19",
    "_uuid": "8f2839f25d086af736a60e9eeb907d3b93b6e0e5",
    "execution": {
     "iopub.execute_input": "2023-03-25T21:14:28.650281Z",
     "iopub.status.busy": "2023-03-25T21:14:28.649715Z",
     "iopub.status.idle": "2023-03-25T21:14:42.413909Z",
     "shell.execute_reply": "2023-03-25T21:14:42.412516Z"
    },
    "papermill": {
     "duration": 13.776313,
     "end_time": "2023-03-25T21:14:42.417036",
     "exception": false,
     "start_time": "2023-03-25T21:14:28.640723",
     "status": "completed"
    },
    "tags": []
   },
   "outputs": [],
   "source": [
    "import numpy as np\n",
    "from wordcloud import WordCloud\n",
    "import spacy\n",
    "from sklearn.feature_extraction.text import CountVectorizer\n",
    "import matplotlib.pyplot as plt\n",
    "import pandas as pd\n",
    "%matplotlib inline\n",
    "import seaborn as sns\n",
    "from tqdm import tqdm_notebook\n",
    "from sklearn.model_selection import cross_val_score\n",
    "import warnings\n",
    "warnings.filterwarnings('ignore')\n",
    "plt.style.use(\"seaborn-whitegrid\")\n",
    "plt.rc(\"figure\", autolayout=True)\n",
    "plt.rc(\n",
    "    \"axes\",\n",
    "    labelweight=\"bold\",\n",
    "    labelsize=\"large\",\n",
    "    titleweight=\"bold\",\n",
    "    titlesize=14,\n",
    "    titlepad=10,\n",
    ")"
   ]
  },
  {
   "cell_type": "code",
   "execution_count": 2,
   "id": "c8c6b08f",
   "metadata": {
    "execution": {
     "iopub.execute_input": "2023-03-25T21:14:42.430827Z",
     "iopub.status.busy": "2023-03-25T21:14:42.430082Z",
     "iopub.status.idle": "2023-03-25T21:14:42.482014Z",
     "shell.execute_reply": "2023-03-25T21:14:42.480836Z"
    },
    "papermill": {
     "duration": 0.062385,
     "end_time": "2023-03-25T21:14:42.485003",
     "exception": false,
     "start_time": "2023-03-25T21:14:42.422618",
     "status": "completed"
    },
    "tags": []
   },
   "outputs": [],
   "source": [
    "path = \"/kaggle/input/nlp-getting-started/\"\n",
    "train_data = pd.read_csv(path+\"train.csv\", index_col=0)"
   ]
  },
  {
   "cell_type": "code",
   "execution_count": 3,
   "id": "cb7d21f3",
   "metadata": {
    "execution": {
     "iopub.execute_input": "2023-03-25T21:14:42.497561Z",
     "iopub.status.busy": "2023-03-25T21:14:42.496764Z",
     "iopub.status.idle": "2023-03-25T21:14:42.522229Z",
     "shell.execute_reply": "2023-03-25T21:14:42.520963Z"
    },
    "papermill": {
     "duration": 0.0344,
     "end_time": "2023-03-25T21:14:42.524750",
     "exception": false,
     "start_time": "2023-03-25T21:14:42.490350",
     "status": "completed"
    },
    "tags": []
   },
   "outputs": [
    {
     "data": {
      "text/html": [
       "<div>\n",
       "<style scoped>\n",
       "    .dataframe tbody tr th:only-of-type {\n",
       "        vertical-align: middle;\n",
       "    }\n",
       "\n",
       "    .dataframe tbody tr th {\n",
       "        vertical-align: top;\n",
       "    }\n",
       "\n",
       "    .dataframe thead th {\n",
       "        text-align: right;\n",
       "    }\n",
       "</style>\n",
       "<table border=\"1\" class=\"dataframe\">\n",
       "  <thead>\n",
       "    <tr style=\"text-align: right;\">\n",
       "      <th></th>\n",
       "      <th>keyword</th>\n",
       "      <th>location</th>\n",
       "      <th>text</th>\n",
       "      <th>target</th>\n",
       "    </tr>\n",
       "    <tr>\n",
       "      <th>id</th>\n",
       "      <th></th>\n",
       "      <th></th>\n",
       "      <th></th>\n",
       "      <th></th>\n",
       "    </tr>\n",
       "  </thead>\n",
       "  <tbody>\n",
       "    <tr>\n",
       "      <th>1</th>\n",
       "      <td>NaN</td>\n",
       "      <td>NaN</td>\n",
       "      <td>Our Deeds are the Reason of this #earthquake M...</td>\n",
       "      <td>1</td>\n",
       "    </tr>\n",
       "    <tr>\n",
       "      <th>4</th>\n",
       "      <td>NaN</td>\n",
       "      <td>NaN</td>\n",
       "      <td>Forest fire near La Ronge Sask. Canada</td>\n",
       "      <td>1</td>\n",
       "    </tr>\n",
       "    <tr>\n",
       "      <th>5</th>\n",
       "      <td>NaN</td>\n",
       "      <td>NaN</td>\n",
       "      <td>All residents asked to 'shelter in place' are ...</td>\n",
       "      <td>1</td>\n",
       "    </tr>\n",
       "    <tr>\n",
       "      <th>6</th>\n",
       "      <td>NaN</td>\n",
       "      <td>NaN</td>\n",
       "      <td>13,000 people receive #wildfires evacuation or...</td>\n",
       "      <td>1</td>\n",
       "    </tr>\n",
       "    <tr>\n",
       "      <th>7</th>\n",
       "      <td>NaN</td>\n",
       "      <td>NaN</td>\n",
       "      <td>Just got sent this photo from Ruby #Alaska as ...</td>\n",
       "      <td>1</td>\n",
       "    </tr>\n",
       "  </tbody>\n",
       "</table>\n",
       "</div>"
      ],
      "text/plain": [
       "   keyword location                                               text  target\n",
       "id                                                                            \n",
       "1      NaN      NaN  Our Deeds are the Reason of this #earthquake M...       1\n",
       "4      NaN      NaN             Forest fire near La Ronge Sask. Canada       1\n",
       "5      NaN      NaN  All residents asked to 'shelter in place' are ...       1\n",
       "6      NaN      NaN  13,000 people receive #wildfires evacuation or...       1\n",
       "7      NaN      NaN  Just got sent this photo from Ruby #Alaska as ...       1"
      ]
     },
     "execution_count": 3,
     "metadata": {},
     "output_type": "execute_result"
    }
   ],
   "source": [
    "train_data.head()"
   ]
  },
  {
   "cell_type": "markdown",
   "id": "9b3f55b9",
   "metadata": {
    "papermill": {
     "duration": 0.00514,
     "end_time": "2023-03-25T21:14:42.535724",
     "exception": false,
     "start_time": "2023-03-25T21:14:42.530584",
     "status": "completed"
    },
    "tags": []
   },
   "source": [
    "*\n",
    "#### 2- preprocessing the data:"
   ]
  },
  {
   "cell_type": "code",
   "execution_count": 4,
   "id": "f067f253",
   "metadata": {
    "execution": {
     "iopub.execute_input": "2023-03-25T21:14:42.548594Z",
     "iopub.status.busy": "2023-03-25T21:14:42.547843Z",
     "iopub.status.idle": "2023-03-25T21:14:42.556370Z",
     "shell.execute_reply": "2023-03-25T21:14:42.555473Z"
    },
    "papermill": {
     "duration": 0.017773,
     "end_time": "2023-03-25T21:14:42.558778",
     "exception": false,
     "start_time": "2023-03-25T21:14:42.541005",
     "status": "completed"
    },
    "tags": []
   },
   "outputs": [],
   "source": [
    "y_train = train_data[\"target\"]\n",
    "x_train = train_data.drop([\"keyword\",\"location\",\"target\"],axis = 1)\n"
   ]
  },
  {
   "cell_type": "code",
   "execution_count": 5,
   "id": "4010f8ad",
   "metadata": {
    "execution": {
     "iopub.execute_input": "2023-03-25T21:14:42.571913Z",
     "iopub.status.busy": "2023-03-25T21:14:42.571478Z",
     "iopub.status.idle": "2023-03-25T21:14:42.577863Z",
     "shell.execute_reply": "2023-03-25T21:14:42.576931Z"
    },
    "papermill": {
     "duration": 0.01567,
     "end_time": "2023-03-25T21:14:42.580056",
     "exception": false,
     "start_time": "2023-03-25T21:14:42.564386",
     "status": "completed"
    },
    "tags": []
   },
   "outputs": [
    {
     "data": {
      "text/plain": [
       "(7613, 1)"
      ]
     },
     "execution_count": 5,
     "metadata": {},
     "output_type": "execute_result"
    }
   ],
   "source": [
    "x_train.shape"
   ]
  },
  {
   "cell_type": "code",
   "execution_count": 6,
   "id": "261c34e8",
   "metadata": {
    "execution": {
     "iopub.execute_input": "2023-03-25T21:14:42.593520Z",
     "iopub.status.busy": "2023-03-25T21:14:42.592833Z",
     "iopub.status.idle": "2023-03-25T21:14:46.992792Z",
     "shell.execute_reply": "2023-03-25T21:14:46.991674Z"
    },
    "papermill": {
     "duration": 4.41021,
     "end_time": "2023-03-25T21:14:46.996051",
     "exception": false,
     "start_time": "2023-03-25T21:14:42.585841",
     "status": "completed"
    },
    "tags": []
   },
   "outputs": [],
   "source": [
    "nlp = spacy.load(\"en_core_web_lg\")\n",
    "def preprocess(text: str) -> str :\n",
    "    doc = nlp(text)\n",
    "    tokens = [token.lemma_ for token in doc if not (token.is_stop and token.is_punct)]\n",
    "    return ' '.join(tokens)"
   ]
  },
  {
   "cell_type": "code",
   "execution_count": 7,
   "id": "1a880d90",
   "metadata": {
    "execution": {
     "iopub.execute_input": "2023-03-25T21:14:47.010573Z",
     "iopub.status.busy": "2023-03-25T21:14:47.009582Z",
     "iopub.status.idle": "2023-03-25T21:14:47.016018Z",
     "shell.execute_reply": "2023-03-25T21:14:47.014636Z"
    },
    "papermill": {
     "duration": 0.016339,
     "end_time": "2023-03-25T21:14:47.018589",
     "exception": false,
     "start_time": "2023-03-25T21:14:47.002250",
     "status": "completed"
    },
    "tags": []
   },
   "outputs": [],
   "source": [
    "nlp.Defaults.stop_words.add(\"`,\")\n",
    "nlp.Defaults.stop_words.add(\"``\")"
   ]
  },
  {
   "cell_type": "code",
   "execution_count": 8,
   "id": "66b7e1e0",
   "metadata": {
    "execution": {
     "iopub.execute_input": "2023-03-25T21:14:47.032290Z",
     "iopub.status.busy": "2023-03-25T21:14:47.031245Z",
     "iopub.status.idle": "2023-03-25T21:16:00.699411Z",
     "shell.execute_reply": "2023-03-25T21:16:00.698118Z"
    },
    "papermill": {
     "duration": 73.678166,
     "end_time": "2023-03-25T21:16:00.702483",
     "exception": false,
     "start_time": "2023-03-25T21:14:47.024317",
     "status": "completed"
    },
    "tags": []
   },
   "outputs": [],
   "source": [
    "x_train['processed_text'] = x_train.text.apply(lambda txt : preprocess(txt))"
   ]
  },
  {
   "cell_type": "code",
   "execution_count": 9,
   "id": "9ce1fca7",
   "metadata": {
    "execution": {
     "iopub.execute_input": "2023-03-25T21:16:00.717299Z",
     "iopub.status.busy": "2023-03-25T21:16:00.716039Z",
     "iopub.status.idle": "2023-03-25T21:16:00.728476Z",
     "shell.execute_reply": "2023-03-25T21:16:00.727113Z"
    },
    "papermill": {
     "duration": 0.022603,
     "end_time": "2023-03-25T21:16:00.731306",
     "exception": false,
     "start_time": "2023-03-25T21:16:00.708703",
     "status": "completed"
    },
    "tags": []
   },
   "outputs": [
    {
     "data": {
      "text/html": [
       "<div>\n",
       "<style scoped>\n",
       "    .dataframe tbody tr th:only-of-type {\n",
       "        vertical-align: middle;\n",
       "    }\n",
       "\n",
       "    .dataframe tbody tr th {\n",
       "        vertical-align: top;\n",
       "    }\n",
       "\n",
       "    .dataframe thead th {\n",
       "        text-align: right;\n",
       "    }\n",
       "</style>\n",
       "<table border=\"1\" class=\"dataframe\">\n",
       "  <thead>\n",
       "    <tr style=\"text-align: right;\">\n",
       "      <th></th>\n",
       "      <th>text</th>\n",
       "      <th>processed_text</th>\n",
       "    </tr>\n",
       "    <tr>\n",
       "      <th>id</th>\n",
       "      <th></th>\n",
       "      <th></th>\n",
       "    </tr>\n",
       "  </thead>\n",
       "  <tbody>\n",
       "    <tr>\n",
       "      <th>1</th>\n",
       "      <td>Our Deeds are the Reason of this #earthquake M...</td>\n",
       "      <td>our deed be the reason of this # earthquake ma...</td>\n",
       "    </tr>\n",
       "    <tr>\n",
       "      <th>4</th>\n",
       "      <td>Forest fire near La Ronge Sask. Canada</td>\n",
       "      <td>Forest fire near La Ronge Sask . Canada</td>\n",
       "    </tr>\n",
       "    <tr>\n",
       "      <th>5</th>\n",
       "      <td>All residents asked to 'shelter in place' are ...</td>\n",
       "      <td>all resident ask to ' shelter in place ' be be...</td>\n",
       "    </tr>\n",
       "    <tr>\n",
       "      <th>6</th>\n",
       "      <td>13,000 people receive #wildfires evacuation or...</td>\n",
       "      <td>13,000 people receive # wildfire evacuation or...</td>\n",
       "    </tr>\n",
       "    <tr>\n",
       "      <th>7</th>\n",
       "      <td>Just got sent this photo from Ruby #Alaska as ...</td>\n",
       "      <td>just got send this photo from Ruby # Alaska as...</td>\n",
       "    </tr>\n",
       "  </tbody>\n",
       "</table>\n",
       "</div>"
      ],
      "text/plain": [
       "                                                 text  \\\n",
       "id                                                      \n",
       "1   Our Deeds are the Reason of this #earthquake M...   \n",
       "4              Forest fire near La Ronge Sask. Canada   \n",
       "5   All residents asked to 'shelter in place' are ...   \n",
       "6   13,000 people receive #wildfires evacuation or...   \n",
       "7   Just got sent this photo from Ruby #Alaska as ...   \n",
       "\n",
       "                                       processed_text  \n",
       "id                                                     \n",
       "1   our deed be the reason of this # earthquake ma...  \n",
       "4             Forest fire near La Ronge Sask . Canada  \n",
       "5   all resident ask to ' shelter in place ' be be...  \n",
       "6   13,000 people receive # wildfire evacuation or...  \n",
       "7   just got send this photo from Ruby # Alaska as...  "
      ]
     },
     "execution_count": 9,
     "metadata": {},
     "output_type": "execute_result"
    }
   ],
   "source": [
    "x_train.head()"
   ]
  },
  {
   "cell_type": "code",
   "execution_count": 10,
   "id": "3491464f",
   "metadata": {
    "execution": {
     "iopub.execute_input": "2023-03-25T21:16:00.746582Z",
     "iopub.status.busy": "2023-03-25T21:16:00.746176Z",
     "iopub.status.idle": "2023-03-25T21:16:00.926937Z",
     "shell.execute_reply": "2023-03-25T21:16:00.925582Z"
    },
    "papermill": {
     "duration": 0.191396,
     "end_time": "2023-03-25T21:16:00.929949",
     "exception": false,
     "start_time": "2023-03-25T21:16:00.738553",
     "status": "completed"
    },
    "tags": []
   },
   "outputs": [],
   "source": [
    "cv = CountVectorizer()\n",
    "\n",
    "X = cv.fit_transform(x_train.processed_text)"
   ]
  },
  {
   "cell_type": "code",
   "execution_count": 11,
   "id": "17b93a33",
   "metadata": {
    "execution": {
     "iopub.execute_input": "2023-03-25T21:16:00.943732Z",
     "iopub.status.busy": "2023-03-25T21:16:00.943295Z",
     "iopub.status.idle": "2023-03-25T21:16:00.966387Z",
     "shell.execute_reply": "2023-03-25T21:16:00.964857Z"
    },
    "papermill": {
     "duration": 0.033859,
     "end_time": "2023-03-25T21:16:00.969647",
     "exception": false,
     "start_time": "2023-03-25T21:16:00.935788",
     "status": "completed"
    },
    "tags": []
   },
   "outputs": [
    {
     "name": "stdout",
     "output_type": "stream",
     "text": [
      "Accuracy:  0.899119926441613\n"
     ]
    }
   ],
   "source": [
    "from sklearn.naive_bayes import MultinomialNB\n",
    "from sklearn.metrics import accuracy_score\n",
    "\n",
    "y = y_train\n",
    "# 1. Declare the model\n",
    "clf = MultinomialNB()\n",
    "\n",
    "# 2. Train the model\n",
    "clf.fit(X, y)\n",
    "\n",
    "# 3. Make predictions \n",
    "yhat = clf.predict(X)\n",
    "\n",
    "# 4. score\n",
    "print(\"Accuracy: \",accuracy_score(y, yhat))"
   ]
  },
  {
   "cell_type": "code",
   "execution_count": 12,
   "id": "f6195f38",
   "metadata": {
    "execution": {
     "iopub.execute_input": "2023-03-25T21:16:00.984327Z",
     "iopub.status.busy": "2023-03-25T21:16:00.983812Z",
     "iopub.status.idle": "2023-03-25T21:16:32.854335Z",
     "shell.execute_reply": "2023-03-25T21:16:32.852974Z"
    },
    "papermill": {
     "duration": 31.88793,
     "end_time": "2023-03-25T21:16:32.863732",
     "exception": false,
     "start_time": "2023-03-25T21:16:00.975802",
     "status": "completed"
    },
    "tags": []
   },
   "outputs": [
    {
     "data": {
      "text/html": [
       "<div>\n",
       "<style scoped>\n",
       "    .dataframe tbody tr th:only-of-type {\n",
       "        vertical-align: middle;\n",
       "    }\n",
       "\n",
       "    .dataframe tbody tr th {\n",
       "        vertical-align: top;\n",
       "    }\n",
       "\n",
       "    .dataframe thead th {\n",
       "        text-align: right;\n",
       "    }\n",
       "</style>\n",
       "<table border=\"1\" class=\"dataframe\">\n",
       "  <thead>\n",
       "    <tr style=\"text-align: right;\">\n",
       "      <th></th>\n",
       "      <th>keyword</th>\n",
       "      <th>location</th>\n",
       "      <th>text</th>\n",
       "      <th>processed_text</th>\n",
       "    </tr>\n",
       "    <tr>\n",
       "      <th>id</th>\n",
       "      <th></th>\n",
       "      <th></th>\n",
       "      <th></th>\n",
       "      <th></th>\n",
       "    </tr>\n",
       "  </thead>\n",
       "  <tbody>\n",
       "    <tr>\n",
       "      <th>0</th>\n",
       "      <td>NaN</td>\n",
       "      <td>NaN</td>\n",
       "      <td>Just happened a terrible car crash</td>\n",
       "      <td>just happen a terrible car crash</td>\n",
       "    </tr>\n",
       "    <tr>\n",
       "      <th>2</th>\n",
       "      <td>NaN</td>\n",
       "      <td>NaN</td>\n",
       "      <td>Heard about #earthquake is different cities, s...</td>\n",
       "      <td>hear about # earthquake be different city , st...</td>\n",
       "    </tr>\n",
       "    <tr>\n",
       "      <th>3</th>\n",
       "      <td>NaN</td>\n",
       "      <td>NaN</td>\n",
       "      <td>there is a forest fire at spot pond, geese are...</td>\n",
       "      <td>there be a forest fire at spot pond , goose be...</td>\n",
       "    </tr>\n",
       "    <tr>\n",
       "      <th>9</th>\n",
       "      <td>NaN</td>\n",
       "      <td>NaN</td>\n",
       "      <td>Apocalypse lighting. #Spokane #wildfires</td>\n",
       "      <td>Apocalypse lighting . # Spokane # wildfire</td>\n",
       "    </tr>\n",
       "    <tr>\n",
       "      <th>11</th>\n",
       "      <td>NaN</td>\n",
       "      <td>NaN</td>\n",
       "      <td>Typhoon Soudelor kills 28 in China and Taiwan</td>\n",
       "      <td>Typhoon Soudelor kill 28 in China and Taiwan</td>\n",
       "    </tr>\n",
       "  </tbody>\n",
       "</table>\n",
       "</div>"
      ],
      "text/plain": [
       "   keyword location                                               text  \\\n",
       "id                                                                       \n",
       "0      NaN      NaN                 Just happened a terrible car crash   \n",
       "2      NaN      NaN  Heard about #earthquake is different cities, s...   \n",
       "3      NaN      NaN  there is a forest fire at spot pond, geese are...   \n",
       "9      NaN      NaN           Apocalypse lighting. #Spokane #wildfires   \n",
       "11     NaN      NaN      Typhoon Soudelor kills 28 in China and Taiwan   \n",
       "\n",
       "                                       processed_text  \n",
       "id                                                     \n",
       "0                    just happen a terrible car crash  \n",
       "2   hear about # earthquake be different city , st...  \n",
       "3   there be a forest fire at spot pond , goose be...  \n",
       "9          Apocalypse lighting . # Spokane # wildfire  \n",
       "11       Typhoon Soudelor kill 28 in China and Taiwan  "
      ]
     },
     "execution_count": 12,
     "metadata": {},
     "output_type": "execute_result"
    }
   ],
   "source": [
    "x_test = pd.read_csv(path+\"test.csv\", index_col=0)\n",
    "x_test['processed_text'] = x_test.text.apply(lambda txt : preprocess(txt))\n",
    "x_test.head()"
   ]
  },
  {
   "cell_type": "code",
   "execution_count": 13,
   "id": "4a367173",
   "metadata": {
    "execution": {
     "iopub.execute_input": "2023-03-25T21:16:32.879520Z",
     "iopub.status.busy": "2023-03-25T21:16:32.878675Z",
     "iopub.status.idle": "2023-03-25T21:16:32.942016Z",
     "shell.execute_reply": "2023-03-25T21:16:32.940645Z"
    },
    "papermill": {
     "duration": 0.074107,
     "end_time": "2023-03-25T21:16:32.945030",
     "exception": false,
     "start_time": "2023-03-25T21:16:32.870923",
     "status": "completed"
    },
    "tags": []
   },
   "outputs": [],
   "source": [
    "x_test_ = cv.transform(x_test.processed_text)"
   ]
  },
  {
   "cell_type": "code",
   "execution_count": 14,
   "id": "9cab68cd",
   "metadata": {
    "execution": {
     "iopub.execute_input": "2023-03-25T21:16:32.959970Z",
     "iopub.status.busy": "2023-03-25T21:16:32.959179Z",
     "iopub.status.idle": "2023-03-25T21:16:32.965021Z",
     "shell.execute_reply": "2023-03-25T21:16:32.963971Z"
    },
    "papermill": {
     "duration": 0.016118,
     "end_time": "2023-03-25T21:16:32.967518",
     "exception": false,
     "start_time": "2023-03-25T21:16:32.951400",
     "status": "completed"
    },
    "tags": []
   },
   "outputs": [],
   "source": [
    "y_test = clf.predict(x_test_)"
   ]
  },
  {
   "cell_type": "code",
   "execution_count": 15,
   "id": "d9ccd499",
   "metadata": {
    "execution": {
     "iopub.execute_input": "2023-03-25T21:16:32.982169Z",
     "iopub.status.busy": "2023-03-25T21:16:32.981592Z",
     "iopub.status.idle": "2023-03-25T21:16:32.988841Z",
     "shell.execute_reply": "2023-03-25T21:16:32.987613Z"
    },
    "papermill": {
     "duration": 0.017543,
     "end_time": "2023-03-25T21:16:32.991301",
     "exception": false,
     "start_time": "2023-03-25T21:16:32.973758",
     "status": "completed"
    },
    "tags": []
   },
   "outputs": [
    {
     "data": {
      "text/plain": [
       "(3263,)"
      ]
     },
     "execution_count": 15,
     "metadata": {},
     "output_type": "execute_result"
    }
   ],
   "source": [
    "y_test.shape"
   ]
  },
  {
   "cell_type": "code",
   "execution_count": 16,
   "id": "010ec614",
   "metadata": {
    "execution": {
     "iopub.execute_input": "2023-03-25T21:16:33.006346Z",
     "iopub.status.busy": "2023-03-25T21:16:33.005886Z",
     "iopub.status.idle": "2023-03-25T21:16:33.012502Z",
     "shell.execute_reply": "2023-03-25T21:16:33.011600Z"
    },
    "papermill": {
     "duration": 0.016869,
     "end_time": "2023-03-25T21:16:33.014678",
     "exception": false,
     "start_time": "2023-03-25T21:16:32.997809",
     "status": "completed"
    },
    "tags": []
   },
   "outputs": [
    {
     "data": {
      "text/plain": [
       "(3263, 19957)"
      ]
     },
     "execution_count": 16,
     "metadata": {},
     "output_type": "execute_result"
    }
   ],
   "source": [
    "x_test_.shape"
   ]
  },
  {
   "cell_type": "code",
   "execution_count": 17,
   "id": "38e2250e",
   "metadata": {
    "execution": {
     "iopub.execute_input": "2023-03-25T21:16:33.029590Z",
     "iopub.status.busy": "2023-03-25T21:16:33.028810Z",
     "iopub.status.idle": "2023-03-25T21:16:33.035267Z",
     "shell.execute_reply": "2023-03-25T21:16:33.033966Z"
    },
    "papermill": {
     "duration": 0.016687,
     "end_time": "2023-03-25T21:16:33.037729",
     "exception": false,
     "start_time": "2023-03-25T21:16:33.021042",
     "status": "completed"
    },
    "tags": []
   },
   "outputs": [],
   "source": [
    "submition = pd.DataFrame({'id':x_test.index,'target':y_test})"
   ]
  },
  {
   "cell_type": "code",
   "execution_count": 18,
   "id": "4cf1a9ad",
   "metadata": {
    "execution": {
     "iopub.execute_input": "2023-03-25T21:16:33.053143Z",
     "iopub.status.busy": "2023-03-25T21:16:33.052141Z",
     "iopub.status.idle": "2023-03-25T21:16:33.062269Z",
     "shell.execute_reply": "2023-03-25T21:16:33.061188Z"
    },
    "papermill": {
     "duration": 0.020224,
     "end_time": "2023-03-25T21:16:33.064485",
     "exception": false,
     "start_time": "2023-03-25T21:16:33.044261",
     "status": "completed"
    },
    "tags": []
   },
   "outputs": [
    {
     "data": {
      "text/html": [
       "<div>\n",
       "<style scoped>\n",
       "    .dataframe tbody tr th:only-of-type {\n",
       "        vertical-align: middle;\n",
       "    }\n",
       "\n",
       "    .dataframe tbody tr th {\n",
       "        vertical-align: top;\n",
       "    }\n",
       "\n",
       "    .dataframe thead th {\n",
       "        text-align: right;\n",
       "    }\n",
       "</style>\n",
       "<table border=\"1\" class=\"dataframe\">\n",
       "  <thead>\n",
       "    <tr style=\"text-align: right;\">\n",
       "      <th></th>\n",
       "      <th>id</th>\n",
       "      <th>target</th>\n",
       "    </tr>\n",
       "  </thead>\n",
       "  <tbody>\n",
       "    <tr>\n",
       "      <th>0</th>\n",
       "      <td>0</td>\n",
       "      <td>1</td>\n",
       "    </tr>\n",
       "    <tr>\n",
       "      <th>1</th>\n",
       "      <td>2</td>\n",
       "      <td>0</td>\n",
       "    </tr>\n",
       "    <tr>\n",
       "      <th>2</th>\n",
       "      <td>3</td>\n",
       "      <td>1</td>\n",
       "    </tr>\n",
       "    <tr>\n",
       "      <th>3</th>\n",
       "      <td>9</td>\n",
       "      <td>1</td>\n",
       "    </tr>\n",
       "    <tr>\n",
       "      <th>4</th>\n",
       "      <td>11</td>\n",
       "      <td>1</td>\n",
       "    </tr>\n",
       "  </tbody>\n",
       "</table>\n",
       "</div>"
      ],
      "text/plain": [
       "   id  target\n",
       "0   0       1\n",
       "1   2       0\n",
       "2   3       1\n",
       "3   9       1\n",
       "4  11       1"
      ]
     },
     "execution_count": 18,
     "metadata": {},
     "output_type": "execute_result"
    }
   ],
   "source": [
    "submition.head()"
   ]
  },
  {
   "cell_type": "code",
   "execution_count": 19,
   "id": "9d2fae2f",
   "metadata": {
    "execution": {
     "iopub.execute_input": "2023-03-25T21:16:33.079656Z",
     "iopub.status.busy": "2023-03-25T21:16:33.079270Z",
     "iopub.status.idle": "2023-03-25T21:16:33.093403Z",
     "shell.execute_reply": "2023-03-25T21:16:33.092065Z"
    },
    "papermill": {
     "duration": 0.024972,
     "end_time": "2023-03-25T21:16:33.096117",
     "exception": false,
     "start_time": "2023-03-25T21:16:33.071145",
     "status": "completed"
    },
    "tags": []
   },
   "outputs": [],
   "source": [
    "submition.to_csv('submition.csv',index=False)"
   ]
  },
  {
   "cell_type": "code",
   "execution_count": null,
   "id": "ba27ec0b",
   "metadata": {
    "papermill": {
     "duration": 0.00617,
     "end_time": "2023-03-25T21:16:33.109140",
     "exception": false,
     "start_time": "2023-03-25T21:16:33.102970",
     "status": "completed"
    },
    "tags": []
   },
   "outputs": [],
   "source": []
  }
 ],
 "metadata": {
  "kernelspec": {
   "display_name": "Python 3",
   "language": "python",
   "name": "python3"
  },
  "language_info": {
   "codemirror_mode": {
    "name": "ipython",
    "version": 3
   },
   "file_extension": ".py",
   "mimetype": "text/x-python",
   "name": "python",
   "nbconvert_exporter": "python",
   "pygments_lexer": "ipython3",
   "version": "3.7.12"
  },
  "papermill": {
   "default_parameters": {},
   "duration": 136.705644,
   "end_time": "2023-03-25T21:16:35.872926",
   "environment_variables": {},
   "exception": null,
   "input_path": "__notebook__.ipynb",
   "output_path": "__notebook__.ipynb",
   "parameters": {},
   "start_time": "2023-03-25T21:14:19.167282",
   "version": "2.4.0"
  }
 },
 "nbformat": 4,
 "nbformat_minor": 5
}
