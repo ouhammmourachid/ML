{
 "cells": [
  {
   "cell_type": "code",
   "execution_count": 1,
   "id": "d0a6537d",
   "metadata": {
    "_cell_guid": "b1076dfc-b9ad-4769-8c92-a6c4dae69d19",
    "_uuid": "8f2839f25d086af736a60e9eeb907d3b93b6e0e5",
    "execution": {
     "iopub.execute_input": "2023-03-27T09:43:51.874442Z",
     "iopub.status.busy": "2023-03-27T09:43:51.873842Z",
     "iopub.status.idle": "2023-03-27T09:44:08.338279Z",
     "shell.execute_reply": "2023-03-27T09:44:08.336843Z"
    },
    "papermill": {
     "duration": 16.476579,
     "end_time": "2023-03-27T09:44:08.341708",
     "exception": false,
     "start_time": "2023-03-27T09:43:51.865129",
     "status": "completed"
    },
    "tags": []
   },
   "outputs": [],
   "source": [
    "import numpy as np\n",
    "from wordcloud import WordCloud\n",
    "import spacy\n",
    "from sklearn.feature_extraction.text import CountVectorizer\n",
    "import matplotlib.pyplot as plt\n",
    "import pandas as pd\n",
    "from nltk.tokenize import TweetTokenizer\n",
    "from sklearn.naive_bayes import MultinomialNB\n",
    "from sklearn.metrics import f1_score\n",
    "import warnings\n",
    "warnings.filterwarnings('ignore')\n",
    "plt.style.use(\"seaborn-whitegrid\")\n",
    "plt.rc(\"figure\", autolayout=True)\n",
    "plt.rc(\n",
    "    \"axes\",\n",
    "    labelweight=\"bold\",\n",
    "    labelsize=\"large\",\n",
    "    titleweight=\"bold\",\n",
    "    titlesize=14,\n",
    "    titlepad=10,\n",
    ")"
   ]
  },
  {
   "cell_type": "code",
   "execution_count": 2,
   "id": "7d1c3999",
   "metadata": {
    "execution": {
     "iopub.execute_input": "2023-03-27T09:44:08.356206Z",
     "iopub.status.busy": "2023-03-27T09:44:08.354949Z",
     "iopub.status.idle": "2023-03-27T09:44:08.418396Z",
     "shell.execute_reply": "2023-03-27T09:44:08.417378Z"
    },
    "papermill": {
     "duration": 0.074028,
     "end_time": "2023-03-27T09:44:08.421462",
     "exception": false,
     "start_time": "2023-03-27T09:44:08.347434",
     "status": "completed"
    },
    "tags": []
   },
   "outputs": [],
   "source": [
    "path = \"/kaggle/input/nlp-getting-started/\"\n",
    "train_data = pd.read_csv(path+\"train.csv\", index_col=0)"
   ]
  },
  {
   "cell_type": "code",
   "execution_count": 3,
   "id": "a1466d7b",
   "metadata": {
    "execution": {
     "iopub.execute_input": "2023-03-27T09:44:08.435211Z",
     "iopub.status.busy": "2023-03-27T09:44:08.434454Z",
     "iopub.status.idle": "2023-03-27T09:44:08.461398Z",
     "shell.execute_reply": "2023-03-27T09:44:08.459943Z"
    },
    "papermill": {
     "duration": 0.037654,
     "end_time": "2023-03-27T09:44:08.464629",
     "exception": false,
     "start_time": "2023-03-27T09:44:08.426975",
     "status": "completed"
    },
    "tags": []
   },
   "outputs": [
    {
     "data": {
      "text/html": [
       "<div>\n",
       "<style scoped>\n",
       "    .dataframe tbody tr th:only-of-type {\n",
       "        vertical-align: middle;\n",
       "    }\n",
       "\n",
       "    .dataframe tbody tr th {\n",
       "        vertical-align: top;\n",
       "    }\n",
       "\n",
       "    .dataframe thead th {\n",
       "        text-align: right;\n",
       "    }\n",
       "</style>\n",
       "<table border=\"1\" class=\"dataframe\">\n",
       "  <thead>\n",
       "    <tr style=\"text-align: right;\">\n",
       "      <th></th>\n",
       "      <th>keyword</th>\n",
       "      <th>location</th>\n",
       "      <th>text</th>\n",
       "      <th>target</th>\n",
       "    </tr>\n",
       "    <tr>\n",
       "      <th>id</th>\n",
       "      <th></th>\n",
       "      <th></th>\n",
       "      <th></th>\n",
       "      <th></th>\n",
       "    </tr>\n",
       "  </thead>\n",
       "  <tbody>\n",
       "    <tr>\n",
       "      <th>1</th>\n",
       "      <td>NaN</td>\n",
       "      <td>NaN</td>\n",
       "      <td>Our Deeds are the Reason of this #earthquake M...</td>\n",
       "      <td>1</td>\n",
       "    </tr>\n",
       "    <tr>\n",
       "      <th>4</th>\n",
       "      <td>NaN</td>\n",
       "      <td>NaN</td>\n",
       "      <td>Forest fire near La Ronge Sask. Canada</td>\n",
       "      <td>1</td>\n",
       "    </tr>\n",
       "    <tr>\n",
       "      <th>5</th>\n",
       "      <td>NaN</td>\n",
       "      <td>NaN</td>\n",
       "      <td>All residents asked to 'shelter in place' are ...</td>\n",
       "      <td>1</td>\n",
       "    </tr>\n",
       "    <tr>\n",
       "      <th>6</th>\n",
       "      <td>NaN</td>\n",
       "      <td>NaN</td>\n",
       "      <td>13,000 people receive #wildfires evacuation or...</td>\n",
       "      <td>1</td>\n",
       "    </tr>\n",
       "    <tr>\n",
       "      <th>7</th>\n",
       "      <td>NaN</td>\n",
       "      <td>NaN</td>\n",
       "      <td>Just got sent this photo from Ruby #Alaska as ...</td>\n",
       "      <td>1</td>\n",
       "    </tr>\n",
       "  </tbody>\n",
       "</table>\n",
       "</div>"
      ],
      "text/plain": [
       "   keyword location                                               text  target\n",
       "id                                                                            \n",
       "1      NaN      NaN  Our Deeds are the Reason of this #earthquake M...       1\n",
       "4      NaN      NaN             Forest fire near La Ronge Sask. Canada       1\n",
       "5      NaN      NaN  All residents asked to 'shelter in place' are ...       1\n",
       "6      NaN      NaN  13,000 people receive #wildfires evacuation or...       1\n",
       "7      NaN      NaN  Just got sent this photo from Ruby #Alaska as ...       1"
      ]
     },
     "execution_count": 3,
     "metadata": {},
     "output_type": "execute_result"
    }
   ],
   "source": [
    "train_data.head()"
   ]
  },
  {
   "cell_type": "markdown",
   "id": "c014eabb",
   "metadata": {
    "papermill": {
     "duration": 0.00586,
     "end_time": "2023-03-27T09:44:08.476766",
     "exception": false,
     "start_time": "2023-03-27T09:44:08.470906",
     "status": "completed"
    },
    "tags": []
   },
   "source": [
    "#### 2- preprocessing the data:"
   ]
  },
  {
   "cell_type": "code",
   "execution_count": null,
   "id": "245a2a2f",
   "metadata": {
    "papermill": {
     "duration": 0.005392,
     "end_time": "2023-03-27T09:44:08.489348",
     "exception": false,
     "start_time": "2023-03-27T09:44:08.483956",
     "status": "completed"
    },
    "tags": []
   },
   "outputs": [],
   "source": []
  },
  {
   "cell_type": "code",
   "execution_count": 4,
   "id": "95efb9d2",
   "metadata": {
    "execution": {
     "iopub.execute_input": "2023-03-27T09:44:08.503625Z",
     "iopub.status.busy": "2023-03-27T09:44:08.503109Z",
     "iopub.status.idle": "2023-03-27T09:44:08.514249Z",
     "shell.execute_reply": "2023-03-27T09:44:08.512714Z"
    },
    "papermill": {
     "duration": 0.021978,
     "end_time": "2023-03-27T09:44:08.517073",
     "exception": false,
     "start_time": "2023-03-27T09:44:08.495095",
     "status": "completed"
    },
    "tags": []
   },
   "outputs": [],
   "source": [
    "y_train = train_data[\"target\"]\n",
    "x_train = train_data.drop([\"keyword\",\"location\",\"target\"],axis = 1)\n"
   ]
  },
  {
   "cell_type": "code",
   "execution_count": 5,
   "id": "464960b1",
   "metadata": {
    "execution": {
     "iopub.execute_input": "2023-03-27T09:44:08.531282Z",
     "iopub.status.busy": "2023-03-27T09:44:08.530056Z",
     "iopub.status.idle": "2023-03-27T09:44:08.538269Z",
     "shell.execute_reply": "2023-03-27T09:44:08.536890Z"
    },
    "papermill": {
     "duration": 0.018152,
     "end_time": "2023-03-27T09:44:08.540931",
     "exception": false,
     "start_time": "2023-03-27T09:44:08.522779",
     "status": "completed"
    },
    "tags": []
   },
   "outputs": [
    {
     "data": {
      "text/plain": [
       "(7613, 1)"
      ]
     },
     "execution_count": 5,
     "metadata": {},
     "output_type": "execute_result"
    }
   ],
   "source": [
    "x_train.shape"
   ]
  },
  {
   "cell_type": "code",
   "execution_count": 6,
   "id": "77b8410a",
   "metadata": {
    "execution": {
     "iopub.execute_input": "2023-03-27T09:44:08.554743Z",
     "iopub.status.busy": "2023-03-27T09:44:08.553979Z",
     "iopub.status.idle": "2023-03-27T09:44:08.563989Z",
     "shell.execute_reply": "2023-03-27T09:44:08.562878Z"
    },
    "papermill": {
     "duration": 0.019768,
     "end_time": "2023-03-27T09:44:08.566534",
     "exception": false,
     "start_time": "2023-03-27T09:44:08.546766",
     "status": "completed"
    },
    "tags": []
   },
   "outputs": [
    {
     "data": {
      "text/plain": [
       "'our deeds are the reason of this #earthquake may allah forgive us all'"
      ]
     },
     "execution_count": 6,
     "metadata": {},
     "output_type": "execute_result"
    }
   ],
   "source": [
    "def preprocess(text: str) -> str :\n",
    "    return ' '.join([token.lower() for token in TweetTokenizer().tokenize(text)])\n",
    "\n",
    "preprocess(x_train.loc[1].text)"
   ]
  },
  {
   "cell_type": "code",
   "execution_count": 7,
   "id": "becbcea5",
   "metadata": {
    "execution": {
     "iopub.execute_input": "2023-03-27T09:44:08.580528Z",
     "iopub.status.busy": "2023-03-27T09:44:08.580114Z",
     "iopub.status.idle": "2023-03-27T09:44:08.949256Z",
     "shell.execute_reply": "2023-03-27T09:44:08.947856Z"
    },
    "papermill": {
     "duration": 0.379957,
     "end_time": "2023-03-27T09:44:08.952435",
     "exception": false,
     "start_time": "2023-03-27T09:44:08.572478",
     "status": "completed"
    },
    "tags": []
   },
   "outputs": [],
   "source": [
    "x_train['processed_text'] = x_train.text.apply(lambda txt : preprocess(txt))"
   ]
  },
  {
   "cell_type": "code",
   "execution_count": 8,
   "id": "2b566c9f",
   "metadata": {
    "execution": {
     "iopub.execute_input": "2023-03-27T09:44:08.966628Z",
     "iopub.status.busy": "2023-03-27T09:44:08.966204Z",
     "iopub.status.idle": "2023-03-27T09:44:08.978279Z",
     "shell.execute_reply": "2023-03-27T09:44:08.976869Z"
    },
    "papermill": {
     "duration": 0.022102,
     "end_time": "2023-03-27T09:44:08.980966",
     "exception": false,
     "start_time": "2023-03-27T09:44:08.958864",
     "status": "completed"
    },
    "tags": []
   },
   "outputs": [
    {
     "data": {
      "text/html": [
       "<div>\n",
       "<style scoped>\n",
       "    .dataframe tbody tr th:only-of-type {\n",
       "        vertical-align: middle;\n",
       "    }\n",
       "\n",
       "    .dataframe tbody tr th {\n",
       "        vertical-align: top;\n",
       "    }\n",
       "\n",
       "    .dataframe thead th {\n",
       "        text-align: right;\n",
       "    }\n",
       "</style>\n",
       "<table border=\"1\" class=\"dataframe\">\n",
       "  <thead>\n",
       "    <tr style=\"text-align: right;\">\n",
       "      <th></th>\n",
       "      <th>text</th>\n",
       "      <th>processed_text</th>\n",
       "    </tr>\n",
       "    <tr>\n",
       "      <th>id</th>\n",
       "      <th></th>\n",
       "      <th></th>\n",
       "    </tr>\n",
       "  </thead>\n",
       "  <tbody>\n",
       "    <tr>\n",
       "      <th>1</th>\n",
       "      <td>Our Deeds are the Reason of this #earthquake M...</td>\n",
       "      <td>our deeds are the reason of this #earthquake m...</td>\n",
       "    </tr>\n",
       "    <tr>\n",
       "      <th>4</th>\n",
       "      <td>Forest fire near La Ronge Sask. Canada</td>\n",
       "      <td>forest fire near la ronge sask . canada</td>\n",
       "    </tr>\n",
       "    <tr>\n",
       "      <th>5</th>\n",
       "      <td>All residents asked to 'shelter in place' are ...</td>\n",
       "      <td>all residents asked to ' shelter in place ' ar...</td>\n",
       "    </tr>\n",
       "    <tr>\n",
       "      <th>6</th>\n",
       "      <td>13,000 people receive #wildfires evacuation or...</td>\n",
       "      <td>13,000 people receive #wildfires evacuation or...</td>\n",
       "    </tr>\n",
       "    <tr>\n",
       "      <th>7</th>\n",
       "      <td>Just got sent this photo from Ruby #Alaska as ...</td>\n",
       "      <td>just got sent this photo from ruby #alaska as ...</td>\n",
       "    </tr>\n",
       "  </tbody>\n",
       "</table>\n",
       "</div>"
      ],
      "text/plain": [
       "                                                 text  \\\n",
       "id                                                      \n",
       "1   Our Deeds are the Reason of this #earthquake M...   \n",
       "4              Forest fire near La Ronge Sask. Canada   \n",
       "5   All residents asked to 'shelter in place' are ...   \n",
       "6   13,000 people receive #wildfires evacuation or...   \n",
       "7   Just got sent this photo from Ruby #Alaska as ...   \n",
       "\n",
       "                                       processed_text  \n",
       "id                                                     \n",
       "1   our deeds are the reason of this #earthquake m...  \n",
       "4             forest fire near la ronge sask . canada  \n",
       "5   all residents asked to ' shelter in place ' ar...  \n",
       "6   13,000 people receive #wildfires evacuation or...  \n",
       "7   just got sent this photo from ruby #alaska as ...  "
      ]
     },
     "execution_count": 8,
     "metadata": {},
     "output_type": "execute_result"
    }
   ],
   "source": [
    "x_train.head()"
   ]
  },
  {
   "cell_type": "code",
   "execution_count": 9,
   "id": "e43a1791",
   "metadata": {
    "execution": {
     "iopub.execute_input": "2023-03-27T09:44:08.995822Z",
     "iopub.status.busy": "2023-03-27T09:44:08.995411Z",
     "iopub.status.idle": "2023-03-27T09:44:09.191610Z",
     "shell.execute_reply": "2023-03-27T09:44:09.190154Z"
    },
    "papermill": {
     "duration": 0.20712,
     "end_time": "2023-03-27T09:44:09.194690",
     "exception": false,
     "start_time": "2023-03-27T09:44:08.987570",
     "status": "completed"
    },
    "tags": []
   },
   "outputs": [],
   "source": [
    "cv = CountVectorizer()\n",
    "\n",
    "X = cv.fit_transform(x_train.processed_text)"
   ]
  },
  {
   "cell_type": "code",
   "execution_count": 10,
   "id": "17c924b8",
   "metadata": {
    "execution": {
     "iopub.execute_input": "2023-03-27T09:44:09.209891Z",
     "iopub.status.busy": "2023-03-27T09:44:09.209398Z",
     "iopub.status.idle": "2023-03-27T09:44:09.230542Z",
     "shell.execute_reply": "2023-03-27T09:44:09.228479Z"
    },
    "papermill": {
     "duration": 0.034091,
     "end_time": "2023-03-27T09:44:09.235311",
     "exception": false,
     "start_time": "2023-03-27T09:44:09.201220",
     "status": "completed"
    },
    "tags": []
   },
   "outputs": [
    {
     "name": "stdout",
     "output_type": "stream",
     "text": [
      "F1 score:  0.8822006472491908\n"
     ]
    }
   ],
   "source": [
    "y = y_train\n",
    "# 1. Declare the model\n",
    "clf = MultinomialNB()\n",
    "\n",
    "# 2. Train the model\n",
    "clf.fit(X, y)\n",
    "\n",
    "# 3. Make predictions \n",
    "yhat = clf.predict(X)\n",
    "\n",
    "# 4. score\n",
    "print(\"F1 score: \",f1_score(y, yhat))"
   ]
  },
  {
   "cell_type": "code",
   "execution_count": 11,
   "id": "9e4df74f",
   "metadata": {
    "execution": {
     "iopub.execute_input": "2023-03-27T09:44:09.252079Z",
     "iopub.status.busy": "2023-03-27T09:44:09.251591Z",
     "iopub.status.idle": "2023-03-27T09:44:09.462181Z",
     "shell.execute_reply": "2023-03-27T09:44:09.460631Z"
    },
    "papermill": {
     "duration": 0.222048,
     "end_time": "2023-03-27T09:44:09.465158",
     "exception": false,
     "start_time": "2023-03-27T09:44:09.243110",
     "status": "completed"
    },
    "tags": []
   },
   "outputs": [
    {
     "data": {
      "text/html": [
       "<div>\n",
       "<style scoped>\n",
       "    .dataframe tbody tr th:only-of-type {\n",
       "        vertical-align: middle;\n",
       "    }\n",
       "\n",
       "    .dataframe tbody tr th {\n",
       "        vertical-align: top;\n",
       "    }\n",
       "\n",
       "    .dataframe thead th {\n",
       "        text-align: right;\n",
       "    }\n",
       "</style>\n",
       "<table border=\"1\" class=\"dataframe\">\n",
       "  <thead>\n",
       "    <tr style=\"text-align: right;\">\n",
       "      <th></th>\n",
       "      <th>keyword</th>\n",
       "      <th>location</th>\n",
       "      <th>text</th>\n",
       "      <th>processed_text</th>\n",
       "    </tr>\n",
       "    <tr>\n",
       "      <th>id</th>\n",
       "      <th></th>\n",
       "      <th></th>\n",
       "      <th></th>\n",
       "      <th></th>\n",
       "    </tr>\n",
       "  </thead>\n",
       "  <tbody>\n",
       "    <tr>\n",
       "      <th>0</th>\n",
       "      <td>NaN</td>\n",
       "      <td>NaN</td>\n",
       "      <td>Just happened a terrible car crash</td>\n",
       "      <td>just happened a terrible car crash</td>\n",
       "    </tr>\n",
       "    <tr>\n",
       "      <th>2</th>\n",
       "      <td>NaN</td>\n",
       "      <td>NaN</td>\n",
       "      <td>Heard about #earthquake is different cities, s...</td>\n",
       "      <td>heard about #earthquake is different cities , ...</td>\n",
       "    </tr>\n",
       "    <tr>\n",
       "      <th>3</th>\n",
       "      <td>NaN</td>\n",
       "      <td>NaN</td>\n",
       "      <td>there is a forest fire at spot pond, geese are...</td>\n",
       "      <td>there is a forest fire at spot pond , geese ar...</td>\n",
       "    </tr>\n",
       "    <tr>\n",
       "      <th>9</th>\n",
       "      <td>NaN</td>\n",
       "      <td>NaN</td>\n",
       "      <td>Apocalypse lighting. #Spokane #wildfires</td>\n",
       "      <td>apocalypse lighting . #spokane #wildfires</td>\n",
       "    </tr>\n",
       "    <tr>\n",
       "      <th>11</th>\n",
       "      <td>NaN</td>\n",
       "      <td>NaN</td>\n",
       "      <td>Typhoon Soudelor kills 28 in China and Taiwan</td>\n",
       "      <td>typhoon soudelor kills 28 in china and taiwan</td>\n",
       "    </tr>\n",
       "  </tbody>\n",
       "</table>\n",
       "</div>"
      ],
      "text/plain": [
       "   keyword location                                               text  \\\n",
       "id                                                                       \n",
       "0      NaN      NaN                 Just happened a terrible car crash   \n",
       "2      NaN      NaN  Heard about #earthquake is different cities, s...   \n",
       "3      NaN      NaN  there is a forest fire at spot pond, geese are...   \n",
       "9      NaN      NaN           Apocalypse lighting. #Spokane #wildfires   \n",
       "11     NaN      NaN      Typhoon Soudelor kills 28 in China and Taiwan   \n",
       "\n",
       "                                       processed_text  \n",
       "id                                                     \n",
       "0                  just happened a terrible car crash  \n",
       "2   heard about #earthquake is different cities , ...  \n",
       "3   there is a forest fire at spot pond , geese ar...  \n",
       "9           apocalypse lighting . #spokane #wildfires  \n",
       "11      typhoon soudelor kills 28 in china and taiwan  "
      ]
     },
     "execution_count": 11,
     "metadata": {},
     "output_type": "execute_result"
    }
   ],
   "source": [
    "x_test = pd.read_csv(path+\"test.csv\", index_col=0)\n",
    "x_test['processed_text'] = x_test.text.apply(lambda txt : preprocess(txt))\n",
    "x_test.head()"
   ]
  },
  {
   "cell_type": "code",
   "execution_count": 12,
   "id": "6b3f4409",
   "metadata": {
    "execution": {
     "iopub.execute_input": "2023-03-27T09:44:09.482394Z",
     "iopub.status.busy": "2023-03-27T09:44:09.481971Z",
     "iopub.status.idle": "2023-03-27T09:44:09.547351Z",
     "shell.execute_reply": "2023-03-27T09:44:09.545777Z"
    },
    "papermill": {
     "duration": 0.077219,
     "end_time": "2023-03-27T09:44:09.550578",
     "exception": false,
     "start_time": "2023-03-27T09:44:09.473359",
     "status": "completed"
    },
    "tags": []
   },
   "outputs": [],
   "source": [
    "x_test_ = cv.transform(x_test.processed_text)"
   ]
  },
  {
   "cell_type": "code",
   "execution_count": 13,
   "id": "beeae2a3",
   "metadata": {
    "execution": {
     "iopub.execute_input": "2023-03-27T09:44:09.566583Z",
     "iopub.status.busy": "2023-03-27T09:44:09.565332Z",
     "iopub.status.idle": "2023-03-27T09:44:09.572529Z",
     "shell.execute_reply": "2023-03-27T09:44:09.570918Z"
    },
    "papermill": {
     "duration": 0.018251,
     "end_time": "2023-03-27T09:44:09.575687",
     "exception": false,
     "start_time": "2023-03-27T09:44:09.557436",
     "status": "completed"
    },
    "tags": []
   },
   "outputs": [],
   "source": [
    "y_test = clf.predict(x_test_)"
   ]
  },
  {
   "cell_type": "code",
   "execution_count": 14,
   "id": "c6fa4fb1",
   "metadata": {
    "execution": {
     "iopub.execute_input": "2023-03-27T09:44:09.591891Z",
     "iopub.status.busy": "2023-03-27T09:44:09.590639Z",
     "iopub.status.idle": "2023-03-27T09:44:09.598543Z",
     "shell.execute_reply": "2023-03-27T09:44:09.597514Z"
    },
    "papermill": {
     "duration": 0.018516,
     "end_time": "2023-03-27T09:44:09.601102",
     "exception": false,
     "start_time": "2023-03-27T09:44:09.582586",
     "status": "completed"
    },
    "tags": []
   },
   "outputs": [
    {
     "data": {
      "text/plain": [
       "(3263,)"
      ]
     },
     "execution_count": 14,
     "metadata": {},
     "output_type": "execute_result"
    }
   ],
   "source": [
    "y_test.shape"
   ]
  },
  {
   "cell_type": "code",
   "execution_count": 15,
   "id": "73bce907",
   "metadata": {
    "execution": {
     "iopub.execute_input": "2023-03-27T09:44:09.616737Z",
     "iopub.status.busy": "2023-03-27T09:44:09.615850Z",
     "iopub.status.idle": "2023-03-27T09:44:09.624552Z",
     "shell.execute_reply": "2023-03-27T09:44:09.623075Z"
    },
    "papermill": {
     "duration": 0.019385,
     "end_time": "2023-03-27T09:44:09.627307",
     "exception": false,
     "start_time": "2023-03-27T09:44:09.607922",
     "status": "completed"
    },
    "tags": []
   },
   "outputs": [
    {
     "data": {
      "text/plain": [
       "(3263, 21615)"
      ]
     },
     "execution_count": 15,
     "metadata": {},
     "output_type": "execute_result"
    }
   ],
   "source": [
    "x_test_.shape"
   ]
  },
  {
   "cell_type": "code",
   "execution_count": 16,
   "id": "6c6c80bf",
   "metadata": {
    "execution": {
     "iopub.execute_input": "2023-03-27T09:44:09.642795Z",
     "iopub.status.busy": "2023-03-27T09:44:09.642375Z",
     "iopub.status.idle": "2023-03-27T09:44:09.648303Z",
     "shell.execute_reply": "2023-03-27T09:44:09.647093Z"
    },
    "papermill": {
     "duration": 0.016798,
     "end_time": "2023-03-27T09:44:09.650796",
     "exception": false,
     "start_time": "2023-03-27T09:44:09.633998",
     "status": "completed"
    },
    "tags": []
   },
   "outputs": [],
   "source": [
    "submition = pd.DataFrame({'id':x_test.index,'target':y_test})"
   ]
  },
  {
   "cell_type": "code",
   "execution_count": 17,
   "id": "81c97098",
   "metadata": {
    "execution": {
     "iopub.execute_input": "2023-03-27T09:44:09.666184Z",
     "iopub.status.busy": "2023-03-27T09:44:09.665729Z",
     "iopub.status.idle": "2023-03-27T09:44:09.677121Z",
     "shell.execute_reply": "2023-03-27T09:44:09.675723Z"
    },
    "papermill": {
     "duration": 0.022633,
     "end_time": "2023-03-27T09:44:09.679938",
     "exception": false,
     "start_time": "2023-03-27T09:44:09.657305",
     "status": "completed"
    },
    "tags": []
   },
   "outputs": [
    {
     "data": {
      "text/html": [
       "<div>\n",
       "<style scoped>\n",
       "    .dataframe tbody tr th:only-of-type {\n",
       "        vertical-align: middle;\n",
       "    }\n",
       "\n",
       "    .dataframe tbody tr th {\n",
       "        vertical-align: top;\n",
       "    }\n",
       "\n",
       "    .dataframe thead th {\n",
       "        text-align: right;\n",
       "    }\n",
       "</style>\n",
       "<table border=\"1\" class=\"dataframe\">\n",
       "  <thead>\n",
       "    <tr style=\"text-align: right;\">\n",
       "      <th></th>\n",
       "      <th>id</th>\n",
       "      <th>target</th>\n",
       "    </tr>\n",
       "  </thead>\n",
       "  <tbody>\n",
       "    <tr>\n",
       "      <th>0</th>\n",
       "      <td>0</td>\n",
       "      <td>1</td>\n",
       "    </tr>\n",
       "    <tr>\n",
       "      <th>1</th>\n",
       "      <td>2</td>\n",
       "      <td>1</td>\n",
       "    </tr>\n",
       "    <tr>\n",
       "      <th>2</th>\n",
       "      <td>3</td>\n",
       "      <td>1</td>\n",
       "    </tr>\n",
       "    <tr>\n",
       "      <th>3</th>\n",
       "      <td>9</td>\n",
       "      <td>1</td>\n",
       "    </tr>\n",
       "    <tr>\n",
       "      <th>4</th>\n",
       "      <td>11</td>\n",
       "      <td>1</td>\n",
       "    </tr>\n",
       "  </tbody>\n",
       "</table>\n",
       "</div>"
      ],
      "text/plain": [
       "   id  target\n",
       "0   0       1\n",
       "1   2       1\n",
       "2   3       1\n",
       "3   9       1\n",
       "4  11       1"
      ]
     },
     "execution_count": 17,
     "metadata": {},
     "output_type": "execute_result"
    }
   ],
   "source": [
    "submition.head()"
   ]
  },
  {
   "cell_type": "code",
   "execution_count": 18,
   "id": "be51fd8d",
   "metadata": {
    "execution": {
     "iopub.execute_input": "2023-03-27T09:44:09.696128Z",
     "iopub.status.busy": "2023-03-27T09:44:09.695344Z",
     "iopub.status.idle": "2023-03-27T09:44:09.711423Z",
     "shell.execute_reply": "2023-03-27T09:44:09.710022Z"
    },
    "papermill": {
     "duration": 0.027616,
     "end_time": "2023-03-27T09:44:09.714374",
     "exception": false,
     "start_time": "2023-03-27T09:44:09.686758",
     "status": "completed"
    },
    "tags": []
   },
   "outputs": [],
   "source": [
    "submition.to_csv('submition.csv',index=False)"
   ]
  }
 ],
 "metadata": {
  "kernelspec": {
   "display_name": "Python 3",
   "language": "python",
   "name": "python3"
  },
  "language_info": {
   "codemirror_mode": {
    "name": "ipython",
    "version": 3
   },
   "file_extension": ".py",
   "mimetype": "text/x-python",
   "name": "python",
   "nbconvert_exporter": "python",
   "pygments_lexer": "ipython3",
   "version": "3.7.12"
  },
  "papermill": {
   "default_parameters": {},
   "duration": 32.795479,
   "end_time": "2023-03-27T09:44:13.274690",
   "environment_variables": {},
   "exception": null,
   "input_path": "__notebook__.ipynb",
   "output_path": "__notebook__.ipynb",
   "parameters": {},
   "start_time": "2023-03-27T09:43:40.479211",
   "version": "2.4.0"
  }
 },
 "nbformat": 4,
 "nbformat_minor": 5
}
